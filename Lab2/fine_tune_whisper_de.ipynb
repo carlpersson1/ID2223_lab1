{
 "cells": [
  {
   "cell_type": "markdown",
   "metadata": {
    "id": "75b58048-7d14-4fc6-8085-1fc08c81b4a6"
   },
   "source": [
    "# Fine-Tune Whisper For Multilingual ASR with 🤗 Transformers"
   ],
   "id": "75b58048-7d14-4fc6-8085-1fc08c81b4a6"
  },
  {
   "cell_type": "markdown",
   "metadata": {
    "id": "fbfa8ad5-4cdc-4512-9058-836cbbf65e1a"
   },
   "source": [
    "In this Colab, we present a step-by-step guide on how to fine-tune Whisper\n",
    "for any multilingual ASR dataset using Hugging Face 🤗 Transformers. This is a\n",
    "more \"hands-on\" version of the accompanying [blog post](https://huggingface.co/blog/fine-tune-whisper).\n",
    "For a more in-depth explanation of Whisper, the Common Voice dataset and the theory behind fine-tuning, the reader is advised to refer to the blog post."
   ],
   "id": "fbfa8ad5-4cdc-4512-9058-836cbbf65e1a"
  },
  {
   "cell_type": "markdown",
   "metadata": {
    "id": "55fb8d21-df06-472a-99dd-b59567be6dad"
   },
   "source": [
    "## Prepare Environment"
   ],
   "id": "55fb8d21-df06-472a-99dd-b59567be6dad"
  },
  {
   "cell_type": "markdown",
   "metadata": {
    "id": "844a4861-929c-4762-b29b-80b1e95aba4b"
   },
   "source": [
    "First of all, let's try to secure a decent GPU for our Colab! Unfortunately, it's becoming much harder to get access to a good GPU with the free version of Google Colab. However, with Google Colab Pro one should have no issues in being allocated a V100 or P100 GPU.\n",
    "\n",
    "To get a GPU, click _Runtime_ -> _Change runtime type_, then change _Hardware accelerator_ from _None_ to _GPU_."
   ],
   "id": "844a4861-929c-4762-b29b-80b1e95aba4b"
  },
  {
   "cell_type": "markdown",
   "metadata": {
    "id": "9abea5d7-9d54-434b-a6bd-399d1b3c6c1a"
   },
   "source": [
    "We can verify that we've been assigned a GPU and view its specifications:"
   ],
   "id": "9abea5d7-9d54-434b-a6bd-399d1b3c6c1a"
  },
  {
   "cell_type": "code",
   "execution_count": 1,
   "metadata": {
    "colab": {
     "base_uri": "https://localhost:8080/"
    },
    "executionInfo": {
     "elapsed": 284,
     "status": "ok",
     "timestamp": 1701599491970,
     "user": {
      "displayName": "Omid Fattahi Mehr",
      "userId": "14642429637507438411"
     },
     "user_tz": -60
    },
    "id": "95048026-a3b7-43f0-a274-1bad65e407b4",
    "outputId": "71f7ec54-3347-4e80-d3f8-5727f3cfe404",
    "ExecuteTime": {
     "start_time": "2023-12-09T22:35:17.517297Z",
     "end_time": "2023-12-09T22:35:19.808333Z"
    }
   },
   "outputs": [
    {
     "name": "stdout",
     "output_type": "stream",
     "text": [
      "/bin/bash: /home/cheesy/miniconda3/lib/libtinfo.so.6: no version information available (required by /bin/bash)\n",
      "/bin/bash: warning: setlocale: LC_ALL: cannot change locale (en_US.UTF-8)\n",
      "Sat Dec  9 22:35:17 2023       \n",
      "+---------------------------------------------------------------------------------------+\n",
      "| NVIDIA-SMI 545.29.01              Driver Version: 546.01       CUDA Version: 12.3     |\n",
      "|-----------------------------------------+----------------------+----------------------+\n",
      "| GPU  Name                 Persistence-M | Bus-Id        Disp.A | Volatile Uncorr. ECC |\n",
      "| Fan  Temp   Perf          Pwr:Usage/Cap |         Memory-Usage | GPU-Util  Compute M. |\n",
      "|                                         |                      |               MIG M. |\n",
      "|=========================================+======================+======================|\n",
      "|   0  NVIDIA GeForce RTX 3080        On  | 00000000:01:00.0  On |                  N/A |\n",
      "| 60%   46C    P8              34W / 340W |    827MiB / 10240MiB |     22%      Default |\n",
      "|                                         |                      |                  N/A |\n",
      "+-----------------------------------------+----------------------+----------------------+\n",
      "                                                                                         \n",
      "+---------------------------------------------------------------------------------------+\n",
      "| Processes:                                                                            |\n",
      "|  GPU   GI   CI        PID   Type   Process name                            GPU Memory |\n",
      "|        ID   ID                                                             Usage      |\n",
      "|=======================================================================================|\n",
      "|  No running processes found                                                           |\n",
      "+---------------------------------------------------------------------------------------+\n",
      "NVIDIA GeForce RTX 3080\n"
     ]
    }
   ],
   "source": [
    "gpu_info = !nvidia-smi\n",
    "gpu_info = '\\n'.join(gpu_info)\n",
    "if gpu_info.find('failed') >= 0:\n",
    "  print('Not connected to a GPU')\n",
    "else:\n",
    "  print(gpu_info)\n",
    "\n",
    "import torch\n",
    "print(torch.cuda.get_device_name(0))"
   ],
   "id": "95048026-a3b7-43f0-a274-1bad65e407b4"
  },
  {
   "cell_type": "markdown",
   "metadata": {
    "id": "1d85d613-1c7e-46ac-9134-660bbe7ebc9d"
   },
   "source": [
    "We'll employ several popular Python packages to fine-tune the Whisper model.\n",
    "We'll use `datasets` to download and prepare our training data and\n",
    "`transformers` to load and train our Whisper model. We'll also require\n",
    "the `soundfile` package to pre-process audio files, `evaluate` and `jiwer` to\n",
    "assess the performance of our model. Finally, we'll\n",
    "use `gradio` to build a flashy demo of our fine-tuned model."
   ],
   "id": "1d85d613-1c7e-46ac-9134-660bbe7ebc9d"
  },
  {
   "cell_type": "code",
   "execution_count": 26,
   "metadata": {
    "colab": {
     "base_uri": "https://localhost:8080/"
    },
    "executionInfo": {
     "elapsed": 77529,
     "status": "ok",
     "timestamp": 1701599574555,
     "user": {
      "displayName": "Omid Fattahi Mehr",
      "userId": "14642429637507438411"
     },
     "user_tz": -60
    },
    "id": "e68ea9f8-9b61-414e-8885-3033b67c2850",
    "outputId": "3afe7a34-ac0b-4e95-8b7b-ce301a896fa8",
    "ExecuteTime": {
     "start_time": "2023-12-09T14:26:03.414061Z",
     "end_time": "2023-12-09T14:26:15.811681Z"
    }
   },
   "outputs": [
    {
     "name": "stdout",
     "output_type": "stream",
     "text": [
      "/bin/bash: /home/cheesy/miniconda3/lib/libtinfo.so.6: no version information available (required by /bin/bash)\r\n",
      "/bin/bash: warning: setlocale: LC_ALL: cannot change locale (en_US.UTF-8)\r\n",
      "/bin/bash: /home/cheesy/miniconda3/lib/libtinfo.so.6: no version information available (required by /bin/bash)\r\n",
      "/bin/bash: warning: setlocale: LC_ALL: cannot change locale (en_US.UTF-8)\r\n",
      "Requirement already satisfied: transformers in /home/cheesy/miniconda3/envs/ml/lib/python3.11/site-packages (4.35.2)\r\n",
      "Requirement already satisfied: filelock in /home/cheesy/miniconda3/envs/ml/lib/python3.11/site-packages (from transformers) (3.9.0)\r\n",
      "Requirement already satisfied: huggingface-hub<1.0,>=0.16.4 in /home/cheesy/miniconda3/envs/ml/lib/python3.11/site-packages (from transformers) (0.19.4)\r\n",
      "Requirement already satisfied: numpy>=1.17 in /home/cheesy/miniconda3/envs/ml/lib/python3.11/site-packages (from transformers) (1.24.1)\r\n",
      "Requirement already satisfied: packaging>=20.0 in /home/cheesy/miniconda3/envs/ml/lib/python3.11/site-packages (from transformers) (23.2)\r\n",
      "Requirement already satisfied: pyyaml>=5.1 in /home/cheesy/miniconda3/envs/ml/lib/python3.11/site-packages (from transformers) (6.0.1)\r\n",
      "Requirement already satisfied: regex!=2019.12.17 in /home/cheesy/miniconda3/envs/ml/lib/python3.11/site-packages (from transformers) (2023.10.3)\r\n",
      "Requirement already satisfied: requests in /home/cheesy/miniconda3/envs/ml/lib/python3.11/site-packages (from transformers) (2.31.0)\r\n",
      "Requirement already satisfied: tokenizers<0.19,>=0.14 in /home/cheesy/miniconda3/envs/ml/lib/python3.11/site-packages (from transformers) (0.15.0)\r\n",
      "Requirement already satisfied: safetensors>=0.3.1 in /home/cheesy/miniconda3/envs/ml/lib/python3.11/site-packages (from transformers) (0.4.1)\r\n",
      "Requirement already satisfied: tqdm>=4.27 in /home/cheesy/miniconda3/envs/ml/lib/python3.11/site-packages (from transformers) (4.66.1)\r\n",
      "Requirement already satisfied: fsspec>=2023.5.0 in /home/cheesy/miniconda3/envs/ml/lib/python3.11/site-packages (from huggingface-hub<1.0,>=0.16.4->transformers) (2023.9.2)\r\n",
      "Requirement already satisfied: typing-extensions>=3.7.4.3 in /home/cheesy/miniconda3/envs/ml/lib/python3.11/site-packages (from huggingface-hub<1.0,>=0.16.4->transformers) (4.8.0)\r\n",
      "Requirement already satisfied: charset-normalizer<4,>=2 in /home/cheesy/miniconda3/envs/ml/lib/python3.11/site-packages (from requests->transformers) (2.1.1)\r\n",
      "Requirement already satisfied: idna<4,>=2.5 in /home/cheesy/miniconda3/envs/ml/lib/python3.11/site-packages (from requests->transformers) (3.4)\r\n",
      "Requirement already satisfied: urllib3<3,>=1.21.1 in /home/cheesy/miniconda3/envs/ml/lib/python3.11/site-packages (from requests->transformers) (1.26.13)\r\n",
      "Requirement already satisfied: certifi>=2017.4.17 in /home/cheesy/miniconda3/envs/ml/lib/python3.11/site-packages (from requests->transformers) (2022.12.7)\r\n",
      "/bin/bash: /home/cheesy/miniconda3/lib/libtinfo.so.6: no version information available (required by /bin/bash)\r\n",
      "/bin/bash: warning: setlocale: LC_ALL: cannot change locale (en_US.UTF-8)\r\n",
      "Requirement already satisfied: librosa in /home/cheesy/miniconda3/envs/ml/lib/python3.11/site-packages (0.10.1)\r\n",
      "Requirement already satisfied: audioread>=2.1.9 in /home/cheesy/miniconda3/envs/ml/lib/python3.11/site-packages (from librosa) (3.0.1)\r\n",
      "Requirement already satisfied: numpy!=1.22.0,!=1.22.1,!=1.22.2,>=1.20.3 in /home/cheesy/miniconda3/envs/ml/lib/python3.11/site-packages (from librosa) (1.24.1)\r\n",
      "Requirement already satisfied: scipy>=1.2.0 in /home/cheesy/miniconda3/envs/ml/lib/python3.11/site-packages (from librosa) (1.11.3)\r\n",
      "Requirement already satisfied: scikit-learn>=0.20.0 in /home/cheesy/miniconda3/envs/ml/lib/python3.11/site-packages (from librosa) (1.3.1)\r\n",
      "Requirement already satisfied: joblib>=0.14 in /home/cheesy/miniconda3/envs/ml/lib/python3.11/site-packages (from librosa) (1.3.2)\r\n",
      "Requirement already satisfied: decorator>=4.3.0 in /home/cheesy/miniconda3/envs/ml/lib/python3.11/site-packages (from librosa) (5.1.1)\r\n",
      "Requirement already satisfied: numba>=0.51.0 in /home/cheesy/miniconda3/envs/ml/lib/python3.11/site-packages (from librosa) (0.58.1)\r\n",
      "Requirement already satisfied: soundfile>=0.12.1 in /home/cheesy/miniconda3/envs/ml/lib/python3.11/site-packages (from librosa) (0.12.1)\r\n",
      "Requirement already satisfied: pooch>=1.0 in /home/cheesy/miniconda3/envs/ml/lib/python3.11/site-packages (from librosa) (1.8.0)\r\n",
      "Requirement already satisfied: soxr>=0.3.2 in /home/cheesy/miniconda3/envs/ml/lib/python3.11/site-packages (from librosa) (0.3.7)\r\n",
      "Requirement already satisfied: typing-extensions>=4.1.1 in /home/cheesy/miniconda3/envs/ml/lib/python3.11/site-packages (from librosa) (4.8.0)\r\n",
      "Requirement already satisfied: lazy-loader>=0.1 in /home/cheesy/miniconda3/envs/ml/lib/python3.11/site-packages (from librosa) (0.3)\r\n",
      "Requirement already satisfied: msgpack>=1.0 in /home/cheesy/miniconda3/envs/ml/lib/python3.11/site-packages (from librosa) (1.0.7)\r\n",
      "Requirement already satisfied: llvmlite<0.42,>=0.41.0dev0 in /home/cheesy/miniconda3/envs/ml/lib/python3.11/site-packages (from numba>=0.51.0->librosa) (0.41.1)\r\n",
      "Requirement already satisfied: platformdirs>=2.5.0 in /home/cheesy/miniconda3/envs/ml/lib/python3.11/site-packages (from pooch>=1.0->librosa) (3.11.0)\r\n",
      "Requirement already satisfied: packaging>=20.0 in /home/cheesy/miniconda3/envs/ml/lib/python3.11/site-packages (from pooch>=1.0->librosa) (23.2)\r\n",
      "Requirement already satisfied: requests>=2.19.0 in /home/cheesy/miniconda3/envs/ml/lib/python3.11/site-packages (from pooch>=1.0->librosa) (2.31.0)\r\n",
      "Requirement already satisfied: threadpoolctl>=2.0.0 in /home/cheesy/miniconda3/envs/ml/lib/python3.11/site-packages (from scikit-learn>=0.20.0->librosa) (3.2.0)\r\n",
      "Requirement already satisfied: cffi>=1.0 in /home/cheesy/miniconda3/envs/ml/lib/python3.11/site-packages (from soundfile>=0.12.1->librosa) (1.16.0)\r\n",
      "Requirement already satisfied: pycparser in /home/cheesy/miniconda3/envs/ml/lib/python3.11/site-packages (from cffi>=1.0->soundfile>=0.12.1->librosa) (2.21)\r\n",
      "Requirement already satisfied: charset-normalizer<4,>=2 in /home/cheesy/miniconda3/envs/ml/lib/python3.11/site-packages (from requests>=2.19.0->pooch>=1.0->librosa) (2.1.1)\r\n",
      "Requirement already satisfied: idna<4,>=2.5 in /home/cheesy/miniconda3/envs/ml/lib/python3.11/site-packages (from requests>=2.19.0->pooch>=1.0->librosa) (3.4)\r\n",
      "Requirement already satisfied: urllib3<3,>=1.21.1 in /home/cheesy/miniconda3/envs/ml/lib/python3.11/site-packages (from requests>=2.19.0->pooch>=1.0->librosa) (1.26.13)\r\n",
      "Requirement already satisfied: certifi>=2017.4.17 in /home/cheesy/miniconda3/envs/ml/lib/python3.11/site-packages (from requests>=2.19.0->pooch>=1.0->librosa) (2022.12.7)\r\n",
      "/bin/bash: /home/cheesy/miniconda3/lib/libtinfo.so.6: no version information available (required by /bin/bash)\r\n",
      "/bin/bash: warning: setlocale: LC_ALL: cannot change locale (en_US.UTF-8)\r\n",
      "/bin/bash: /home/cheesy/miniconda3/lib/libtinfo.so.6: no version information available (required by /bin/bash)\r\n",
      "/bin/bash: warning: setlocale: LC_ALL: cannot change locale (en_US.UTF-8)\r\n",
      "Requirement already satisfied: jiwer in /home/cheesy/miniconda3/envs/ml/lib/python3.11/site-packages (3.0.3)\r\n",
      "Requirement already satisfied: click<9.0.0,>=8.1.3 in /home/cheesy/miniconda3/envs/ml/lib/python3.11/site-packages (from jiwer) (8.1.7)\r\n",
      "Requirement already satisfied: rapidfuzz<4,>=3 in /home/cheesy/miniconda3/envs/ml/lib/python3.11/site-packages (from jiwer) (3.5.2)\r\n",
      "/bin/bash: /home/cheesy/miniconda3/lib/libtinfo.so.6: no version information available (required by /bin/bash)\r\n",
      "/bin/bash: warning: setlocale: LC_ALL: cannot change locale (en_US.UTF-8)\r\n",
      "Requirement already satisfied: gradio in /home/cheesy/miniconda3/envs/ml/lib/python3.11/site-packages (4.8.0)\r\n",
      "Requirement already satisfied: aiofiles<24.0,>=22.0 in /home/cheesy/miniconda3/envs/ml/lib/python3.11/site-packages (from gradio) (23.2.1)\r\n",
      "Requirement already satisfied: altair<6.0,>=4.2.0 in /home/cheesy/miniconda3/envs/ml/lib/python3.11/site-packages (from gradio) (5.2.0)\r\n",
      "Requirement already satisfied: fastapi in /home/cheesy/miniconda3/envs/ml/lib/python3.11/site-packages (from gradio) (0.104.1)\r\n",
      "Requirement already satisfied: ffmpy in /home/cheesy/miniconda3/envs/ml/lib/python3.11/site-packages (from gradio) (0.3.1)\r\n",
      "Requirement already satisfied: gradio-client==0.7.1 in /home/cheesy/miniconda3/envs/ml/lib/python3.11/site-packages (from gradio) (0.7.1)\r\n",
      "Requirement already satisfied: httpx in /home/cheesy/miniconda3/envs/ml/lib/python3.11/site-packages (from gradio) (0.25.2)\r\n",
      "Requirement already satisfied: huggingface-hub>=0.14.0 in /home/cheesy/miniconda3/envs/ml/lib/python3.11/site-packages (from gradio) (0.19.4)\r\n",
      "Requirement already satisfied: importlib-resources<7.0,>=1.3 in /home/cheesy/miniconda3/envs/ml/lib/python3.11/site-packages (from gradio) (6.1.0)\r\n",
      "Requirement already satisfied: jinja2<4.0 in /home/cheesy/miniconda3/envs/ml/lib/python3.11/site-packages (from gradio) (3.1.2)\r\n",
      "Requirement already satisfied: markupsafe~=2.0 in /home/cheesy/miniconda3/envs/ml/lib/python3.11/site-packages (from gradio) (2.1.2)\r\n",
      "Requirement already satisfied: matplotlib~=3.0 in /home/cheesy/miniconda3/envs/ml/lib/python3.11/site-packages (from gradio) (3.8.0)\r\n",
      "Requirement already satisfied: numpy~=1.0 in /home/cheesy/miniconda3/envs/ml/lib/python3.11/site-packages (from gradio) (1.24.1)\r\n",
      "Requirement already satisfied: orjson~=3.0 in /home/cheesy/miniconda3/envs/ml/lib/python3.11/site-packages (from gradio) (3.9.10)\r\n",
      "Requirement already satisfied: packaging in /home/cheesy/miniconda3/envs/ml/lib/python3.11/site-packages (from gradio) (23.2)\r\n",
      "Requirement already satisfied: pandas<3.0,>=1.0 in /home/cheesy/miniconda3/envs/ml/lib/python3.11/site-packages (from gradio) (2.1.1)\r\n",
      "Requirement already satisfied: pillow<11.0,>=8.0 in /home/cheesy/miniconda3/envs/ml/lib/python3.11/site-packages (from gradio) (9.3.0)\r\n",
      "Requirement already satisfied: pydantic>=2.0 in /home/cheesy/miniconda3/envs/ml/lib/python3.11/site-packages (from gradio) (2.5.2)\r\n",
      "Requirement already satisfied: pydub in /home/cheesy/miniconda3/envs/ml/lib/python3.11/site-packages (from gradio) (0.25.1)\r\n",
      "Requirement already satisfied: python-multipart in /home/cheesy/miniconda3/envs/ml/lib/python3.11/site-packages (from gradio) (0.0.6)\r\n",
      "Requirement already satisfied: pyyaml<7.0,>=5.0 in /home/cheesy/miniconda3/envs/ml/lib/python3.11/site-packages (from gradio) (6.0.1)\r\n",
      "Requirement already satisfied: requests~=2.0 in /home/cheesy/miniconda3/envs/ml/lib/python3.11/site-packages (from gradio) (2.31.0)\r\n",
      "Requirement already satisfied: semantic-version~=2.0 in /home/cheesy/miniconda3/envs/ml/lib/python3.11/site-packages (from gradio) (2.10.0)\r\n",
      "Requirement already satisfied: tomlkit==0.12.0 in /home/cheesy/miniconda3/envs/ml/lib/python3.11/site-packages (from gradio) (0.12.0)\r\n",
      "Requirement already satisfied: typer<1.0,>=0.9 in /home/cheesy/miniconda3/envs/ml/lib/python3.11/site-packages (from typer[all]<1.0,>=0.9->gradio) (0.9.0)\r\n",
      "Requirement already satisfied: typing-extensions~=4.0 in /home/cheesy/miniconda3/envs/ml/lib/python3.11/site-packages (from gradio) (4.8.0)\r\n",
      "Requirement already satisfied: uvicorn>=0.14.0 in /home/cheesy/miniconda3/envs/ml/lib/python3.11/site-packages (from gradio) (0.24.0.post1)\r\n",
      "Requirement already satisfied: fsspec in /home/cheesy/miniconda3/envs/ml/lib/python3.11/site-packages (from gradio-client==0.7.1->gradio) (2023.9.2)\r\n",
      "Requirement already satisfied: websockets<12.0,>=10.0 in /home/cheesy/miniconda3/envs/ml/lib/python3.11/site-packages (from gradio-client==0.7.1->gradio) (11.0.3)\r\n",
      "Requirement already satisfied: jsonschema>=3.0 in /home/cheesy/miniconda3/envs/ml/lib/python3.11/site-packages (from altair<6.0,>=4.2.0->gradio) (4.19.1)\r\n",
      "Requirement already satisfied: toolz in /home/cheesy/miniconda3/envs/ml/lib/python3.11/site-packages (from altair<6.0,>=4.2.0->gradio) (0.12.0)\r\n",
      "Requirement already satisfied: filelock in /home/cheesy/miniconda3/envs/ml/lib/python3.11/site-packages (from huggingface-hub>=0.14.0->gradio) (3.9.0)\r\n",
      "Requirement already satisfied: tqdm>=4.42.1 in /home/cheesy/miniconda3/envs/ml/lib/python3.11/site-packages (from huggingface-hub>=0.14.0->gradio) (4.66.1)\r\n",
      "Requirement already satisfied: contourpy>=1.0.1 in /home/cheesy/miniconda3/envs/ml/lib/python3.11/site-packages (from matplotlib~=3.0->gradio) (1.1.1)\r\n",
      "Requirement already satisfied: cycler>=0.10 in /home/cheesy/miniconda3/envs/ml/lib/python3.11/site-packages (from matplotlib~=3.0->gradio) (0.12.0)\r\n",
      "Requirement already satisfied: fonttools>=4.22.0 in /home/cheesy/miniconda3/envs/ml/lib/python3.11/site-packages (from matplotlib~=3.0->gradio) (4.43.0)\r\n",
      "Requirement already satisfied: kiwisolver>=1.0.1 in /home/cheesy/miniconda3/envs/ml/lib/python3.11/site-packages (from matplotlib~=3.0->gradio) (1.4.5)\r\n",
      "Requirement already satisfied: pyparsing>=2.3.1 in /home/cheesy/miniconda3/envs/ml/lib/python3.11/site-packages (from matplotlib~=3.0->gradio) (3.1.1)\r\n",
      "Requirement already satisfied: python-dateutil>=2.7 in /home/cheesy/miniconda3/envs/ml/lib/python3.11/site-packages (from matplotlib~=3.0->gradio) (2.8.2)\r\n",
      "Requirement already satisfied: pytz>=2020.1 in /home/cheesy/miniconda3/envs/ml/lib/python3.11/site-packages (from pandas<3.0,>=1.0->gradio) (2023.3.post1)\r\n",
      "Requirement already satisfied: tzdata>=2022.1 in /home/cheesy/miniconda3/envs/ml/lib/python3.11/site-packages (from pandas<3.0,>=1.0->gradio) (2023.3)\r\n",
      "Requirement already satisfied: annotated-types>=0.4.0 in /home/cheesy/miniconda3/envs/ml/lib/python3.11/site-packages (from pydantic>=2.0->gradio) (0.6.0)\r\n",
      "Requirement already satisfied: pydantic-core==2.14.5 in /home/cheesy/miniconda3/envs/ml/lib/python3.11/site-packages (from pydantic>=2.0->gradio) (2.14.5)\r\n",
      "Requirement already satisfied: charset-normalizer<4,>=2 in /home/cheesy/miniconda3/envs/ml/lib/python3.11/site-packages (from requests~=2.0->gradio) (2.1.1)\r\n",
      "Requirement already satisfied: idna<4,>=2.5 in /home/cheesy/miniconda3/envs/ml/lib/python3.11/site-packages (from requests~=2.0->gradio) (3.4)\r\n",
      "Requirement already satisfied: urllib3<3,>=1.21.1 in /home/cheesy/miniconda3/envs/ml/lib/python3.11/site-packages (from requests~=2.0->gradio) (1.26.13)\r\n",
      "Requirement already satisfied: certifi>=2017.4.17 in /home/cheesy/miniconda3/envs/ml/lib/python3.11/site-packages (from requests~=2.0->gradio) (2022.12.7)\r\n",
      "Requirement already satisfied: click<9.0.0,>=7.1.1 in /home/cheesy/miniconda3/envs/ml/lib/python3.11/site-packages (from typer<1.0,>=0.9->typer[all]<1.0,>=0.9->gradio) (8.1.7)\r\n",
      "Requirement already satisfied: colorama<0.5.0,>=0.4.3 in /home/cheesy/miniconda3/envs/ml/lib/python3.11/site-packages (from typer[all]<1.0,>=0.9->gradio) (0.4.6)\r\n",
      "Requirement already satisfied: shellingham<2.0.0,>=1.3.0 in /home/cheesy/miniconda3/envs/ml/lib/python3.11/site-packages (from typer[all]<1.0,>=0.9->gradio) (1.5.4)\r\n",
      "Requirement already satisfied: rich<14.0.0,>=10.11.0 in /home/cheesy/miniconda3/envs/ml/lib/python3.11/site-packages (from typer[all]<1.0,>=0.9->gradio) (13.6.0)\r\n",
      "Requirement already satisfied: h11>=0.8 in /home/cheesy/miniconda3/envs/ml/lib/python3.11/site-packages (from uvicorn>=0.14.0->gradio) (0.14.0)\r\n",
      "Requirement already satisfied: anyio<4.0.0,>=3.7.1 in /home/cheesy/miniconda3/envs/ml/lib/python3.11/site-packages (from fastapi->gradio) (3.7.1)\r\n",
      "Requirement already satisfied: starlette<0.28.0,>=0.27.0 in /home/cheesy/miniconda3/envs/ml/lib/python3.11/site-packages (from fastapi->gradio) (0.27.0)\r\n",
      "Requirement already satisfied: httpcore==1.* in /home/cheesy/miniconda3/envs/ml/lib/python3.11/site-packages (from httpx->gradio) (1.0.2)\r\n",
      "Requirement already satisfied: sniffio in /home/cheesy/miniconda3/envs/ml/lib/python3.11/site-packages (from httpx->gradio) (1.3.0)\r\n",
      "Requirement already satisfied: attrs>=22.2.0 in /home/cheesy/miniconda3/envs/ml/lib/python3.11/site-packages (from jsonschema>=3.0->altair<6.0,>=4.2.0->gradio) (23.1.0)\r\n",
      "Requirement already satisfied: jsonschema-specifications>=2023.03.6 in /home/cheesy/miniconda3/envs/ml/lib/python3.11/site-packages (from jsonschema>=3.0->altair<6.0,>=4.2.0->gradio) (2023.7.1)\r\n",
      "Requirement already satisfied: referencing>=0.28.4 in /home/cheesy/miniconda3/envs/ml/lib/python3.11/site-packages (from jsonschema>=3.0->altair<6.0,>=4.2.0->gradio) (0.30.2)\r\n",
      "Requirement already satisfied: rpds-py>=0.7.1 in /home/cheesy/miniconda3/envs/ml/lib/python3.11/site-packages (from jsonschema>=3.0->altair<6.0,>=4.2.0->gradio) (0.10.3)\r\n",
      "Requirement already satisfied: six>=1.5 in /home/cheesy/miniconda3/envs/ml/lib/python3.11/site-packages (from python-dateutil>=2.7->matplotlib~=3.0->gradio) (1.16.0)\r\n",
      "Requirement already satisfied: markdown-it-py>=2.2.0 in /home/cheesy/miniconda3/envs/ml/lib/python3.11/site-packages (from rich<14.0.0,>=10.11.0->typer[all]<1.0,>=0.9->gradio) (3.0.0)\r\n",
      "Requirement already satisfied: pygments<3.0.0,>=2.13.0 in /home/cheesy/miniconda3/envs/ml/lib/python3.11/site-packages (from rich<14.0.0,>=10.11.0->typer[all]<1.0,>=0.9->gradio) (2.16.1)\r\n",
      "Requirement already satisfied: mdurl~=0.1 in /home/cheesy/miniconda3/envs/ml/lib/python3.11/site-packages (from markdown-it-py>=2.2.0->rich<14.0.0,>=10.11.0->typer[all]<1.0,>=0.9->gradio) (0.1.2)\r\n",
      "/bin/bash: /home/cheesy/miniconda3/lib/libtinfo.so.6: no version information available (required by /bin/bash)\r\n",
      "/bin/bash: warning: setlocale: LC_ALL: cannot change locale (en_US.UTF-8)\r\n",
      "Requirement already satisfied: accelerate in /home/cheesy/miniconda3/envs/ml/lib/python3.11/site-packages (0.25.0)\r\n",
      "Requirement already satisfied: numpy>=1.17 in /home/cheesy/miniconda3/envs/ml/lib/python3.11/site-packages (from accelerate) (1.24.1)\r\n",
      "Requirement already satisfied: packaging>=20.0 in /home/cheesy/miniconda3/envs/ml/lib/python3.11/site-packages (from accelerate) (23.2)\r\n",
      "Requirement already satisfied: psutil in /home/cheesy/miniconda3/envs/ml/lib/python3.11/site-packages (from accelerate) (5.9.5)\r\n",
      "Requirement already satisfied: pyyaml in /home/cheesy/miniconda3/envs/ml/lib/python3.11/site-packages (from accelerate) (6.0.1)\r\n",
      "Requirement already satisfied: torch>=1.10.0 in /home/cheesy/miniconda3/envs/ml/lib/python3.11/site-packages (from accelerate) (2.1.1)\r\n",
      "Requirement already satisfied: huggingface-hub in /home/cheesy/miniconda3/envs/ml/lib/python3.11/site-packages (from accelerate) (0.19.4)\r\n",
      "Requirement already satisfied: safetensors>=0.3.1 in /home/cheesy/miniconda3/envs/ml/lib/python3.11/site-packages (from accelerate) (0.4.1)\r\n",
      "Requirement already satisfied: filelock in /home/cheesy/miniconda3/envs/ml/lib/python3.11/site-packages (from torch>=1.10.0->accelerate) (3.9.0)\r\n",
      "Requirement already satisfied: typing-extensions in /home/cheesy/miniconda3/envs/ml/lib/python3.11/site-packages (from torch>=1.10.0->accelerate) (4.8.0)\r\n",
      "Requirement already satisfied: sympy in /home/cheesy/miniconda3/envs/ml/lib/python3.11/site-packages (from torch>=1.10.0->accelerate) (1.12)\r\n",
      "Requirement already satisfied: networkx in /home/cheesy/miniconda3/envs/ml/lib/python3.11/site-packages (from torch>=1.10.0->accelerate) (3.0)\r\n",
      "Requirement already satisfied: jinja2 in /home/cheesy/miniconda3/envs/ml/lib/python3.11/site-packages (from torch>=1.10.0->accelerate) (3.1.2)\r\n",
      "Requirement already satisfied: fsspec in /home/cheesy/miniconda3/envs/ml/lib/python3.11/site-packages (from torch>=1.10.0->accelerate) (2023.9.2)\r\n",
      "Requirement already satisfied: nvidia-cuda-nvrtc-cu12==12.1.105 in /home/cheesy/miniconda3/envs/ml/lib/python3.11/site-packages (from torch>=1.10.0->accelerate) (12.1.105)\r\n",
      "Requirement already satisfied: nvidia-cuda-runtime-cu12==12.1.105 in /home/cheesy/miniconda3/envs/ml/lib/python3.11/site-packages (from torch>=1.10.0->accelerate) (12.1.105)\r\n",
      "Requirement already satisfied: nvidia-cuda-cupti-cu12==12.1.105 in /home/cheesy/miniconda3/envs/ml/lib/python3.11/site-packages (from torch>=1.10.0->accelerate) (12.1.105)\r\n",
      "Requirement already satisfied: nvidia-cudnn-cu12==8.9.2.26 in /home/cheesy/miniconda3/envs/ml/lib/python3.11/site-packages (from torch>=1.10.0->accelerate) (8.9.2.26)\r\n",
      "Requirement already satisfied: nvidia-cublas-cu12==12.1.3.1 in /home/cheesy/miniconda3/envs/ml/lib/python3.11/site-packages (from torch>=1.10.0->accelerate) (12.1.3.1)\r\n",
      "Requirement already satisfied: nvidia-cufft-cu12==11.0.2.54 in /home/cheesy/miniconda3/envs/ml/lib/python3.11/site-packages (from torch>=1.10.0->accelerate) (11.0.2.54)\r\n",
      "Requirement already satisfied: nvidia-curand-cu12==10.3.2.106 in /home/cheesy/miniconda3/envs/ml/lib/python3.11/site-packages (from torch>=1.10.0->accelerate) (10.3.2.106)\r\n",
      "Requirement already satisfied: nvidia-cusolver-cu12==11.4.5.107 in /home/cheesy/miniconda3/envs/ml/lib/python3.11/site-packages (from torch>=1.10.0->accelerate) (11.4.5.107)\r\n",
      "Requirement already satisfied: nvidia-cusparse-cu12==12.1.0.106 in /home/cheesy/miniconda3/envs/ml/lib/python3.11/site-packages (from torch>=1.10.0->accelerate) (12.1.0.106)\r\n",
      "Requirement already satisfied: nvidia-nccl-cu12==2.18.1 in /home/cheesy/miniconda3/envs/ml/lib/python3.11/site-packages (from torch>=1.10.0->accelerate) (2.18.1)\r\n",
      "Requirement already satisfied: nvidia-nvtx-cu12==12.1.105 in /home/cheesy/miniconda3/envs/ml/lib/python3.11/site-packages (from torch>=1.10.0->accelerate) (12.1.105)\r\n",
      "Requirement already satisfied: triton==2.1.0 in /home/cheesy/miniconda3/envs/ml/lib/python3.11/site-packages (from torch>=1.10.0->accelerate) (2.1.0)\r\n",
      "Requirement already satisfied: nvidia-nvjitlink-cu12 in /home/cheesy/miniconda3/envs/ml/lib/python3.11/site-packages (from nvidia-cusolver-cu12==11.4.5.107->torch>=1.10.0->accelerate) (12.2.140)\r\n",
      "Requirement already satisfied: requests in /home/cheesy/miniconda3/envs/ml/lib/python3.11/site-packages (from huggingface-hub->accelerate) (2.31.0)\r\n",
      "Requirement already satisfied: tqdm>=4.42.1 in /home/cheesy/miniconda3/envs/ml/lib/python3.11/site-packages (from huggingface-hub->accelerate) (4.66.1)\r\n",
      "Requirement already satisfied: MarkupSafe>=2.0 in /home/cheesy/miniconda3/envs/ml/lib/python3.11/site-packages (from jinja2->torch>=1.10.0->accelerate) (2.1.2)\r\n",
      "Requirement already satisfied: charset-normalizer<4,>=2 in /home/cheesy/miniconda3/envs/ml/lib/python3.11/site-packages (from requests->huggingface-hub->accelerate) (2.1.1)\r\n",
      "Requirement already satisfied: idna<4,>=2.5 in /home/cheesy/miniconda3/envs/ml/lib/python3.11/site-packages (from requests->huggingface-hub->accelerate) (3.4)\r\n",
      "Requirement already satisfied: urllib3<3,>=1.21.1 in /home/cheesy/miniconda3/envs/ml/lib/python3.11/site-packages (from requests->huggingface-hub->accelerate) (1.26.13)\r\n",
      "Requirement already satisfied: certifi>=2017.4.17 in /home/cheesy/miniconda3/envs/ml/lib/python3.11/site-packages (from requests->huggingface-hub->accelerate) (2022.12.7)\r\n",
      "Requirement already satisfied: mpmath>=0.19 in /home/cheesy/miniconda3/envs/ml/lib/python3.11/site-packages (from sympy->torch>=1.10.0->accelerate) (1.3.0)\r\n"
     ]
    }
   ],
   "source": [
    "import os\n",
    "!pip install datasets>=2.6.1\n",
    "!pip install transformers\n",
    "#!pip install git+https://github.com/huggingface/transformers\n",
    "!pip install librosa\n",
    "!pip install evaluate>=0.30\n",
    "!pip install jiwer\n",
    "!pip install gradio\n",
    "!pip install accelerate -U\n"
   ],
   "id": "e68ea9f8-9b61-414e-8885-3033b67c2850"
  },
  {
   "cell_type": "code",
   "source": [
    "import os\n",
    "\n",
    "# Run to fix bug of Seq2SeqTrainer not being found\n",
    "#os._exit(00)"
   ],
   "metadata": {
    "id": "JS5WtmaVNusm",
    "ExecuteTime": {
     "start_time": "2023-12-09T13:51:53.558066Z",
     "end_time": "2023-12-09T13:51:53.583081Z"
    }
   },
   "id": "JS5WtmaVNusm",
   "execution_count": 2,
   "outputs": []
  },
  {
   "cell_type": "markdown",
   "metadata": {
    "id": "1f60d173-8de1-4ed7-bc9a-d281cf237203"
   },
   "source": [
    "We strongly advise you to upload model checkpoints directly the [Hugging Face Hub](https://huggingface.co/)\n",
    "whilst training. The Hub provides:\n",
    "- Integrated version control: you can be sure that no model checkpoint is lost during training.\n",
    "- Tensorboard logs: track important metrics over the course of training.\n",
    "- Model cards: document what a model does and its intended use cases.\n",
    "- Community: an easy way to share and collaborate with the community!\n",
    "\n",
    "Linking the notebook to the Hub is straightforward - it simply requires entering your\n",
    "Hub authentication token when prompted. Find your Hub authentication token [here](https://huggingface.co/settings/tokens):"
   ],
   "id": "1f60d173-8de1-4ed7-bc9a-d281cf237203"
  },
  {
   "cell_type": "code",
   "execution_count": 3,
   "metadata": {
    "colab": {
     "base_uri": "https://localhost:8080/",
     "height": 113,
     "referenced_widgets": [
      "9d0785ae8fd54416b93d0d53fe1f9403",
      "e4dae336098e4c00ba7f6c0e91276c11",
      "aa53c944c3de4c9a9cc23979b50a2c72",
      "6833300f2c4c4e859cc4514267965163",
      "cd4cd5ee06e445bc96cb35d3b51af686",
      "c11bd19aa1574ddf9fdf75f268f59804",
      "d6f8f268fd8f4e87a7f05c7f72096a7d",
      "c166a17179ee436fb31c1b54e18ecbbe",
      "bc39357cbee842b69c3a11c03c18d233",
      "6f48755d5040421885145400c570b181",
      "145e14e354d84cbbbb0d280d2af1c82e",
      "3a38a6634bd94b0aba148ca61ed3be4d",
      "e4a21dc0c4744d10a4f9f850d9ebd586",
      "79c94f66ce6e4b31a0d1ae93aef87373",
      "338c1be1376346fc9e9f1d7612719034",
      "34635a93da4947f286ac08281a36c5c6",
      "49eb531d11274b53b6f5d054cd3fe702",
      "8b67b6fd70fd46b585dc95860acb1348",
      "3e11073804ec4b73ae0e1a02f31a46f0",
      "41774b12aeaf473b94c963d2397a618f",
      "60318c170cd74a0cb5dbb53fe52fe470",
      "cf575d304d0a41fd94c3c13972e549e5",
      "f07f9bcd1fd94bfeae7a95d1be468ff1",
      "252e03c4fda043d990a2abd011f7b81d",
      "172a0424939c4644b44d35b301eb6595",
      "e3955ab585fb44a4a2fb36955be7feb8",
      "35636b7a8ade40ecabd23ace65ef6b60",
      "71ee1579b4494a9d9f4880508ff9188c",
      "09bfa376310d47d18ddc9968d2018379"
     ]
    },
    "executionInfo": {
     "elapsed": 1432,
     "status": "ok",
     "timestamp": 1701599604075,
     "user": {
      "displayName": "Omid Fattahi Mehr",
      "userId": "14642429637507438411"
     },
     "user_tz": -60
    },
    "id": "b045a39e-2a3e-4153-bdb5-281500bcd348",
    "outputId": "153c1394-19c8-4189-cb61-95e453ab8de4",
    "ExecuteTime": {
     "start_time": "2023-12-09T22:35:27.218759Z",
     "end_time": "2023-12-09T22:35:29.539604Z"
    }
   },
   "outputs": [
    {
     "name": "stdout",
     "output_type": "stream",
     "text": [
      "\n",
      "    _|    _|  _|    _|    _|_|_|    _|_|_|  _|_|_|  _|      _|    _|_|_|      _|_|_|_|    _|_|      _|_|_|  _|_|_|_|\n",
      "    _|    _|  _|    _|  _|        _|          _|    _|_|    _|  _|            _|        _|    _|  _|        _|\n",
      "    _|_|_|_|  _|    _|  _|  _|_|  _|  _|_|    _|    _|  _|  _|  _|  _|_|      _|_|_|    _|_|_|_|  _|        _|_|_|\n",
      "    _|    _|  _|    _|  _|    _|  _|    _|    _|    _|    _|_|  _|    _|      _|        _|    _|  _|        _|\n",
      "    _|    _|    _|_|      _|_|_|    _|_|_|  _|_|_|  _|      _|    _|_|_|      _|        _|    _|    _|_|_|  _|_|_|_|\n",
      "\n",
      "    A token is already saved on your machine. Run `huggingface-cli whoami` to get more information or `huggingface-cli logout` if you want to log out.\n",
      "    Setting a new token will erase the existing one.\n",
      "    To login, `huggingface_hub` requires a token generated from https://huggingface.co/settings/tokens .\n",
      "Token is valid (permission: write).\n",
      "\u001B[1m\u001B[31mCannot authenticate through git-credential as no helper is defined on your machine.\n",
      "You might have to re-authenticate when pushing to the Hugging Face Hub.\n",
      "Run the following command in your terminal in case you want to set the 'store' credential helper as default.\n",
      "\n",
      "git config --global credential.helper store\n",
      "\n",
      "Read https://git-scm.com/book/en/v2/Git-Tools-Credential-Storage for more details.\u001B[0m\n",
      "Token has not been saved to git credential helper.\n",
      "Your token has been saved to /home/cheesy/.cache/huggingface/token\n",
      "Login successful\n"
     ]
    }
   ],
   "source": [
    "from huggingface_hub import interpreter_login\n",
    "\n",
    "interpreter_login()"
   ],
   "id": "b045a39e-2a3e-4153-bdb5-281500bcd348"
  },
  {
   "cell_type": "markdown",
   "metadata": {
    "id": "b219c9dd-39b6-4a95-b2a1-3f547a1e7bc0"
   },
   "source": [
    "## Load Dataset"
   ],
   "id": "b219c9dd-39b6-4a95-b2a1-3f547a1e7bc0"
  },
  {
   "cell_type": "code",
   "execution_count": 4,
   "metadata": {
    "colab": {
     "base_uri": "https://localhost:8080/"
    },
    "executionInfo": {
     "elapsed": 67499,
     "status": "ok",
     "timestamp": 1701599692047,
     "user": {
      "displayName": "Omid Fattahi Mehr",
      "userId": "14642429637507438411"
     },
     "user_tz": -60
    },
    "id": "a2787582-554f-44ce-9f38-4180a5ed6b44",
    "outputId": "c35e7746-db72-4c52-8f7d-7c69ef5ad4d8",
    "ExecuteTime": {
     "start_time": "2023-12-09T22:35:31.320347Z",
     "end_time": "2023-12-09T22:35:44.099131Z"
    }
   },
   "outputs": [],
   "source": [
    "import os\n",
    "import regex as re\n",
    "from os.path import isfile, join\n",
    "from datasets import concatenate_datasets, Dataset, load_dataset, DatasetDict\n",
    "from google.colab import drive\n",
    "\n",
    "DOWNLOAD = False\n",
    "\n",
    "# Mount the drive\n",
    "drive.mount('/content/drive')\n",
    "\n",
    "# Create Dataset Dictionary\n",
    "common_voice = DatasetDict()\n",
    "\n",
    "# Get the arrow files storing training and testing data\n",
    "r_train = re.compile(\"data-000[0-1][0-9]-of-00044.arrow\")\n",
    "arrow_files_train = list(filter(r_train.match, os.listdir(\"common_voice/train\")))\n",
    "r_test = re.compile(\"data-0000[0-1]-of-00002.arrow\")\n",
    "arrow_files_test = list(filter(r_test.match, os.listdir(\"common_voice/test\")))\n",
    "\n",
    "# Concatenate stored arrow files and assign as training and test data\n",
    "if not DOWNLOAD:\n",
    "  common_voice[\"train\"] = concatenate_datasets([Dataset.from_file(join(\"common_voice/train\", arrow_file)) for arrow_file in arrow_files_train]).select(range(20000))\n",
    "  common_voice[\"test\"] = concatenate_datasets([Dataset.from_file(join(\"common_voice/test\", arrow_file)) for arrow_file in arrow_files_test]).select(range(10000))\n",
    "\n",
    "# If unprocessed dataset should be downloaded from HuggingFace\n",
    "if DOWNLOAD:\n",
    "  common_voice[\"train\"] = load_dataset(\"mozilla-foundation/common_voice_11_0\", \"de\", split=\"train+validation\", use_auth_token=True)\n",
    "  common_voice[\"test\"] = load_dataset(\"mozilla-foundation/common_voice_11_0\", \"de\", split=\"test\", use_auth_token=True)\n"
   ],
   "id": "a2787582-554f-44ce-9f38-4180a5ed6b44"
  },
  {
   "cell_type": "code",
   "source": [
    "# Run code cell if loaded dataset should be pushed and stored to Drive\n",
    "output_dir = \"common_voice\"\n",
    "os.makedirs(output_dir, exist_ok=True)\n",
    "common_voice.save_to_disk(output_dir)"
   ],
   "metadata": {
    "id": "tb_cYZYmGRdc",
    "ExecuteTime": {
     "start_time": "2023-12-08T22:01:11.588583Z",
     "end_time": "2023-12-08T22:35:50.150158Z"
    }
   },
   "id": "tb_cYZYmGRdc",
   "execution_count": 4,
   "outputs": [
    {
     "ename": "PermissionError",
     "evalue": "Tried to overwrite /mnt/c/Users/carl/PycharmProjects/ID2223_lab1/Lab2/common_voice/train but a dataset can't overwrite itself.",
     "output_type": "error",
     "traceback": [
      "\u001B[0;31m---------------------------------------------------------------------------\u001B[0m",
      "\u001B[0;31mPermissionError\u001B[0m                           Traceback (most recent call last)",
      "Cell \u001B[0;32mIn[4], line 4\u001B[0m\n\u001B[1;32m      2\u001B[0m output_dir \u001B[38;5;241m=\u001B[39m \u001B[38;5;124m\"\u001B[39m\u001B[38;5;124mcommon_voice\u001B[39m\u001B[38;5;124m\"\u001B[39m\n\u001B[1;32m      3\u001B[0m os\u001B[38;5;241m.\u001B[39mmakedirs(output_dir, exist_ok\u001B[38;5;241m=\u001B[39m\u001B[38;5;28;01mTrue\u001B[39;00m)\n\u001B[0;32m----> 4\u001B[0m \u001B[43mcommon_voice\u001B[49m\u001B[38;5;241;43m.\u001B[39;49m\u001B[43msave_to_disk\u001B[49m\u001B[43m(\u001B[49m\u001B[43moutput_dir\u001B[49m\u001B[43m)\u001B[49m\n",
      "File \u001B[0;32m~/miniconda3/envs/ml/lib/python3.11/site-packages/datasets/dataset_dict.py:1276\u001B[0m, in \u001B[0;36mDatasetDict.save_to_disk\u001B[0;34m(self, dataset_dict_path, fs, max_shard_size, num_shards, num_proc, storage_options)\u001B[0m\n\u001B[1;32m   1274\u001B[0m     json\u001B[38;5;241m.\u001B[39mdump({\u001B[38;5;124m\"\u001B[39m\u001B[38;5;124msplits\u001B[39m\u001B[38;5;124m\"\u001B[39m: \u001B[38;5;28mlist\u001B[39m(\u001B[38;5;28mself\u001B[39m)}, f)\n\u001B[1;32m   1275\u001B[0m \u001B[38;5;28;01mfor\u001B[39;00m k, dataset \u001B[38;5;129;01min\u001B[39;00m \u001B[38;5;28mself\u001B[39m\u001B[38;5;241m.\u001B[39mitems():\n\u001B[0;32m-> 1276\u001B[0m     \u001B[43mdataset\u001B[49m\u001B[38;5;241;43m.\u001B[39;49m\u001B[43msave_to_disk\u001B[49m\u001B[43m(\u001B[49m\n\u001B[1;32m   1277\u001B[0m \u001B[43m        \u001B[49m\u001B[43mposixpath\u001B[49m\u001B[38;5;241;43m.\u001B[39;49m\u001B[43mjoin\u001B[49m\u001B[43m(\u001B[49m\u001B[43mdataset_dict_path\u001B[49m\u001B[43m,\u001B[49m\u001B[43m \u001B[49m\u001B[43mk\u001B[49m\u001B[43m)\u001B[49m\u001B[43m,\u001B[49m\n\u001B[1;32m   1278\u001B[0m \u001B[43m        \u001B[49m\u001B[43mnum_shards\u001B[49m\u001B[38;5;241;43m=\u001B[39;49m\u001B[43mnum_shards\u001B[49m\u001B[38;5;241;43m.\u001B[39;49m\u001B[43mget\u001B[49m\u001B[43m(\u001B[49m\u001B[43mk\u001B[49m\u001B[43m)\u001B[49m\u001B[43m,\u001B[49m\n\u001B[1;32m   1279\u001B[0m \u001B[43m        \u001B[49m\u001B[43mmax_shard_size\u001B[49m\u001B[38;5;241;43m=\u001B[39;49m\u001B[43mmax_shard_size\u001B[49m\u001B[43m,\u001B[49m\n\u001B[1;32m   1280\u001B[0m \u001B[43m        \u001B[49m\u001B[43mnum_proc\u001B[49m\u001B[38;5;241;43m=\u001B[39;49m\u001B[43mnum_proc\u001B[49m\u001B[43m,\u001B[49m\n\u001B[1;32m   1281\u001B[0m \u001B[43m        \u001B[49m\u001B[43mstorage_options\u001B[49m\u001B[38;5;241;43m=\u001B[39;49m\u001B[43mstorage_options\u001B[49m\u001B[43m,\u001B[49m\n\u001B[1;32m   1282\u001B[0m \u001B[43m    \u001B[49m\u001B[43m)\u001B[49m\n",
      "File \u001B[0;32m~/miniconda3/envs/ml/lib/python3.11/site-packages/datasets/arrow_dataset.py:1465\u001B[0m, in \u001B[0;36mDataset.save_to_disk\u001B[0;34m(self, dataset_path, fs, max_shard_size, num_shards, num_proc, storage_options)\u001B[0m\n\u001B[1;32m   1463\u001B[0m     \u001B[38;5;66;03m# Check that the dataset doesn't overwrite iself. It can cause a permission error on Windows and a segfault on linux.\u001B[39;00m\n\u001B[1;32m   1464\u001B[0m     \u001B[38;5;28;01mif\u001B[39;00m Path(dataset_path)\u001B[38;5;241m.\u001B[39mexpanduser()\u001B[38;5;241m.\u001B[39mresolve() \u001B[38;5;129;01min\u001B[39;00m parent_cache_files_paths:\n\u001B[0;32m-> 1465\u001B[0m         \u001B[38;5;28;01mraise\u001B[39;00m \u001B[38;5;167;01mPermissionError\u001B[39;00m(\n\u001B[1;32m   1466\u001B[0m             \u001B[38;5;124mf\u001B[39m\u001B[38;5;124m\"\u001B[39m\u001B[38;5;124mTried to overwrite \u001B[39m\u001B[38;5;132;01m{\u001B[39;00mPath(dataset_path)\u001B[38;5;241m.\u001B[39mexpanduser()\u001B[38;5;241m.\u001B[39mresolve()\u001B[38;5;132;01m}\u001B[39;00m\u001B[38;5;124m but a dataset can\u001B[39m\u001B[38;5;124m'\u001B[39m\u001B[38;5;124mt overwrite itself.\u001B[39m\u001B[38;5;124m\"\u001B[39m\n\u001B[1;32m   1467\u001B[0m         )\n\u001B[1;32m   1469\u001B[0m fs\u001B[38;5;241m.\u001B[39mmakedirs(dataset_path, exist_ok\u001B[38;5;241m=\u001B[39m\u001B[38;5;28;01mTrue\u001B[39;00m)\n\u001B[1;32m   1471\u001B[0m \u001B[38;5;66;03m# Get json serializable state\u001B[39;00m\n",
      "\u001B[0;31mPermissionError\u001B[0m: Tried to overwrite /mnt/c/Users/carl/PycharmProjects/ID2223_lab1/Lab2/common_voice/train but a dataset can't overwrite itself."
     ]
    }
   ]
  },
  {
   "cell_type": "code",
   "execution_count": 5,
   "metadata": {
    "colab": {
     "base_uri": "https://localhost:8080/"
    },
    "executionInfo": {
     "elapsed": 229,
     "status": "ok",
     "timestamp": 1701599695741,
     "user": {
      "displayName": "Omid Fattahi Mehr",
      "userId": "14642429637507438411"
     },
     "user_tz": -60
    },
    "id": "20ba635d-518c-47ac-97ee-3cad25f1e0ce",
    "outputId": "f553d7f4-56e2-442f-a766-a3844fdb4cc8",
    "ExecuteTime": {
     "start_time": "2023-12-09T22:35:44.102131Z",
     "end_time": "2023-12-09T22:35:44.105641Z"
    }
   },
   "outputs": [
    {
     "name": "stdout",
     "output_type": "stream",
     "text": [
      "DatasetDict({\n",
      "    train: Dataset({\n",
      "        features: ['audio', 'sentence'],\n",
      "        num_rows: 20000\n",
      "    })\n",
      "    test: Dataset({\n",
      "        features: ['audio', 'sentence'],\n",
      "        num_rows: 10000\n",
      "    })\n",
      "})\n"
     ]
    }
   ],
   "source": [
    "common_voice = common_voice.remove_columns([\"accent\", \"age\", \"client_id\", \"down_votes\", \"gender\", \"locale\", \"path\", \"segment\", \"up_votes\"])\n",
    "\n",
    "print(common_voice)"
   ],
   "id": "20ba635d-518c-47ac-97ee-3cad25f1e0ce"
  },
  {
   "cell_type": "markdown",
   "metadata": {
    "id": "2d63b2d2-f68a-4d74-b7f1-5127f6d16605"
   },
   "source": [
    "## Prepare Feature Extractor, Tokenizer and Data"
   ],
   "id": "2d63b2d2-f68a-4d74-b7f1-5127f6d16605"
  },
  {
   "cell_type": "markdown",
   "metadata": {
    "id": "601c3099-1026-439e-93e2-5635b3ba5a73"
   },
   "source": [
    "The ASR pipeline can be de-composed into three stages:\n",
    "1) A feature extractor which pre-processes the raw audio-inputs\n",
    "2) The model which performs the sequence-to-sequence mapping\n",
    "3) A tokenizer which post-processes the model outputs to text format\n",
    "\n",
    "In 🤗 Transformers, the Whisper model has an associated feature extractor and tokenizer,\n",
    "called [WhisperFeatureExtractor](https://huggingface.co/docs/transformers/main/model_doc/whisper#transformers.WhisperFeatureExtractor)\n",
    "and [WhisperTokenizer](https://huggingface.co/docs/transformers/main/model_doc/whisper#transformers.WhisperTokenizer)\n",
    "respectively.\n",
    "\n",
    "We'll go through details for setting-up the feature extractor and tokenizer one-by-one!"
   ],
   "id": "601c3099-1026-439e-93e2-5635b3ba5a73"
  },
  {
   "cell_type": "markdown",
   "metadata": {
    "id": "560332eb-3558-41a1-b500-e83a9f695f84"
   },
   "source": [
    "### Load WhisperFeatureExtractor"
   ],
   "id": "560332eb-3558-41a1-b500-e83a9f695f84"
  },
  {
   "cell_type": "markdown",
   "metadata": {
    "id": "32ec8068-0bd7-412d-b662-0edb9d1e7365"
   },
   "source": [
    "The Whisper feature extractor performs two operations:\n",
    "1. Pads / truncates the audio inputs to 30s: any audio inputs shorter than 30s are padded to 30s with silence (zeros), and those longer that 30s are truncated to 30s\n",
    "2. Converts the audio inputs to _log-Mel spectrogram_ input features, a visual representation of the audio and the form of the input expected by the Whisper model"
   ],
   "id": "32ec8068-0bd7-412d-b662-0edb9d1e7365"
  },
  {
   "cell_type": "markdown",
   "metadata": {
    "id": "589d9ec1-d12b-4b64-93f7-04c63997da19"
   },
   "source": [
    "<figure>\n",
    "<img src=\"https://raw.githubusercontent.com/sanchit-gandhi/notebooks/main/spectrogram.jpg\" alt=\"Trulli\" style=\"width:100%\">\n",
    "<figcaption align = \"center\"><b>Figure 2:</b> Conversion of sampled audio array to log-Mel spectrogram.\n",
    "Left: sampled 1-dimensional audio signal. Right: corresponding log-Mel spectrogram. Figure source:\n",
    "<a href=\"https://ai.googleblog.com/2019/04/specaugment-new-data-augmentation.html\">Google SpecAugment Blog</a>.\n",
    "</figcaption>"
   ],
   "id": "589d9ec1-d12b-4b64-93f7-04c63997da19"
  },
  {
   "cell_type": "markdown",
   "metadata": {
    "id": "b2ef54d5-b946-4c1d-9fdc-adc5d01b46aa"
   },
   "source": [
    "We'll load the feature extractor from the pre-trained checkpoint with the default values:"
   ],
   "id": "b2ef54d5-b946-4c1d-9fdc-adc5d01b46aa"
  },
  {
   "cell_type": "code",
   "execution_count": 6,
   "metadata": {
    "colab": {
     "base_uri": "https://localhost:8080/",
     "height": 441,
     "referenced_widgets": [
      "f1506516c02a4ede892da0b95c13878a",
      "da7334b86b3246039177f7159d5718af",
      "1097b087dd29471189f5b54fc2e9034a",
      "19a0a588ed6f418dae6d0eade09b9857",
      "502fc406321a407890e2136b330e543e",
      "620626feda744bcdb6d58eca8d7699b4",
      "4a73cde726fd44a097fb27dc7c113493",
      "692f3a4fa75d40ee8ba770e348a1729a",
      "ae73fd1a66d4422a9accfd799cd651aa",
      "04357a9d4deb42d08e5016eb75f352fa",
      "3f375f5ad2674a6e8d37aa9a42744639",
      "99850757813040e4ba764e6ce7289365",
      "966a752f47d444cea0cb1250d4f7bab3",
      "94b846660df04dff8fe8d1b061965ec3",
      "b12ae412cf584fd48cb91c1dbed0a707",
      "7fb30db4f8254a67a33d6e5c158f60d4",
      "77d11c3f51f94415971717d0b2f389f9",
      "dc1da7d2c2714c2bac23855ae0c6c52c",
      "2381fcf9577c45f2861bccf9614f2724",
      "33979dc50aab439d81af21d957c744d4",
      "ec7db11559f949d38f951dceeb37c0f7",
      "cdbef58cd24943ecbaaa87fe7bd52b6d",
      "8b076c4851dc4b87801dd738ff2fe8c4",
      "ac8be43132774263b4660658bab92a42",
      "a44438d875cb4561a9180d5df2fb4892",
      "9bf2405ab2474386a28d787b0c3b2bf7",
      "2e83959aa01148ce9e39ce7e27896ab1",
      "9e24f296ca4743bca2bca0f7fde373b4",
      "2207bd2c619f411a904e137c4598fb62",
      "800578f81db94abc9bc10a23c5c11be4",
      "929d97ce75f84bf5879da6ffe00a5a8a",
      "e0b0ae5fe6bc42d1b73a21b12e3acd71",
      "4ad03af537d0434f8ab7a1afdf487d40",
      "8a0a3aca7e454ee7bb7af8677edac2e0",
      "97da2ee26ddd4ea69893f64332a6cd92",
      "9769cb6fa76744528d1e723b8b64fe3a",
      "33bcbce15b6e44d29d72163ec87cffcc",
      "666f7ce4d86245c7ad35a41b75f2b288",
      "a533e04e31c14f1b926a91cf2ee3e014",
      "28e88811df5043c3ab1173fcd8adbf16",
      "93abdadd15fc4c2987b8946bba36eb72",
      "aec41c1a9c174a728d1b8ef267f72c7c",
      "5377d79331f445038c42ac2c45787d74",
      "80c7e426db7948baadb9e7280914fa5c",
      "e223878ed5ad42bfa45eb2b497ff51ba",
      "45f304539d09482f9c6aff11bd371a50",
      "86ecebf194d042a1b282725adb978af3",
      "f4ed36b082af4dfb865af7294308fb8f",
      "a52f138af6b84f99ad35c88a4007c6d3",
      "25e72a1673044222b4be690c2edfa885",
      "bbb6e8ea62284ada9cda0fd68c92ed84",
      "8e687a264d13471a96d625e1b7b98300",
      "167912df173d4fc6a3a19966e64eb50e",
      "09411ce741dd4ee1a4cea315a4395e69",
      "a615404fba0a46138ad0b4985abbfd77",
      "8930a715f78346cca5c5d3671987f39b",
      "567e2e567b4d46eab67911bf019d4db9",
      "c3f9fd6a164e4fde9e79aaf9f0676998",
      "9a00edb1df484113a87b548b04ac093f",
      "4ff62ac0fa6541ada2d868f135377ba9",
      "eaa84981ef904174ab1284410a567136",
      "1601601375184639b5208d9f8056acf1",
      "b49ac52787ee43f3a3fb2cb617dffa95",
      "b9c12180c41242428fcd7086f320b75c",
      "42293b12b9b64c44b3bdcd3ae40ed064",
      "ffb808a8b9d04adead36d85324529a51",
      "a3d7d6642f7b4d49b43afdaca8a31e8e",
      "b38ba68bbecd4cef831a9a7eaa394ef3",
      "63fa5dfa6e4d470885c87fe886b20bc8",
      "59fa8f4b76734563a12fe81bbbfca01c",
      "d4734cc8f401478cbe7aae8252ce3905",
      "f1b096368f5e4fc3b05ef5692da029ee",
      "ce4067898070462ba9b001f0574e9574",
      "531fe3bef8ec4a898184e2d97e669cb3",
      "347b3ed62a804fb389b654b3ad192408",
      "960e6d8c115948429484b1696522ef6c",
      "a3c8aa2696e24ecba3aad63b27aaf0a0",
      "48742e44ac6c4fd498dbace4e18e52fa",
      "e6a77970a364432693204597ae65ece3",
      "a57704fa8a904b3caff58ee5c5ee762b",
      "e5873792e9704b06b0917edaea809c70",
      "44fd2c848d344446ad9aa01cda21768a",
      "05eba8c24a4d4c12833f1ee0cd6e5451",
      "90726e72e2ee420abecab0266cf37161",
      "9f3ee62a4f46445d9a4d2d02a74c511d",
      "9b0faed6c3ea4ed585e73552f316261b",
      "5498319c95c748359bcde647c9f0ad7d",
      "e3a5ea71f83d46e1bcad3f4db68439f2"
     ]
    },
    "executionInfo": {
     "elapsed": 6750,
     "status": "ok",
     "timestamp": 1701599707328,
     "user": {
      "displayName": "Omid Fattahi Mehr",
      "userId": "14642429637507438411"
     },
     "user_tz": -60
    },
    "id": "bc77d7bb-f9e2-47f5-b663-30f7a4321ce5",
    "outputId": "675c471a-ebc6-41dc-d1c9-62c80dd9c4b9",
    "ExecuteTime": {
     "start_time": "2023-12-09T22:35:44.106641Z",
     "end_time": "2023-12-09T22:35:45.536180Z"
    }
   },
   "outputs": [],
   "source": [
    "from transformers import WhisperFeatureExtractor, WhisperTokenizer, WhisperProcessor\n",
    "\n",
    "processor = WhisperProcessor.from_pretrained(\"openai/whisper-small\", language=\"German\", task=\"transcribe\")\n",
    "feature_extractor = WhisperFeatureExtractor.from_pretrained(\"openai/whisper-small\")\n",
    "tokenizer = WhisperTokenizer.from_pretrained(\"openai/whisper-small\", language=\"German\", task=\"transcribe\")"
   ],
   "id": "bc77d7bb-f9e2-47f5-b663-30f7a4321ce5"
  },
  {
   "cell_type": "markdown",
   "metadata": {
    "id": "93748af7-b917-4ecf-a0c8-7d89077ff9cb"
   },
   "source": [
    "### Load WhisperTokenizer"
   ],
   "id": "93748af7-b917-4ecf-a0c8-7d89077ff9cb"
  },
  {
   "cell_type": "markdown",
   "metadata": {
    "id": "2bc82609-a9fb-447a-a2af-99597c864029"
   },
   "source": [
    "The Whisper model outputs a sequence of _token ids_. The tokenizer maps each of these token ids to their corresponding text string. For Hindi, we can load the pre-trained tokenizer and use it for fine-tuning without any further modifications. We simply have to\n",
    "specify the target language and the task. These arguments inform the\n",
    "tokenizer to prefix the language and task tokens to the start of encoded\n",
    "label sequences:"
   ],
   "id": "2bc82609-a9fb-447a-a2af-99597c864029"
  },
  {
   "cell_type": "markdown",
   "metadata": {
    "id": "d2ef23f3-f4a8-483a-a2dc-080a7496cb1b"
   },
   "source": [
    "### Combine To Create A WhisperProcessor"
   ],
   "id": "d2ef23f3-f4a8-483a-a2dc-080a7496cb1b"
  },
  {
   "cell_type": "markdown",
   "metadata": {
    "id": "5ff67654-5a29-4bb8-a69d-0228946c6f8d"
   },
   "source": [
    "To simplify using the feature extractor and tokenizer, we can _wrap_\n",
    "both into a single `WhisperProcessor` class. This processor object\n",
    "inherits from the `WhisperFeatureExtractor` and `WhisperProcessor`,\n",
    "and can be used on the audio inputs and model predictions as required.\n",
    "In doing so, we only need to keep track of two objects during training:\n",
    "the `processor` and the `model`:"
   ],
   "id": "5ff67654-5a29-4bb8-a69d-0228946c6f8d"
  },
  {
   "cell_type": "markdown",
   "metadata": {
    "id": "381acd09-0b0f-4d04-9eb3-f028ac0e5f2c"
   },
   "source": [
    "### Prepare Data"
   ],
   "id": "381acd09-0b0f-4d04-9eb3-f028ac0e5f2c"
  },
  {
   "cell_type": "markdown",
   "metadata": {
    "id": "5a679f05-063d-41b3-9b58-4fc9c6ccf4fd"
   },
   "source": [
    "Since\n",
    "our input audio is sampled at 48kHz, we need to _downsample_ it to\n",
    "16kHz prior to passing it to the Whisper feature extractor, 16kHz being the sampling rate expected by the Whisper model.\n",
    "\n",
    "We'll set the audio inputs to the correct sampling rate using dataset's\n",
    "[`cast_column`](https://huggingface.co/docs/datasets/package_reference/main_classes.html?highlight=cast_column#datasets.DatasetDict.cast_column)\n",
    "method. This operation does not change the audio in-place,\n",
    "but rather signals to `datasets` to resample audio samples _on the fly_ the\n",
    "first time that they are loaded:"
   ],
   "id": "5a679f05-063d-41b3-9b58-4fc9c6ccf4fd"
  },
  {
   "cell_type": "code",
   "execution_count": 7,
   "metadata": {
    "id": "f12e2e57-156f-417b-8cfb-69221cc198e8",
    "executionInfo": {
     "status": "ok",
     "timestamp": 1701599710681,
     "user_tz": -60,
     "elapsed": 239,
     "user": {
      "displayName": "Omid Fattahi Mehr",
      "userId": "14642429637507438411"
     }
    },
    "ExecuteTime": {
     "start_time": "2023-12-09T22:35:45.527171Z",
     "end_time": "2023-12-09T22:35:45.536180Z"
    }
   },
   "outputs": [],
   "source": [
    "from datasets import Audio\n",
    "\n",
    "common_voice = common_voice.cast_column(\"audio\", Audio(sampling_rate=16000))"
   ],
   "id": "f12e2e57-156f-417b-8cfb-69221cc198e8"
  },
  {
   "cell_type": "markdown",
   "metadata": {
    "id": "00382a3e-abec-4cdd-a54c-d1aaa3ea4707"
   },
   "source": [
    "Re-loading the first audio sample in the Common Voice dataset will resample\n",
    "it to the desired sampling rate:"
   ],
   "id": "00382a3e-abec-4cdd-a54c-d1aaa3ea4707"
  },
  {
   "cell_type": "code",
   "execution_count": 8,
   "metadata": {
    "colab": {
     "base_uri": "https://localhost:8080/"
    },
    "executionInfo": {
     "elapsed": 12871,
     "status": "ok",
     "timestamp": 1701599725254,
     "user": {
      "displayName": "Omid Fattahi Mehr",
      "userId": "14642429637507438411"
     },
     "user_tz": -60
    },
    "id": "87122d71-289a-466a-afcf-fa354b18946b",
    "outputId": "5b9c2789-b5d9-4a60-c091-9b7db9d789ad",
    "ExecuteTime": {
     "start_time": "2023-12-09T22:35:45.531679Z",
     "end_time": "2023-12-09T22:35:46.504865Z"
    }
   },
   "outputs": [
    {
     "name": "stdout",
     "output_type": "stream",
     "text": [
      "{'audio': {'path': 'common_voice_de_17545785.mp3', 'array': array([-1.70530257e-13, -8.52651283e-13, -5.68434189e-13, ...,\n",
      "       -1.78488335e-11,  3.52997631e-11,  2.02859951e-11]), 'sampling_rate': 16000}, 'sentence': 'Wo ist denn die Fernbedienung?'}\n"
     ]
    }
   ],
   "source": [
    "print(common_voice[\"train\"][0])"
   ],
   "id": "87122d71-289a-466a-afcf-fa354b18946b"
  },
  {
   "cell_type": "markdown",
   "metadata": {
    "id": "91edc72d-08f8-4f01-899d-74e65ce441fc"
   },
   "source": [
    "Now we can write a function to prepare our data ready for the model:\n",
    "1. We load and resample the audio data by calling `batch[\"audio\"]`. As explained above, 🤗 Datasets performs any necessary resampling operations on the fly.\n",
    "2. We use the feature extractor to compute the log-Mel spectrogram input features from our 1-dimensional audio array.\n",
    "3. We encode the transcriptions to label ids through the use of the tokenizer."
   ],
   "id": "91edc72d-08f8-4f01-899d-74e65ce441fc"
  },
  {
   "cell_type": "code",
   "execution_count": 9,
   "metadata": {
    "id": "6525c478-8962-4394-a1c4-103c54cce170",
    "executionInfo": {
     "status": "ok",
     "timestamp": 1701599728123,
     "user_tz": -60,
     "elapsed": 259,
     "user": {
      "displayName": "Omid Fattahi Mehr",
      "userId": "14642429637507438411"
     }
    },
    "ExecuteTime": {
     "start_time": "2023-12-09T22:35:46.503865Z",
     "end_time": "2023-12-09T22:35:46.507368Z"
    }
   },
   "outputs": [],
   "source": [
    "def prepare_dataset(batch):\n",
    "    # load and resample audio data from 48 to 16kHz\n",
    "    audio = batch[\"audio\"]\n",
    "\n",
    "    # compute log-Mel input features from input audio array\n",
    "    batch[\"input_features\"] = feature_extractor(audio[\"array\"], sampling_rate=audio[\"sampling_rate\"]).input_features[0]\n",
    "\n",
    "    # encode target text to label ids\n",
    "    batch[\"labels\"] = tokenizer(batch[\"sentence\"]).input_ids\n",
    "    return batch"
   ],
   "id": "6525c478-8962-4394-a1c4-103c54cce170"
  },
  {
   "cell_type": "markdown",
   "metadata": {
    "id": "70b319fb-2439-4ef6-a70d-a47bf41c4a13"
   },
   "source": [
    "We can apply the data preparation function to all of our training examples using dataset's `.map` method. The argument `num_proc` specifies how many CPU cores to use. Setting `num_proc` > 1 will enable multiprocessing. If the `.map` method hangs with multiprocessing, set `num_proc=1` and process the dataset sequentially."
   ],
   "id": "70b319fb-2439-4ef6-a70d-a47bf41c4a13"
  },
  {
   "cell_type": "code",
   "execution_count": 10,
   "metadata": {
    "colab": {
     "base_uri": "https://localhost:8080/",
     "height": 137,
     "referenced_widgets": [
      "b1f93780e7ef473ca17b9387a66cf581",
      "3f088821fa414bcda91abaa1d5d0fe22",
      "409be221a78c4cb7afe582e6221bcdae",
      "feb76ccdcd334f6a8b6eaa51bca85f69",
      "9db2ec5239f1405698e8436adcaffb09",
      "d3662c9d04bd4918b252fadd280ab323",
      "99f49963d32e49acb963b833f78c6576",
      "7d36d04156a64c25ae9c9a9900763491",
      "caec953967004ce5aa418dc7f2de1f20",
      "6090b0610eb84d8f93df9af01642d091",
      "bff9ff402d184d6bbd3ccae3e03b28c1",
      "468e13a0ee614371a77121dc27e7bf6a",
      "31ea4c2f5b774209a02520bceaf30e38",
      "2a62ed002c9441e28cee7328d7e736d6",
      "545f8ef52ee34052a8c55927948faed4",
      "fbdb9243c8d6448a9a74d745e42a0108",
      "8fd0f6396a794712b2edb1421b0a7a04",
      "cbc8617ae613487393e2dab554ed1fd3",
      "5f763caeb3a445d6854d34f161d8e472",
      "3c0e910d2530418396c944b055fe7a2c",
      "a56d96feb96f4c9b80e2b9d859c0bf0d",
      "3db2e49278654ecca8b4cb367ef1f71e"
     ]
    },
    "id": "7b73ab39-ffaf-4b9e-86e5-782963c6134b",
    "executionInfo": {
     "status": "ok",
     "timestamp": 1701603065383,
     "user_tz": -60,
     "elapsed": 3144068,
     "user": {
      "displayName": "Omid Fattahi Mehr",
      "userId": "14642429637507438411"
     }
    },
    "outputId": "d2954578-9b48-401f-84a2-eb255b714136",
    "ExecuteTime": {
     "start_time": "2023-12-09T22:35:46.507368Z",
     "end_time": "2023-12-09T22:35:47.402622Z"
    }
   },
   "outputs": [],
   "source": [
    "common_voice = common_voice.map(prepare_dataset, remove_columns=common_voice.column_names[\"train\"], num_proc=2)"
   ],
   "id": "7b73ab39-ffaf-4b9e-86e5-782963c6134b"
  },
  {
   "cell_type": "code",
   "source": [
    "# Run code cell to push and store processed features to Drive\n",
    "\n",
    "# Mount the Drive if not mounted\n",
    "drive.mount('/content/drive')\n",
    "\n",
    "# Processed features stored in 'features' folder\n",
    "output_dir = \"/common_voice_features\"\n",
    "os.makedirs(output_dir, exist_ok=True)\n",
    "\n",
    "# Save to Drive\n",
    "common_voice.save_to_disk(output_dir)"
   ],
   "metadata": {
    "colab": {
     "base_uri": "https://localhost:8080/",
     "height": 652,
     "referenced_widgets": [
      "3a3e85786a62450a9ee82c08c4f07105",
      "7109f746d3924e17b7f7fd288714a2fe",
      "88341030e6574242bd65efca11cc6be2",
      "f165b78ca5d647df8db5dc10cd7e5894",
      "23793819643f4502a6f47f838ec6ab5c",
      "227df7982e2d464babe883f8f79805d0",
      "5bafbbdade5643a78d7b9596e6fb1abf",
      "454cfac9f85f47bf91fd16e321e2f31c",
      "7051d691f3334ade9ea7475401c9bf2e",
      "00a51a7bddb64eae83a30e2badb32f06",
      "b3f561ca416c4718a4d3545d7f07fb32"
     ]
    },
    "id": "xDc4ZpMaLgke",
    "executionInfo": {
     "status": "error",
     "timestamp": 1701548282750,
     "user_tz": -60,
     "elapsed": 172814,
     "user": {
      "displayName": "Part icipant2",
      "userId": "01367349284947103366"
     }
    },
    "outputId": "59e3e0f7-92c7-4b4a-ed91-407c4d7c1d80",
    "ExecuteTime": {
     "start_time": "2023-12-09T02:12:24.611414Z",
     "end_time": "2023-12-09T02:14:40.752147Z"
    }
   },
   "id": "xDc4ZpMaLgke",
   "execution_count": 23,
   "outputs": [
    {
     "ename": "PermissionError",
     "evalue": "[Errno 13] Permission denied: '/common_voice_features'",
     "output_type": "error",
     "traceback": [
      "\u001B[0;31m---------------------------------------------------------------------------\u001B[0m",
      "\u001B[0;31mPermissionError\u001B[0m                           Traceback (most recent call last)",
      "Cell \u001B[0;32mIn[23], line 7\u001B[0m\n\u001B[1;32m      1\u001B[0m \u001B[38;5;66;03m# Run code cell to push and store processed features to Drive\u001B[39;00m\n\u001B[1;32m      2\u001B[0m \n\u001B[1;32m      3\u001B[0m \u001B[38;5;66;03m# Mount the Drive if not mounted\u001B[39;00m\n\u001B[1;32m      4\u001B[0m \n\u001B[1;32m      5\u001B[0m \u001B[38;5;66;03m# Processed features stored in 'features' folder\u001B[39;00m\n\u001B[1;32m      6\u001B[0m output_dir \u001B[38;5;241m=\u001B[39m \u001B[38;5;124m\"\u001B[39m\u001B[38;5;124m/common_voice_features\u001B[39m\u001B[38;5;124m\"\u001B[39m\n\u001B[0;32m----> 7\u001B[0m \u001B[43mos\u001B[49m\u001B[38;5;241;43m.\u001B[39;49m\u001B[43mmakedirs\u001B[49m\u001B[43m(\u001B[49m\u001B[43moutput_dir\u001B[49m\u001B[43m,\u001B[49m\u001B[43m \u001B[49m\u001B[43mexist_ok\u001B[49m\u001B[38;5;241;43m=\u001B[39;49m\u001B[38;5;28;43;01mTrue\u001B[39;49;00m\u001B[43m)\u001B[49m\n\u001B[1;32m      9\u001B[0m \u001B[38;5;66;03m# Save to Drive\u001B[39;00m\n\u001B[1;32m     10\u001B[0m common_voice\u001B[38;5;241m.\u001B[39msave_to_disk(output_dir)\n",
      "File \u001B[0;32m<frozen os>:225\u001B[0m, in \u001B[0;36mmakedirs\u001B[0;34m(name, mode, exist_ok)\u001B[0m\n",
      "\u001B[0;31mPermissionError\u001B[0m: [Errno 13] Permission denied: '/common_voice_features'"
     ]
    }
   ]
  },
  {
   "cell_type": "code",
   "source": [
    "print(common_voice[\"train\"][0])"
   ],
   "metadata": {
    "colab": {
     "base_uri": "https://localhost:8080/"
    },
    "id": "dB8_Vayzn4H-",
    "executionInfo": {
     "status": "ok",
     "timestamp": 1701603343653,
     "user_tz": -60,
     "elapsed": 1192,
     "user": {
      "displayName": "Omid Fattahi Mehr",
      "userId": "14642429637507438411"
     }
    },
    "outputId": "c7c4006e-f465-44bf-de80-dd6d48518ec1",
    "ExecuteTime": {
     "start_time": "2023-12-10T22:20:42.882436Z",
     "end_time": "2023-12-10T22:20:42.883943Z"
    }
   },
   "id": "dB8_Vayzn4H-",
   "execution_count": 1,
   "outputs": []
  },
  {
   "cell_type": "markdown",
   "metadata": {
    "id": "263a5a58-0239-4a25-b0df-c625fc9c5810"
   },
   "source": [
    "## Training and Evaluation"
   ],
   "id": "263a5a58-0239-4a25-b0df-c625fc9c5810"
  },
  {
   "cell_type": "markdown",
   "metadata": {
    "id": "a693e768-c5a6-453f-89a1-b601dcf7daf7"
   },
   "source": [
    "Now that we've prepared our data, we're ready to dive into the training pipeline.\n",
    "The [🤗 Trainer](https://huggingface.co/transformers/master/main_classes/trainer.html?highlight=trainer)\n",
    "will do much of the heavy lifting for us. All we have to do is:\n",
    "\n",
    "- Define a data collator: the data collator takes our pre-processed data and prepares PyTorch tensors ready for the model.\n",
    "\n",
    "- Evaluation metrics: during evaluation, we want to evaluate the model using the [word error rate (WER)](https://huggingface.co/metrics/wer) metric. We need to define a `compute_metrics` function that handles this computation.\n",
    "\n",
    "- Load a pre-trained checkpoint: we need to load a pre-trained checkpoint and configure it correctly for training.\n",
    "\n",
    "- Define the training configuration: this will be used by the 🤗 Trainer to define the training schedule.\n",
    "\n",
    "Once we've fine-tuned the model, we will evaluate it on the test data to verify that we have correctly trained it\n",
    "to transcribe speech in German."
   ],
   "id": "a693e768-c5a6-453f-89a1-b601dcf7daf7"
  },
  {
   "cell_type": "markdown",
   "metadata": {
    "id": "8d230e6d-624c-400a-bbf5-fa660881df25"
   },
   "source": [
    "### Define a Data Collator"
   ],
   "id": "8d230e6d-624c-400a-bbf5-fa660881df25"
  },
  {
   "cell_type": "markdown",
   "metadata": {
    "id": "04def221-0637-4a69-b242-d3f0c1d0ee78"
   },
   "source": [
    "The data collator for a sequence-to-sequence speech model is unique in the sense that it\n",
    "treats the `input_features` and `labels` independently: the  `input_features` must be\n",
    "handled by the feature extractor and the `labels` by the tokenizer.\n",
    "\n",
    "The `input_features` are already padded to 30s and converted to a log-Mel spectrogram\n",
    "of fixed dimension by action of the feature extractor, so all we have to do is convert the `input_features`\n",
    "to batched PyTorch tensors. We do this using the feature extractor's `.pad` method with `return_tensors=pt`.\n",
    "\n",
    "The `labels` on the other hand are un-padded. We first pad the sequences\n",
    "to the maximum length in the batch using the tokenizer's `.pad` method. The padding tokens\n",
    "are then replaced by `-100` so that these tokens are **not** taken into account when\n",
    "computing the loss. We then cut the BOS token from the start of the label sequence as we\n",
    "append it later during training.\n",
    "\n",
    "We can leverage the `WhisperProcessor` we defined earlier to perform both the\n",
    "feature extractor and the tokenizer operations:"
   ],
   "id": "04def221-0637-4a69-b242-d3f0c1d0ee78"
  },
  {
   "cell_type": "code",
   "execution_count": 12,
   "metadata": {
    "id": "8326221e-ec13-4731-bb4e-51e5fc1486c5",
    "executionInfo": {
     "status": "ok",
     "timestamp": 1701603352155,
     "user_tz": -60,
     "elapsed": 251,
     "user": {
      "displayName": "Omid Fattahi Mehr",
      "userId": "14642429637507438411"
     }
    },
    "ExecuteTime": {
     "start_time": "2023-12-09T22:35:47.517289Z",
     "end_time": "2023-12-09T22:35:47.521801Z"
    }
   },
   "outputs": [],
   "source": [
    "import torch\n",
    "\n",
    "from dataclasses import dataclass\n",
    "from typing import Any, Dict, List, Union\n",
    "@dataclass\n",
    "class DataCollatorSpeechSeq2SeqWithPadding:\n",
    "    processor: Any\n",
    "\n",
    "    def __call__(self, features: List[Dict[str, Union[List[int], torch.Tensor]]]) -> Dict[str, torch.Tensor]:\n",
    "        # split inputs and labels since they have to be of different lengths and need different padding methods\n",
    "        # first treat the audio inputs by simply returning torch tensors\n",
    "        input_features = [{\"input_features\": feature[\"input_features\"]} for feature in features]\n",
    "        batch = self.processor.feature_extractor.pad(input_features, return_tensors=\"pt\")\n",
    "\n",
    "        # get the tokenized label sequences\n",
    "        label_features = [{\"input_ids\": feature[\"labels\"]} for feature in features]\n",
    "        # pad the labels to max length\n",
    "        labels_batch = self.processor.tokenizer.pad(label_features, return_tensors=\"pt\")\n",
    "\n",
    "        # replace padding with -100 to ignore loss correctly\n",
    "        labels = labels_batch[\"input_ids\"].masked_fill(labels_batch.attention_mask.ne(1), -100)\n",
    "\n",
    "        # if bos token is appended in previous tokenization step,\n",
    "        # cut bos token here as it's append later anyways\n",
    "        if (labels[:, 0] == self.processor.tokenizer.bos_token_id).all().cpu().item():\n",
    "            labels = labels[:, 1:]\n",
    "\n",
    "        batch[\"labels\"] = labels\n",
    "\n",
    "        return batch"
   ],
   "id": "8326221e-ec13-4731-bb4e-51e5fc1486c5"
  },
  {
   "cell_type": "markdown",
   "metadata": {
    "id": "3cae7dbf-8a50-456e-a3a8-7fd005390f86"
   },
   "source": [
    "Let's initialise the data collator we've just defined:"
   ],
   "id": "3cae7dbf-8a50-456e-a3a8-7fd005390f86"
  },
  {
   "cell_type": "code",
   "execution_count": 13,
   "metadata": {
    "id": "fc834702-c0d3-4a96-b101-7b87be32bf42",
    "executionInfo": {
     "status": "ok",
     "timestamp": 1701603355126,
     "user_tz": -60,
     "elapsed": 530,
     "user": {
      "displayName": "Omid Fattahi Mehr",
      "userId": "14642429637507438411"
     }
    },
    "ExecuteTime": {
     "start_time": "2023-12-09T22:35:48.989167Z",
     "end_time": "2023-12-09T22:35:49.009180Z"
    }
   },
   "outputs": [],
   "source": [
    "data_collator = DataCollatorSpeechSeq2SeqWithPadding(processor=processor)"
   ],
   "id": "fc834702-c0d3-4a96-b101-7b87be32bf42"
  },
  {
   "cell_type": "markdown",
   "metadata": {
    "id": "d62bb2ab-750a-45e7-82e9-61d6f4805698"
   },
   "source": [
    "### Evaluation Metrics"
   ],
   "id": "d62bb2ab-750a-45e7-82e9-61d6f4805698"
  },
  {
   "cell_type": "markdown",
   "metadata": {
    "id": "66fee1a7-a44c-461e-b047-c3917221572e"
   },
   "source": [
    "We'll use the word error rate (WER) metric, the 'de-facto' metric for assessing\n",
    "ASR systems. For more information, refer to the WER [docs](https://huggingface.co/metrics/wer). We'll load the WER metric from 🤗 Evaluate:"
   ],
   "id": "66fee1a7-a44c-461e-b047-c3917221572e"
  },
  {
   "cell_type": "code",
   "execution_count": 14,
   "metadata": {
    "executionInfo": {
     "elapsed": 1192,
     "status": "ok",
     "timestamp": 1701603357835,
     "user": {
      "displayName": "Omid Fattahi Mehr",
      "userId": "14642429637507438411"
     },
     "user_tz": -60
    },
    "id": "b22b4011-f31f-4b57-b684-c52332f92890",
    "ExecuteTime": {
     "start_time": "2023-12-09T22:35:50.210224Z",
     "end_time": "2023-12-09T22:35:53.869044Z"
    }
   },
   "outputs": [
    {
     "name": "stderr",
     "output_type": "stream",
     "text": [
      "2023-12-09 22:35:50.789171: E external/local_xla/xla/stream_executor/cuda/cuda_dnn.cc:9261] Unable to register cuDNN factory: Attempting to register factory for plugin cuDNN when one has already been registered\n",
      "2023-12-09 22:35:50.789212: E external/local_xla/xla/stream_executor/cuda/cuda_fft.cc:607] Unable to register cuFFT factory: Attempting to register factory for plugin cuFFT when one has already been registered\n",
      "2023-12-09 22:35:50.790751: E external/local_xla/xla/stream_executor/cuda/cuda_blas.cc:1515] Unable to register cuBLAS factory: Attempting to register factory for plugin cuBLAS when one has already been registered\n",
      "2023-12-09 22:35:51.588261: W tensorflow/compiler/tf2tensorrt/utils/py_utils.cc:38] TF-TRT Warning: Could not find TensorRT\n"
     ]
    }
   ],
   "source": [
    "import evaluate\n",
    "\n",
    "metric = evaluate.load(\"wer\")"
   ],
   "id": "b22b4011-f31f-4b57-b684-c52332f92890"
  },
  {
   "cell_type": "markdown",
   "metadata": {
    "id": "4f32cab6-31f0-4cb9-af4c-40ba0f5fc508"
   },
   "source": [
    "We then simply have to define a function that takes our model\n",
    "predictions and returns the WER metric. This function, called\n",
    "`compute_metrics`, first replaces `-100` with the `pad_token_id`\n",
    "in the `label_ids` (undoing the step we applied in the\n",
    "data collator to ignore padded tokens correctly in the loss).\n",
    "It then decodes the predicted and label ids to strings. Finally,\n",
    "it computes the WER between the predictions and reference labels:"
   ],
   "id": "4f32cab6-31f0-4cb9-af4c-40ba0f5fc508"
  },
  {
   "cell_type": "code",
   "execution_count": 15,
   "metadata": {
    "id": "23959a70-22d0-4ffe-9fa1-72b61e75bb52",
    "executionInfo": {
     "status": "ok",
     "timestamp": 1701603359514,
     "user_tz": -60,
     "elapsed": 346,
     "user": {
      "displayName": "Omid Fattahi Mehr",
      "userId": "14642429637507438411"
     }
    },
    "ExecuteTime": {
     "start_time": "2023-12-09T22:35:53.871044Z",
     "end_time": "2023-12-09T22:35:53.873047Z"
    }
   },
   "outputs": [],
   "source": [
    "def compute_metrics(pred):\n",
    "    pred_ids = pred.predictions\n",
    "    label_ids = pred.label_ids\n",
    "\n",
    "    # replace -100 with the pad_token_id\n",
    "    label_ids[label_ids == -100] = tokenizer.pad_token_id\n",
    "\n",
    "    # we do not want to group tokens when computing the metrics\n",
    "    pred_str = tokenizer.batch_decode(pred_ids, skip_special_tokens=True)\n",
    "    label_str = tokenizer.batch_decode(label_ids, skip_special_tokens=True)\n",
    "\n",
    "    wer = 100 * metric.compute(predictions=pred_str, references=label_str)\n",
    "\n",
    "    return {\"wer\": wer}"
   ],
   "id": "23959a70-22d0-4ffe-9fa1-72b61e75bb52"
  },
  {
   "cell_type": "markdown",
   "metadata": {
    "id": "daf2a825-6d9f-4a23-b145-c37c0039075b"
   },
   "source": [
    "### Load a Pre-Trained Checkpoint"
   ],
   "id": "daf2a825-6d9f-4a23-b145-c37c0039075b"
  },
  {
   "cell_type": "markdown",
   "metadata": {
    "id": "437a97fa-4864-476b-8abc-f28b8166cfa5"
   },
   "source": [
    "Now let's load the pre-trained Whisper `small` checkpoint. Again, this\n",
    "is trivial through use of 🤗 Transformers!"
   ],
   "id": "437a97fa-4864-476b-8abc-f28b8166cfa5"
  },
  {
   "cell_type": "code",
   "execution_count": 16,
   "metadata": {
    "executionInfo": {
     "elapsed": 9506,
     "status": "ok",
     "timestamp": 1701603372159,
     "user": {
      "displayName": "Omid Fattahi Mehr",
      "userId": "14642429637507438411"
     },
     "user_tz": -60
    },
    "id": "5a10cc4b-07ec-4ebd-ac1d-7c601023594f",
    "ExecuteTime": {
     "start_time": "2023-12-09T22:35:53.873047Z",
     "end_time": "2023-12-09T22:36:01.599057Z"
    }
   },
   "outputs": [],
   "source": [
    "from transformers import WhisperForConditionalGeneration\n",
    "\n",
    "model = WhisperForConditionalGeneration.from_pretrained(\"drive/MyDrive/whisper-small-de/checkpoint-4000\")"
   ],
   "id": "5a10cc4b-07ec-4ebd-ac1d-7c601023594f"
  },
  {
   "cell_type": "markdown",
   "metadata": {
    "id": "a15ead5f-2277-4a39-937b-585c2497b2df"
   },
   "source": [
    "Override generation arguments - no tokens are forced as decoder outputs (see [`forced_decoder_ids`](https://huggingface.co/docs/transformers/main_classes/text_generation#transformers.generation_utils.GenerationMixin.generate.forced_decoder_ids)), no tokens are suppressed during generation (see [`suppress_tokens`](https://huggingface.co/docs/transformers/main_classes/text_generation#transformers.generation_utils.GenerationMixin.generate.suppress_tokens)):"
   ],
   "id": "a15ead5f-2277-4a39-937b-585c2497b2df"
  },
  {
   "cell_type": "code",
   "execution_count": 17,
   "metadata": {
    "id": "62038ba3-88ed-4fce-84db-338f50dcd04f",
    "executionInfo": {
     "status": "ok",
     "timestamp": 1701603373714,
     "user_tz": -60,
     "elapsed": 271,
     "user": {
      "displayName": "Omid Fattahi Mehr",
      "userId": "14642429637507438411"
     }
    },
    "ExecuteTime": {
     "start_time": "2023-12-09T22:36:01.600058Z",
     "end_time": "2023-12-09T22:36:01.603564Z"
    }
   },
   "outputs": [],
   "source": [
    "model.config.forced_decoder_ids = None\n",
    "model.config.suppress_tokens = []\n",
    "model.config.dropout = 0.05"
   ],
   "id": "62038ba3-88ed-4fce-84db-338f50dcd04f"
  },
  {
   "cell_type": "markdown",
   "metadata": {
    "id": "2178dea4-80ca-47b6-b6ea-ba1915c90c06"
   },
   "source": [
    "### Define the Training Configuration"
   ],
   "id": "2178dea4-80ca-47b6-b6ea-ba1915c90c06"
  },
  {
   "cell_type": "markdown",
   "metadata": {
    "id": "c21af1e9-0188-4134-ac82-defc7bdcc436"
   },
   "source": [
    "In the final step, we define all the parameters related to training. For more detail on the training arguments, refer to the Seq2SeqTrainingArguments [docs](https://huggingface.co/docs/transformers/main_classes/trainer#transformers.Seq2SeqTrainingArguments)."
   ],
   "id": "c21af1e9-0188-4134-ac82-defc7bdcc436"
  },
  {
   "cell_type": "code",
   "execution_count": 18,
   "metadata": {
    "id": "0ae3e9af-97b7-4aa0-ae85-20b23b5bcb3a",
    "executionInfo": {
     "status": "ok",
     "timestamp": 1701603376843,
     "user_tz": -60,
     "elapsed": 427,
     "user": {
      "displayName": "Omid Fattahi Mehr",
      "userId": "14642429637507438411"
     }
    },
    "ExecuteTime": {
     "start_time": "2023-12-09T22:36:01.602565Z",
     "end_time": "2023-12-09T22:36:01.614579Z"
    }
   },
   "outputs": [],
   "source": [
    "from transformers import Seq2SeqTrainingArguments\n",
    "\n",
    "training_args = Seq2SeqTrainingArguments(\n",
    "    output_dir=\"./drive/MyDrive/whisper-small-de\",  # change to a repo name of your choice\n",
    "    per_device_train_batch_size=16,\n",
    "    gradient_accumulation_steps=1,  # increase by 2x for every 2x decrease in batch size\n",
    "    learning_rate=1.25e-5,\n",
    "    weight_decay=1.e-6,\n",
    "    warmup_steps=500,\n",
    "    max_steps=4000,\n",
    "    gradient_checkpointing=True,\n",
    "    fp16=True,\n",
    "    evaluation_strategy=\"steps\",\n",
    "    per_device_eval_batch_size=8,\n",
    "    predict_with_generate=True,\n",
    "    generation_max_length=225,\n",
    "    save_steps=500,\n",
    "    eval_steps=500,\n",
    "    logging_steps=25,\n",
    "    report_to=[\"tensorboard\"],\n",
    "    load_best_model_at_end=True,\n",
    "    metric_for_best_model=\"wer\",\n",
    "    greater_is_better=False,\n",
    "    push_to_hub=False,\n",
    ")"
   ],
   "id": "0ae3e9af-97b7-4aa0-ae85-20b23b5bcb3a"
  },
  {
   "cell_type": "markdown",
   "metadata": {
    "id": "b3a944d8-3112-4552-82a0-be25988b3857"
   },
   "source": [
    "**Note**: if one does not want to upload the model checkpoints to the Hub,\n",
    "set `push_to_hub=False`."
   ],
   "id": "b3a944d8-3112-4552-82a0-be25988b3857"
  },
  {
   "cell_type": "markdown",
   "metadata": {
    "id": "bac29114-d226-4f54-97cf-8718c9f94e1e"
   },
   "source": [
    "We can forward the training arguments to the 🤗 Trainer along with our model,\n",
    "dataset, data collator and `compute_metrics` function:"
   ],
   "id": "bac29114-d226-4f54-97cf-8718c9f94e1e"
  },
  {
   "cell_type": "code",
   "execution_count": 19,
   "metadata": {
    "id": "d546d7fe-0543-479a-b708-2ebabec19493",
    "executionInfo": {
     "status": "ok",
     "timestamp": 1701603380292,
     "user_tz": -60,
     "elapsed": 570,
     "user": {
      "displayName": "Omid Fattahi Mehr",
      "userId": "14642429637507438411"
     }
    },
    "ExecuteTime": {
     "start_time": "2023-12-09T22:36:01.616580Z",
     "end_time": "2023-12-09T22:36:01.956552Z"
    }
   },
   "outputs": [],
   "source": [
    "from transformers import Seq2SeqTrainer\n",
    "\n",
    "trainer = Seq2SeqTrainer(\n",
    "    args=training_args,\n",
    "    model=model,\n",
    "    train_dataset=common_voice[\"train\"],\n",
    "    eval_dataset=common_voice[\"test\"],\n",
    "    data_collator=data_collator,\n",
    "    compute_metrics=compute_metrics,\n",
    "    tokenizer=processor.feature_extractor,\n",
    ")"
   ],
   "id": "d546d7fe-0543-479a-b708-2ebabec19493"
  },
  {
   "cell_type": "markdown",
   "metadata": {
    "id": "uOrRhDGtN5S4"
   },
   "source": [
    "We'll save the processor object once before starting training. Since the processor is not trainable, it won't change over the course of training:"
   ],
   "id": "uOrRhDGtN5S4"
  },
  {
   "cell_type": "code",
   "execution_count": 20,
   "metadata": {
    "id": "-2zQwMfEOBJq",
    "executionInfo": {
     "status": "ok",
     "timestamp": 1701603389310,
     "user_tz": -60,
     "elapsed": 581,
     "user": {
      "displayName": "Omid Fattahi Mehr",
      "userId": "14642429637507438411"
     }
    },
    "ExecuteTime": {
     "start_time": "2023-12-09T22:36:01.957555Z",
     "end_time": "2023-12-09T22:36:02.054765Z"
    }
   },
   "outputs": [],
   "source": [
    "processor.save_pretrained(training_args.output_dir)"
   ],
   "id": "-2zQwMfEOBJq"
  },
  {
   "cell_type": "markdown",
   "metadata": {
    "id": "7f404cf9-4345-468c-8196-4bd101d9bd51"
   },
   "source": [
    "### Training"
   ],
   "id": "7f404cf9-4345-468c-8196-4bd101d9bd51"
  },
  {
   "cell_type": "markdown",
   "metadata": {
    "id": "5e8b8d56-5a70-4f68-bd2e-f0752d0bd112"
   },
   "source": [
    "Training will take approximately 5-10 hours depending on your GPU or the one\n",
    "allocated to this Google Colab. If using this Google Colab directly to\n",
    "fine-tune a Whisper model, you should make sure that training isn't\n",
    "interrupted due to inactivity. A simple workaround to prevent this is\n",
    "to paste the following code into the console of this tab (_right mouse click_\n",
    "-> _inspect_ -> _Console tab_ -> _insert code_)."
   ],
   "id": "5e8b8d56-5a70-4f68-bd2e-f0752d0bd112"
  },
  {
   "cell_type": "markdown",
   "metadata": {
    "id": "890a63ed-e87b-4e53-a35a-6ec1eca560af"
   },
   "source": [
    "```javascript\n",
    "function ConnectButton(){\n",
    "    console.log(\"Connect pushed\");\n",
    "    document.querySelector(\"#top-toolbar > colab-connect-button\").shadowRoot.querySelector(\"#connect\").click()\n",
    "}\n",
    "setInterval(ConnectButton, 60000);\n",
    "```"
   ],
   "id": "890a63ed-e87b-4e53-a35a-6ec1eca560af"
  },
  {
   "cell_type": "markdown",
   "metadata": {
    "id": "5a55168b-2f46-4678-afa0-ff22257ec06d"
   },
   "source": [
    "The peak GPU memory for the given training configuration is approximately 15.8GB.\n",
    "Depending on the GPU allocated to the Google Colab, it is possible that you will encounter a CUDA `\"out-of-memory\"` error when you launch training.\n",
    "In this case, you can reduce the `per_device_train_batch_size` incrementally by factors of 2\n",
    "and employ [`gradient_accumulation_steps`](https://huggingface.co/docs/transformers/main_classes/trainer#transformers.Seq2SeqTrainingArguments.gradient_accumulation_steps)\n",
    "to compensate.\n",
    "\n",
    "To launch training, simply execute:"
   ],
   "id": "5a55168b-2f46-4678-afa0-ff22257ec06d"
  },
  {
   "cell_type": "code",
   "execution_count": 33,
   "metadata": {
    "id": "ee8b7b8e-1c9a-4d77-9137-1778a629e6de",
    "colab": {
     "base_uri": "https://localhost:8080/",
     "height": 219
    },
    "outputId": "b50ee7b8-882d-4ff8-a8db-4f1bfa9b2d9f",
    "executionInfo": {
     "status": "error",
     "timestamp": 1701614212336,
     "user_tz": -60,
     "elapsed": 439,
     "user": {
      "displayName": "Omid Fattahi Mehr",
      "userId": "14642429637507438411"
     }
    },
    "ExecuteTime": {
     "start_time": "2023-12-09T14:57:57.712130Z",
     "end_time": "2023-12-09T21:19:17.059842Z"
    }
   },
   "outputs": [
    {
     "name": "stderr",
     "output_type": "stream",
     "text": [
      "There were missing keys in the checkpoint model loaded: ['proj_out.weight'].\n",
      "/home/cheesy/miniconda3/envs/ml/lib/python3.11/site-packages/torch/utils/checkpoint.py:429: UserWarning: torch.utils.checkpoint: please pass in use_reentrant=True or use_reentrant=False explicitly. The default value of use_reentrant will be updated to be False in the future. To maintain current behavior, pass use_reentrant=True. It is recommended that you use use_reentrant=False. Refer to docs for more details on the differences between the two variants.\n",
      "  warnings.warn(\n",
      "`use_cache = True` is incompatible with gradient checkpointing. Setting `use_cache = False`...\n"
     ]
    },
    {
     "data": {
      "text/plain": "<IPython.core.display.HTML object>",
      "text/html": "\n    <div>\n      \n      <progress value='2002' max='4000' style='width:300px; height:20px; vertical-align: middle;'></progress>\n      [2002/4000 : < :, Epoch 1.60/4]\n    </div>\n    <table border=\"1\" class=\"dataframe\">\n  <thead>\n <tr style=\"text-align: left;\">\n      <th>Step</th>\n      <th>Training Loss</th>\n      <th>Validation Loss</th>\n    </tr>\n  </thead>\n  <tbody>\n  </tbody>\n</table><p>"
     },
     "metadata": {},
     "output_type": "display_data"
    },
    {
     "name": "stderr",
     "output_type": "stream",
     "text": [
      "/home/cheesy/miniconda3/envs/ml/lib/python3.11/site-packages/torch/utils/checkpoint.py:429: UserWarning: torch.utils.checkpoint: please pass in use_reentrant=True or use_reentrant=False explicitly. The default value of use_reentrant will be updated to be False in the future. To maintain current behavior, pass use_reentrant=True. It is recommended that you use use_reentrant=False. Refer to docs for more details on the differences between the two variants.\n",
      "  warnings.warn(\n",
      "/home/cheesy/miniconda3/envs/ml/lib/python3.11/site-packages/torch/utils/checkpoint.py:429: UserWarning: torch.utils.checkpoint: please pass in use_reentrant=True or use_reentrant=False explicitly. The default value of use_reentrant will be updated to be False in the future. To maintain current behavior, pass use_reentrant=True. It is recommended that you use use_reentrant=False. Refer to docs for more details on the differences between the two variants.\n",
      "  warnings.warn(\n",
      "/home/cheesy/miniconda3/envs/ml/lib/python3.11/site-packages/torch/utils/checkpoint.py:429: UserWarning: torch.utils.checkpoint: please pass in use_reentrant=True or use_reentrant=False explicitly. The default value of use_reentrant will be updated to be False in the future. To maintain current behavior, pass use_reentrant=True. It is recommended that you use use_reentrant=False. Refer to docs for more details on the differences between the two variants.\n",
      "  warnings.warn(\n",
      "There were missing keys in the checkpoint model loaded: ['proj_out.weight'].\n"
     ]
    },
    {
     "data": {
      "text/plain": "TrainOutput(global_step=4000, training_loss=0.04978940799832344, metrics={'train_runtime': 22844.7765, 'train_samples_per_second': 2.802, 'train_steps_per_second': 0.175, 'total_flos': 1.846946562048e+19, 'train_loss': 0.04978940799832344, 'epoch': 3.2})"
     },
     "execution_count": 33,
     "metadata": {},
     "output_type": "execute_result"
    }
   ],
   "source": [
    "trainer.train(resume_from_checkpoint='drive/MyDrive/whisper-small-de')"
   ],
   "id": "ee8b7b8e-1c9a-4d77-9137-1778a629e6de"
  },
  {
   "cell_type": "markdown",
   "metadata": {
    "id": "810ced54-7187-4a06-b2fe-ba6dcca94dc3"
   },
   "source": [
    "Our best WER is 32.0% - not bad for 8h of training data! We can submit our checkpoint to the [`hf-speech-bench`](https://huggingface.co/spaces/huggingface/hf-speech-bench) on push by setting the appropriate key-word arguments (kwargs):"
   ],
   "id": "810ced54-7187-4a06-b2fe-ba6dcca94dc3"
  },
  {
   "cell_type": "code",
   "execution_count": 21,
   "outputs": [
    {
     "data": {
      "text/plain": "<IPython.core.display.HTML object>",
      "text/html": "\n    <div>\n      \n      <progress value='1' max='1250' style='width:300px; height:20px; vertical-align: middle;'></progress>\n      [   1/1250 : < :]\n    </div>\n    "
     },
     "metadata": {},
     "output_type": "display_data"
    },
    {
     "name": "stdout",
     "output_type": "stream",
     "text": [
      "{'wer_loss': 0.2847844958305359, 'wer_wer': 32.67097712227521, 'wer_runtime': 2471.885, 'wer_samples_per_second': 4.045, 'wer_steps_per_second': 0.506}\n"
     ]
    }
   ],
   "source": [
    "test_eval = trainer.evaluate(metric_key_prefix='wer')\n",
    "print(test_eval)"
   ],
   "metadata": {
    "collapsed": false,
    "ExecuteTime": {
     "start_time": "2023-12-09T22:36:04.188846Z",
     "end_time": "2023-12-09T23:17:16.132360Z"
    }
   }
  },
  {
   "cell_type": "code",
   "execution_count": null,
   "outputs": [],
   "source": [
    "temp_preds = model.evaluate()"
   ],
   "metadata": {
    "collapsed": false
   }
  },
  {
   "cell_type": "code",
   "execution_count": 22,
   "metadata": {
    "id": "c704f91e-241b-48c9-b8e0-f0da396a9663",
    "ExecuteTime": {
     "start_time": "2023-12-09T23:24:18.834858Z",
     "end_time": "2023-12-09T23:24:18.857382Z"
    }
   },
   "outputs": [],
   "source": [
    "kwargs = {\n",
    "    \"dataset_tags\": \"mozilla-foundation/common_voice_11_0\",\n",
    "    \"dataset\": \"Common Voice 11.0\",  # a 'pretty' name for the training dataset\n",
    "    \"dataset_args\": \"config: de, split: test\",\n",
    "    \"language\": \"hi\",\n",
    "    \"model_name\": \"Whisper Small De\",  # a 'pretty' name for our model\n",
    "    \"finetuned_from\": \"openai/whisper-small\",\n",
    "    \"tasks\": \"automatic-speech-recognition\",\n",
    "    \"tags\": \"hf-asr-leaderboard\",\n",
    "}"
   ],
   "id": "c704f91e-241b-48c9-b8e0-f0da396a9663"
  },
  {
   "cell_type": "markdown",
   "metadata": {
    "id": "090d676a-f944-4297-a938-a40eda0b2b68"
   },
   "source": [
    "The training results can now be uploaded to the Hub. To do so, execute the `push_to_hub` command and save the preprocessor object we created:"
   ],
   "id": "090d676a-f944-4297-a938-a40eda0b2b68"
  },
  {
   "cell_type": "code",
   "execution_count": 23,
   "metadata": {
    "id": "d7030622-caf7-4039-939b-6195cdaa2585",
    "ExecuteTime": {
     "start_time": "2023-12-09T23:24:20.249202Z",
     "end_time": "2023-12-09T23:25:35.888988Z"
    }
   },
   "outputs": [
    {
     "data": {
      "text/plain": "model.safetensors:   0%|          | 0.00/967M [00:00<?, ?B/s]",
      "application/vnd.jupyter.widget-view+json": {
       "version_major": 2,
       "version_minor": 0,
       "model_id": "60511db2fab9444c8f3d92940cae28e6"
      }
     },
     "metadata": {},
     "output_type": "display_data"
    },
    {
     "data": {
      "text/plain": "optimizer.pt:   0%|          | 0.00/1.93G [00:00<?, ?B/s]",
      "application/vnd.jupyter.widget-view+json": {
       "version_major": 2,
       "version_minor": 0,
       "model_id": "817819fa7ac1410fa69fad2646aeeab0"
      }
     },
     "metadata": {},
     "output_type": "display_data"
    },
    {
     "data": {
      "text/plain": "rng_state.pth:   0%|          | 0.00/14.2k [00:00<?, ?B/s]",
      "application/vnd.jupyter.widget-view+json": {
       "version_major": 2,
       "version_minor": 0,
       "model_id": "da9ff7f4ee294cc9b7ec5d99ae880ad5"
      }
     },
     "metadata": {},
     "output_type": "display_data"
    },
    {
     "data": {
      "text/plain": "Upload 13 LFS files:   0%|          | 0/13 [00:00<?, ?it/s]",
      "application/vnd.jupyter.widget-view+json": {
       "version_major": 2,
       "version_minor": 0,
       "model_id": "824f091e460544d585a1c74847feebaf"
      }
     },
     "metadata": {},
     "output_type": "display_data"
    },
    {
     "data": {
      "text/plain": "events.out.tfevents.1702081712.Carl_Computer.32596.0:   0%|          | 0.00/10.5k [00:00<?, ?B/s]",
      "application/vnd.jupyter.widget-view+json": {
       "version_major": 2,
       "version_minor": 0,
       "model_id": "d6e01f7ec7714f02ae298dc4876d3388"
      }
     },
     "metadata": {},
     "output_type": "display_data"
    },
    {
     "data": {
      "text/plain": "events.out.tfevents.1702084502.Carl_Computer.6292.0:   0%|          | 0.00/11.8k [00:00<?, ?B/s]",
      "application/vnd.jupyter.widget-view+json": {
       "version_major": 2,
       "version_minor": 0,
       "model_id": "8b919404b00e49e3b9cd63db2eb1d61d"
      }
     },
     "metadata": {},
     "output_type": "display_data"
    },
    {
     "data": {
      "text/plain": "events.out.tfevents.1702096654.CarlComputer.1279.0:   0%|          | 0.00/5.56k [00:00<?, ?B/s]",
      "application/vnd.jupyter.widget-view+json": {
       "version_major": 2,
       "version_minor": 0,
       "model_id": "3f5c7eb06b3c4826bfc02be4a03457ca"
      }
     },
     "metadata": {},
     "output_type": "display_data"
    },
    {
     "data": {
      "text/plain": "events.out.tfevents.1702096941.CarlComputer.1279.1:   0%|          | 0.00/8.23k [00:00<?, ?B/s]",
      "application/vnd.jupyter.widget-view+json": {
       "version_major": 2,
       "version_minor": 0,
       "model_id": "b4408b8bffa649198c12086bf1d7920c"
      }
     },
     "metadata": {},
     "output_type": "display_data"
    },
    {
     "data": {
      "text/plain": "events.out.tfevents.1702128026.CarlComputer.5538.0:   0%|          | 0.00/19.2k [00:00<?, ?B/s]",
      "application/vnd.jupyter.widget-view+json": {
       "version_major": 2,
       "version_minor": 0,
       "model_id": "12548b225b6e42cfbe3b68014434854f"
      }
     },
     "metadata": {},
     "output_type": "display_data"
    },
    {
     "data": {
      "text/plain": "events.out.tfevents.1702128728.CarlComputer.11444.0:   0%|          | 0.00/5.09k [00:00<?, ?B/s]",
      "application/vnd.jupyter.widget-view+json": {
       "version_major": 2,
       "version_minor": 0,
       "model_id": "4538af6e0a214bfcbaa7fd2b38d84d52"
      }
     },
     "metadata": {},
     "output_type": "display_data"
    },
    {
     "data": {
      "text/plain": "events.out.tfevents.1702130312.CarlComputer.11444.1:   0%|          | 0.00/19.3k [00:00<?, ?B/s]",
      "application/vnd.jupyter.widget-view+json": {
       "version_major": 2,
       "version_minor": 0,
       "model_id": "f27509f8270d47868f03ecc6ff18101f"
      }
     },
     "metadata": {},
     "output_type": "display_data"
    },
    {
     "data": {
      "text/plain": "events.out.tfevents.1702160236.CarlComputer.1217.0:   0%|          | 0.00/366 [00:00<?, ?B/s]",
      "application/vnd.jupyter.widget-view+json": {
       "version_major": 2,
       "version_minor": 0,
       "model_id": "642c76753fbd46a6874cb97084a26ac1"
      }
     },
     "metadata": {},
     "output_type": "display_data"
    },
    {
     "data": {
      "text/plain": "scheduler.pt:   0%|          | 0.00/1.06k [00:00<?, ?B/s]",
      "application/vnd.jupyter.widget-view+json": {
       "version_major": 2,
       "version_minor": 0,
       "model_id": "391c4183f90244988db40a4097468818"
      }
     },
     "metadata": {},
     "output_type": "display_data"
    },
    {
     "data": {
      "text/plain": "training_args.bin:   0%|          | 0.00/4.73k [00:00<?, ?B/s]",
      "application/vnd.jupyter.widget-view+json": {
       "version_major": 2,
       "version_minor": 0,
       "model_id": "79eba4d838804a4c9635ab447e489393"
      }
     },
     "metadata": {},
     "output_type": "display_data"
    },
    {
     "data": {
      "text/plain": "'https://huggingface.co/carlpersson/whisper-small-de/tree/main/'"
     },
     "execution_count": 23,
     "metadata": {},
     "output_type": "execute_result"
    }
   ],
   "source": [
    "trainer.push_to_hub(**kwargs)"
   ],
   "id": "d7030622-caf7-4039-939b-6195cdaa2585"
  },
  {
   "cell_type": "markdown",
   "metadata": {
    "id": "34d4360d-5721-426e-b6ac-178f833fedeb"
   },
   "source": [
    "## Building a Demo"
   ],
   "id": "34d4360d-5721-426e-b6ac-178f833fedeb"
  },
  {
   "cell_type": "markdown",
   "metadata": {
    "id": "e65489b7-18d1-447c-ba69-cd28dd80dad9"
   },
   "source": [
    "Now that we've fine-tuned our model we can build a demo to show\n",
    "off its ASR capabilities! We'll make use of 🤗 Transformers\n",
    "`pipeline`, which will take care of the entire ASR pipeline,\n",
    "right from pre-processing the audio inputs to decoding the\n",
    "model predictions.\n",
    "\n",
    "Running the example below will generate a Gradio demo where we\n",
    "can record speech through the microphone of our computer and input it to\n",
    "our fine-tuned Whisper model to transcribe the corresponding text:"
   ],
   "id": "e65489b7-18d1-447c-ba69-cd28dd80dad9"
  },
  {
   "cell_type": "code",
   "execution_count": 24,
   "metadata": {
    "id": "e0ace3aa-1ef3-45cb-933f-6ddca037c5aa"
   },
   "outputs": [
    {
     "data": {
      "text/plain": "config.json:   0%|          | 0.00/1.34k [00:00<?, ?B/s]",
      "application/vnd.jupyter.widget-view+json": {
       "version_major": 2,
       "version_minor": 0,
       "model_id": "ffe294d5d8e0465093973f3a87defe8d"
      }
     },
     "metadata": {},
     "output_type": "display_data"
    },
    {
     "data": {
      "text/plain": "model.safetensors:   0%|          | 0.00/967M [00:00<?, ?B/s]",
      "application/vnd.jupyter.widget-view+json": {
       "version_major": 2,
       "version_minor": 0,
       "model_id": "ba3b1f2e994843f68addab746ae8045e"
      }
     },
     "metadata": {},
     "output_type": "display_data"
    },
    {
     "data": {
      "text/plain": "generation_config.json:   0%|          | 0.00/3.83k [00:00<?, ?B/s]",
      "application/vnd.jupyter.widget-view+json": {
       "version_major": 2,
       "version_minor": 0,
       "model_id": "d627235a3e8b451fb358dfc2c3fc9020"
      }
     },
     "metadata": {},
     "output_type": "display_data"
    },
    {
     "data": {
      "text/plain": "tokenizer_config.json:   0%|          | 0.00/283k [00:00<?, ?B/s]",
      "application/vnd.jupyter.widget-view+json": {
       "version_major": 2,
       "version_minor": 0,
       "model_id": "93290c9c6264482aaac6242c3ab5dcd8"
      }
     },
     "metadata": {},
     "output_type": "display_data"
    },
    {
     "data": {
      "text/plain": "vocab.json:   0%|          | 0.00/1.04M [00:00<?, ?B/s]",
      "application/vnd.jupyter.widget-view+json": {
       "version_major": 2,
       "version_minor": 0,
       "model_id": "9a1ad447aa0047f685526a4be14e445b"
      }
     },
     "metadata": {},
     "output_type": "display_data"
    },
    {
     "data": {
      "text/plain": "merges.txt:   0%|          | 0.00/494k [00:00<?, ?B/s]",
      "application/vnd.jupyter.widget-view+json": {
       "version_major": 2,
       "version_minor": 0,
       "model_id": "d95e3c135bb04fda9c0da5d9489a1977"
      }
     },
     "metadata": {},
     "output_type": "display_data"
    },
    {
     "data": {
      "text/plain": "normalizer.json:   0%|          | 0.00/52.7k [00:00<?, ?B/s]",
      "application/vnd.jupyter.widget-view+json": {
       "version_major": 2,
       "version_minor": 0,
       "model_id": "ad663df214b34cb18e1f5fe0d8245ccc"
      }
     },
     "metadata": {},
     "output_type": "display_data"
    },
    {
     "data": {
      "text/plain": "added_tokens.json:   0%|          | 0.00/34.6k [00:00<?, ?B/s]",
      "application/vnd.jupyter.widget-view+json": {
       "version_major": 2,
       "version_minor": 0,
       "model_id": "66d8ec5352f3421abdd0cf834a40f062"
      }
     },
     "metadata": {},
     "output_type": "display_data"
    },
    {
     "data": {
      "text/plain": "special_tokens_map.json:   0%|          | 0.00/2.19k [00:00<?, ?B/s]",
      "application/vnd.jupyter.widget-view+json": {
       "version_major": 2,
       "version_minor": 0,
       "model_id": "8fa1deeb97ea4f31aaab8eb30a9281a3"
      }
     },
     "metadata": {},
     "output_type": "display_data"
    },
    {
     "name": "stderr",
     "output_type": "stream",
     "text": [
      "Special tokens have been added in the vocabulary, make sure the associated word embeddings are fine-tuned or trained.\n",
      "Special tokens have been added in the vocabulary, make sure the associated word embeddings are fine-tuned or trained.\n"
     ]
    },
    {
     "data": {
      "text/plain": "preprocessor_config.json:   0%|          | 0.00/339 [00:00<?, ?B/s]",
      "application/vnd.jupyter.widget-view+json": {
       "version_major": 2,
       "version_minor": 0,
       "model_id": "013b5065af304bafa1dbfff67abeb9e4"
      }
     },
     "metadata": {},
     "output_type": "display_data"
    },
    {
     "ename": "TypeError",
     "evalue": "Audio.__init__() got an unexpected keyword argument 'source'",
     "output_type": "error",
     "traceback": [
      "\u001B[0;31m---------------------------------------------------------------------------\u001B[0m",
      "\u001B[0;31mTypeError\u001B[0m                                 Traceback (most recent call last)",
      "Cell \u001B[0;32mIn[24], line 12\u001B[0m\n\u001B[1;32m      7\u001B[0m     text \u001B[38;5;241m=\u001B[39m pipe(audio)[\u001B[38;5;124m\"\u001B[39m\u001B[38;5;124mtext\u001B[39m\u001B[38;5;124m\"\u001B[39m]\n\u001B[1;32m      8\u001B[0m     \u001B[38;5;28;01mreturn\u001B[39;00m text\n\u001B[1;32m     10\u001B[0m iface \u001B[38;5;241m=\u001B[39m gr\u001B[38;5;241m.\u001B[39mInterface(\n\u001B[1;32m     11\u001B[0m     fn\u001B[38;5;241m=\u001B[39mtranscribe,\n\u001B[0;32m---> 12\u001B[0m     inputs\u001B[38;5;241m=\u001B[39m\u001B[43mgr\u001B[49m\u001B[38;5;241;43m.\u001B[39;49m\u001B[43mAudio\u001B[49m\u001B[43m(\u001B[49m\u001B[43msource\u001B[49m\u001B[38;5;241;43m=\u001B[39;49m\u001B[38;5;124;43m\"\u001B[39;49m\u001B[38;5;124;43mmicrophone\u001B[39;49m\u001B[38;5;124;43m\"\u001B[39;49m\u001B[43m,\u001B[49m\u001B[43m \u001B[49m\u001B[38;5;28;43mtype\u001B[39;49m\u001B[38;5;241;43m=\u001B[39;49m\u001B[38;5;124;43m\"\u001B[39;49m\u001B[38;5;124;43mfilepath\u001B[39;49m\u001B[38;5;124;43m\"\u001B[39;49m\u001B[43m)\u001B[49m,\n\u001B[1;32m     13\u001B[0m     outputs\u001B[38;5;241m=\u001B[39m\u001B[38;5;124m\"\u001B[39m\u001B[38;5;124mtext\u001B[39m\u001B[38;5;124m\"\u001B[39m,\n\u001B[1;32m     14\u001B[0m     title\u001B[38;5;241m=\u001B[39m\u001B[38;5;124m\"\u001B[39m\u001B[38;5;124mWhisper Small Hindi\u001B[39m\u001B[38;5;124m\"\u001B[39m,\n\u001B[1;32m     15\u001B[0m     description\u001B[38;5;241m=\u001B[39m\u001B[38;5;124m\"\u001B[39m\u001B[38;5;124mRealtime demo for Hindi speech recognition using a fine-tuned Whisper small model.\u001B[39m\u001B[38;5;124m\"\u001B[39m,\n\u001B[1;32m     16\u001B[0m )\n\u001B[1;32m     18\u001B[0m iface\u001B[38;5;241m.\u001B[39mlaunch()\n",
      "File \u001B[0;32m~/miniconda3/envs/ml/lib/python3.11/site-packages/gradio/component_meta.py:155\u001B[0m, in \u001B[0;36mupdateable.<locals>.wrapper\u001B[0;34m(*args, **kwargs)\u001B[0m\n\u001B[1;32m    153\u001B[0m     \u001B[38;5;28;01mreturn\u001B[39;00m \u001B[38;5;28;01mNone\u001B[39;00m\n\u001B[1;32m    154\u001B[0m \u001B[38;5;28;01melse\u001B[39;00m:\n\u001B[0;32m--> 155\u001B[0m     \u001B[38;5;28;01mreturn\u001B[39;00m \u001B[43mfn\u001B[49m\u001B[43m(\u001B[49m\u001B[38;5;28;43mself\u001B[39;49m\u001B[43m,\u001B[49m\u001B[43m \u001B[49m\u001B[38;5;241;43m*\u001B[39;49m\u001B[38;5;241;43m*\u001B[39;49m\u001B[43mkwargs\u001B[49m\u001B[43m)\u001B[49m\n",
      "\u001B[0;31mTypeError\u001B[0m: Audio.__init__() got an unexpected keyword argument 'source'"
     ]
    }
   ],
   "source": [
    "from transformers import pipeline\n",
    "import gradio as gr\n",
    "\n",
    "pipe = pipeline(model=\"carlpersson/Whisper-Small-De\")  # change to \"your-username/the-name-you-picked\"\n",
    "\n",
    "def transcribe(audio):\n",
    "    text = pipe(audio)[\"text\"]\n",
    "    return text\n",
    "\n",
    "iface = gr.Interface(\n",
    "    fn=transcribe,\n",
    "    inputs=gr.Audio(source=\"microphone\", type=\"filepath\"),\n",
    "    outputs=\"text\",\n",
    "    title=\"Whisper Small Hindi\",\n",
    "    description=\"Realtime demo for Hindi speech recognition using a fine-tuned Whisper small model.\",\n",
    ")\n",
    "\n",
    "iface.launch()"
   ],
   "id": "e0ace3aa-1ef3-45cb-933f-6ddca037c5aa"
  }
 ],
 "metadata": {
  "accelerator": "GPU",
  "colab": {
   "provenance": [
    {
     "file_id": "https://github.com/sanchit-gandhi/notebooks/blob/main/fine_tune_whisper.ipynb",
     "timestamp": 1701351670328
    }
   ],
   "gpuType": "T4"
  },
  "kernelspec": {
   "name": "python3",
   "language": "python",
   "display_name": "Python 3 (ipykernel)"
  },
  "language_info": {
   "codemirror_mode": {
    "name": "ipython",
    "version": 3
   },
   "file_extension": ".py",
   "mimetype": "text/x-python",
   "name": "python",
   "nbconvert_exporter": "python",
   "pygments_lexer": "ipython3",
   "version": "3.8.9"
  },
  "widgets": {
   "application/vnd.jupyter.widget-state+json": {
    "3a3e85786a62450a9ee82c08c4f07105": {
     "model_module": "@jupyter-widgets/controls",
     "model_name": "HBoxModel",
     "model_module_version": "1.5.0",
     "state": {
      "_dom_classes": [],
      "_model_module": "@jupyter-widgets/controls",
      "_model_module_version": "1.5.0",
      "_model_name": "HBoxModel",
      "_view_count": null,
      "_view_module": "@jupyter-widgets/controls",
      "_view_module_version": "1.5.0",
      "_view_name": "HBoxView",
      "box_style": "",
      "children": [
       "IPY_MODEL_7109f746d3924e17b7f7fd288714a2fe",
       "IPY_MODEL_88341030e6574242bd65efca11cc6be2",
       "IPY_MODEL_f165b78ca5d647df8db5dc10cd7e5894"
      ],
      "layout": "IPY_MODEL_23793819643f4502a6f47f838ec6ab5c"
     }
    },
    "7109f746d3924e17b7f7fd288714a2fe": {
     "model_module": "@jupyter-widgets/controls",
     "model_name": "HTMLModel",
     "model_module_version": "1.5.0",
     "state": {
      "_dom_classes": [],
      "_model_module": "@jupyter-widgets/controls",
      "_model_module_version": "1.5.0",
      "_model_name": "HTMLModel",
      "_view_count": null,
      "_view_module": "@jupyter-widgets/controls",
      "_view_module_version": "1.5.0",
      "_view_name": "HTMLView",
      "description": "",
      "description_tooltip": null,
      "layout": "IPY_MODEL_227df7982e2d464babe883f8f79805d0",
      "placeholder": "​",
      "style": "IPY_MODEL_5bafbbdade5643a78d7b9596e6fb1abf",
      "value": "Saving the dataset (34/49 shards):  69%"
     }
    },
    "88341030e6574242bd65efca11cc6be2": {
     "model_module": "@jupyter-widgets/controls",
     "model_name": "FloatProgressModel",
     "model_module_version": "1.5.0",
     "state": {
      "_dom_classes": [],
      "_model_module": "@jupyter-widgets/controls",
      "_model_module_version": "1.5.0",
      "_model_name": "FloatProgressModel",
      "_view_count": null,
      "_view_module": "@jupyter-widgets/controls",
      "_view_module_version": "1.5.0",
      "_view_name": "ProgressView",
      "bar_style": "danger",
      "description": "",
      "description_tooltip": null,
      "layout": "IPY_MODEL_454cfac9f85f47bf91fd16e321e2f31c",
      "max": 25000,
      "min": 0,
      "orientation": "horizontal",
      "style": "IPY_MODEL_7051d691f3334ade9ea7475401c9bf2e",
      "value": 17350
     }
    },
    "f165b78ca5d647df8db5dc10cd7e5894": {
     "model_module": "@jupyter-widgets/controls",
     "model_name": "HTMLModel",
     "model_module_version": "1.5.0",
     "state": {
      "_dom_classes": [],
      "_model_module": "@jupyter-widgets/controls",
      "_model_module_version": "1.5.0",
      "_model_name": "HTMLModel",
      "_view_count": null,
      "_view_module": "@jupyter-widgets/controls",
      "_view_module_version": "1.5.0",
      "_view_name": "HTMLView",
      "description": "",
      "description_tooltip": null,
      "layout": "IPY_MODEL_00a51a7bddb64eae83a30e2badb32f06",
      "placeholder": "​",
      "style": "IPY_MODEL_b3f561ca416c4718a4d3545d7f07fb32",
      "value": " 17350/25000 [02:49&lt;01:17, 98.88 examples/s]"
     }
    },
    "23793819643f4502a6f47f838ec6ab5c": {
     "model_module": "@jupyter-widgets/base",
     "model_name": "LayoutModel",
     "model_module_version": "1.2.0",
     "state": {
      "_model_module": "@jupyter-widgets/base",
      "_model_module_version": "1.2.0",
      "_model_name": "LayoutModel",
      "_view_count": null,
      "_view_module": "@jupyter-widgets/base",
      "_view_module_version": "1.2.0",
      "_view_name": "LayoutView",
      "align_content": null,
      "align_items": null,
      "align_self": null,
      "border": null,
      "bottom": null,
      "display": null,
      "flex": null,
      "flex_flow": null,
      "grid_area": null,
      "grid_auto_columns": null,
      "grid_auto_flow": null,
      "grid_auto_rows": null,
      "grid_column": null,
      "grid_gap": null,
      "grid_row": null,
      "grid_template_areas": null,
      "grid_template_columns": null,
      "grid_template_rows": null,
      "height": null,
      "justify_content": null,
      "justify_items": null,
      "left": null,
      "margin": null,
      "max_height": null,
      "max_width": null,
      "min_height": null,
      "min_width": null,
      "object_fit": null,
      "object_position": null,
      "order": null,
      "overflow": null,
      "overflow_x": null,
      "overflow_y": null,
      "padding": null,
      "right": null,
      "top": null,
      "visibility": null,
      "width": null
     }
    },
    "227df7982e2d464babe883f8f79805d0": {
     "model_module": "@jupyter-widgets/base",
     "model_name": "LayoutModel",
     "model_module_version": "1.2.0",
     "state": {
      "_model_module": "@jupyter-widgets/base",
      "_model_module_version": "1.2.0",
      "_model_name": "LayoutModel",
      "_view_count": null,
      "_view_module": "@jupyter-widgets/base",
      "_view_module_version": "1.2.0",
      "_view_name": "LayoutView",
      "align_content": null,
      "align_items": null,
      "align_self": null,
      "border": null,
      "bottom": null,
      "display": null,
      "flex": null,
      "flex_flow": null,
      "grid_area": null,
      "grid_auto_columns": null,
      "grid_auto_flow": null,
      "grid_auto_rows": null,
      "grid_column": null,
      "grid_gap": null,
      "grid_row": null,
      "grid_template_areas": null,
      "grid_template_columns": null,
      "grid_template_rows": null,
      "height": null,
      "justify_content": null,
      "justify_items": null,
      "left": null,
      "margin": null,
      "max_height": null,
      "max_width": null,
      "min_height": null,
      "min_width": null,
      "object_fit": null,
      "object_position": null,
      "order": null,
      "overflow": null,
      "overflow_x": null,
      "overflow_y": null,
      "padding": null,
      "right": null,
      "top": null,
      "visibility": null,
      "width": null
     }
    },
    "5bafbbdade5643a78d7b9596e6fb1abf": {
     "model_module": "@jupyter-widgets/controls",
     "model_name": "DescriptionStyleModel",
     "model_module_version": "1.5.0",
     "state": {
      "_model_module": "@jupyter-widgets/controls",
      "_model_module_version": "1.5.0",
      "_model_name": "DescriptionStyleModel",
      "_view_count": null,
      "_view_module": "@jupyter-widgets/base",
      "_view_module_version": "1.2.0",
      "_view_name": "StyleView",
      "description_width": ""
     }
    },
    "454cfac9f85f47bf91fd16e321e2f31c": {
     "model_module": "@jupyter-widgets/base",
     "model_name": "LayoutModel",
     "model_module_version": "1.2.0",
     "state": {
      "_model_module": "@jupyter-widgets/base",
      "_model_module_version": "1.2.0",
      "_model_name": "LayoutModel",
      "_view_count": null,
      "_view_module": "@jupyter-widgets/base",
      "_view_module_version": "1.2.0",
      "_view_name": "LayoutView",
      "align_content": null,
      "align_items": null,
      "align_self": null,
      "border": null,
      "bottom": null,
      "display": null,
      "flex": null,
      "flex_flow": null,
      "grid_area": null,
      "grid_auto_columns": null,
      "grid_auto_flow": null,
      "grid_auto_rows": null,
      "grid_column": null,
      "grid_gap": null,
      "grid_row": null,
      "grid_template_areas": null,
      "grid_template_columns": null,
      "grid_template_rows": null,
      "height": null,
      "justify_content": null,
      "justify_items": null,
      "left": null,
      "margin": null,
      "max_height": null,
      "max_width": null,
      "min_height": null,
      "min_width": null,
      "object_fit": null,
      "object_position": null,
      "order": null,
      "overflow": null,
      "overflow_x": null,
      "overflow_y": null,
      "padding": null,
      "right": null,
      "top": null,
      "visibility": null,
      "width": null
     }
    },
    "7051d691f3334ade9ea7475401c9bf2e": {
     "model_module": "@jupyter-widgets/controls",
     "model_name": "ProgressStyleModel",
     "model_module_version": "1.5.0",
     "state": {
      "_model_module": "@jupyter-widgets/controls",
      "_model_module_version": "1.5.0",
      "_model_name": "ProgressStyleModel",
      "_view_count": null,
      "_view_module": "@jupyter-widgets/base",
      "_view_module_version": "1.2.0",
      "_view_name": "StyleView",
      "bar_color": null,
      "description_width": ""
     }
    },
    "00a51a7bddb64eae83a30e2badb32f06": {
     "model_module": "@jupyter-widgets/base",
     "model_name": "LayoutModel",
     "model_module_version": "1.2.0",
     "state": {
      "_model_module": "@jupyter-widgets/base",
      "_model_module_version": "1.2.0",
      "_model_name": "LayoutModel",
      "_view_count": null,
      "_view_module": "@jupyter-widgets/base",
      "_view_module_version": "1.2.0",
      "_view_name": "LayoutView",
      "align_content": null,
      "align_items": null,
      "align_self": null,
      "border": null,
      "bottom": null,
      "display": null,
      "flex": null,
      "flex_flow": null,
      "grid_area": null,
      "grid_auto_columns": null,
      "grid_auto_flow": null,
      "grid_auto_rows": null,
      "grid_column": null,
      "grid_gap": null,
      "grid_row": null,
      "grid_template_areas": null,
      "grid_template_columns": null,
      "grid_template_rows": null,
      "height": null,
      "justify_content": null,
      "justify_items": null,
      "left": null,
      "margin": null,
      "max_height": null,
      "max_width": null,
      "min_height": null,
      "min_width": null,
      "object_fit": null,
      "object_position": null,
      "order": null,
      "overflow": null,
      "overflow_x": null,
      "overflow_y": null,
      "padding": null,
      "right": null,
      "top": null,
      "visibility": null,
      "width": null
     }
    },
    "b3f561ca416c4718a4d3545d7f07fb32": {
     "model_module": "@jupyter-widgets/controls",
     "model_name": "DescriptionStyleModel",
     "model_module_version": "1.5.0",
     "state": {
      "_model_module": "@jupyter-widgets/controls",
      "_model_module_version": "1.5.0",
      "_model_name": "DescriptionStyleModel",
      "_view_count": null,
      "_view_module": "@jupyter-widgets/base",
      "_view_module_version": "1.2.0",
      "_view_name": "StyleView",
      "description_width": ""
     }
    },
    "9d0785ae8fd54416b93d0d53fe1f9403": {
     "model_module": "@jupyter-widgets/controls",
     "model_name": "VBoxModel",
     "model_module_version": "1.5.0",
     "state": {
      "_dom_classes": [],
      "_model_module": "@jupyter-widgets/controls",
      "_model_module_version": "1.5.0",
      "_model_name": "VBoxModel",
      "_view_count": null,
      "_view_module": "@jupyter-widgets/controls",
      "_view_module_version": "1.5.0",
      "_view_name": "VBoxView",
      "box_style": "",
      "children": [
       "IPY_MODEL_60318c170cd74a0cb5dbb53fe52fe470",
       "IPY_MODEL_cf575d304d0a41fd94c3c13972e549e5",
       "IPY_MODEL_f07f9bcd1fd94bfeae7a95d1be468ff1"
      ],
      "layout": "IPY_MODEL_d6f8f268fd8f4e87a7f05c7f72096a7d"
     }
    },
    "e4dae336098e4c00ba7f6c0e91276c11": {
     "model_module": "@jupyter-widgets/controls",
     "model_name": "HTMLModel",
     "model_module_version": "1.5.0",
     "state": {
      "_dom_classes": [],
      "_model_module": "@jupyter-widgets/controls",
      "_model_module_version": "1.5.0",
      "_model_name": "HTMLModel",
      "_view_count": null,
      "_view_module": "@jupyter-widgets/controls",
      "_view_module_version": "1.5.0",
      "_view_name": "HTMLView",
      "description": "",
      "description_tooltip": null,
      "layout": "IPY_MODEL_c166a17179ee436fb31c1b54e18ecbbe",
      "placeholder": "​",
      "style": "IPY_MODEL_bc39357cbee842b69c3a11c03c18d233",
      "value": "<center> <img\nsrc=https://huggingface.co/front/assets/huggingface_logo-noborder.svg\nalt='Hugging Face'> <br> Copy a token from <a\nhref=\"https://huggingface.co/settings/tokens\" target=\"_blank\">your Hugging Face\ntokens page</a> and paste it below. <br> Immediately click login after copying\nyour token or it might be stored in plain text in this notebook file. </center>"
     }
    },
    "aa53c944c3de4c9a9cc23979b50a2c72": {
     "model_module": "@jupyter-widgets/controls",
     "model_name": "PasswordModel",
     "model_module_version": "1.5.0",
     "state": {
      "_dom_classes": [],
      "_model_module": "@jupyter-widgets/controls",
      "_model_module_version": "1.5.0",
      "_model_name": "PasswordModel",
      "_view_count": null,
      "_view_module": "@jupyter-widgets/controls",
      "_view_module_version": "1.5.0",
      "_view_name": "PasswordView",
      "continuous_update": true,
      "description": "Token:",
      "description_tooltip": null,
      "disabled": false,
      "layout": "IPY_MODEL_6f48755d5040421885145400c570b181",
      "placeholder": "​",
      "style": "IPY_MODEL_145e14e354d84cbbbb0d280d2af1c82e",
      "value": ""
     }
    },
    "6833300f2c4c4e859cc4514267965163": {
     "model_module": "@jupyter-widgets/controls",
     "model_name": "CheckboxModel",
     "model_module_version": "1.5.0",
     "state": {
      "_dom_classes": [],
      "_model_module": "@jupyter-widgets/controls",
      "_model_module_version": "1.5.0",
      "_model_name": "CheckboxModel",
      "_view_count": null,
      "_view_module": "@jupyter-widgets/controls",
      "_view_module_version": "1.5.0",
      "_view_name": "CheckboxView",
      "description": "Add token as git credential?",
      "description_tooltip": null,
      "disabled": false,
      "indent": true,
      "layout": "IPY_MODEL_3a38a6634bd94b0aba148ca61ed3be4d",
      "style": "IPY_MODEL_e4a21dc0c4744d10a4f9f850d9ebd586",
      "value": false
     }
    },
    "cd4cd5ee06e445bc96cb35d3b51af686": {
     "model_module": "@jupyter-widgets/controls",
     "model_name": "ButtonModel",
     "model_module_version": "1.5.0",
     "state": {
      "_dom_classes": [],
      "_model_module": "@jupyter-widgets/controls",
      "_model_module_version": "1.5.0",
      "_model_name": "ButtonModel",
      "_view_count": null,
      "_view_module": "@jupyter-widgets/controls",
      "_view_module_version": "1.5.0",
      "_view_name": "ButtonView",
      "button_style": "",
      "description": "Login",
      "disabled": false,
      "icon": "",
      "layout": "IPY_MODEL_79c94f66ce6e4b31a0d1ae93aef87373",
      "style": "IPY_MODEL_338c1be1376346fc9e9f1d7612719034",
      "tooltip": ""
     }
    },
    "c11bd19aa1574ddf9fdf75f268f59804": {
     "model_module": "@jupyter-widgets/controls",
     "model_name": "HTMLModel",
     "model_module_version": "1.5.0",
     "state": {
      "_dom_classes": [],
      "_model_module": "@jupyter-widgets/controls",
      "_model_module_version": "1.5.0",
      "_model_name": "HTMLModel",
      "_view_count": null,
      "_view_module": "@jupyter-widgets/controls",
      "_view_module_version": "1.5.0",
      "_view_name": "HTMLView",
      "description": "",
      "description_tooltip": null,
      "layout": "IPY_MODEL_34635a93da4947f286ac08281a36c5c6",
      "placeholder": "​",
      "style": "IPY_MODEL_49eb531d11274b53b6f5d054cd3fe702",
      "value": "\n<b>Pro Tip:</b> If you don't already have one, you can create a dedicated\n'notebooks' token with 'write' access, that you can then easily reuse for all\nnotebooks. </center>"
     }
    },
    "d6f8f268fd8f4e87a7f05c7f72096a7d": {
     "model_module": "@jupyter-widgets/base",
     "model_name": "LayoutModel",
     "model_module_version": "1.2.0",
     "state": {
      "_model_module": "@jupyter-widgets/base",
      "_model_module_version": "1.2.0",
      "_model_name": "LayoutModel",
      "_view_count": null,
      "_view_module": "@jupyter-widgets/base",
      "_view_module_version": "1.2.0",
      "_view_name": "LayoutView",
      "align_content": null,
      "align_items": "center",
      "align_self": null,
      "border": null,
      "bottom": null,
      "display": "flex",
      "flex": null,
      "flex_flow": "column",
      "grid_area": null,
      "grid_auto_columns": null,
      "grid_auto_flow": null,
      "grid_auto_rows": null,
      "grid_column": null,
      "grid_gap": null,
      "grid_row": null,
      "grid_template_areas": null,
      "grid_template_columns": null,
      "grid_template_rows": null,
      "height": null,
      "justify_content": null,
      "justify_items": null,
      "left": null,
      "margin": null,
      "max_height": null,
      "max_width": null,
      "min_height": null,
      "min_width": null,
      "object_fit": null,
      "object_position": null,
      "order": null,
      "overflow": null,
      "overflow_x": null,
      "overflow_y": null,
      "padding": null,
      "right": null,
      "top": null,
      "visibility": null,
      "width": "50%"
     }
    },
    "c166a17179ee436fb31c1b54e18ecbbe": {
     "model_module": "@jupyter-widgets/base",
     "model_name": "LayoutModel",
     "model_module_version": "1.2.0",
     "state": {
      "_model_module": "@jupyter-widgets/base",
      "_model_module_version": "1.2.0",
      "_model_name": "LayoutModel",
      "_view_count": null,
      "_view_module": "@jupyter-widgets/base",
      "_view_module_version": "1.2.0",
      "_view_name": "LayoutView",
      "align_content": null,
      "align_items": null,
      "align_self": null,
      "border": null,
      "bottom": null,
      "display": null,
      "flex": null,
      "flex_flow": null,
      "grid_area": null,
      "grid_auto_columns": null,
      "grid_auto_flow": null,
      "grid_auto_rows": null,
      "grid_column": null,
      "grid_gap": null,
      "grid_row": null,
      "grid_template_areas": null,
      "grid_template_columns": null,
      "grid_template_rows": null,
      "height": null,
      "justify_content": null,
      "justify_items": null,
      "left": null,
      "margin": null,
      "max_height": null,
      "max_width": null,
      "min_height": null,
      "min_width": null,
      "object_fit": null,
      "object_position": null,
      "order": null,
      "overflow": null,
      "overflow_x": null,
      "overflow_y": null,
      "padding": null,
      "right": null,
      "top": null,
      "visibility": null,
      "width": null
     }
    },
    "bc39357cbee842b69c3a11c03c18d233": {
     "model_module": "@jupyter-widgets/controls",
     "model_name": "DescriptionStyleModel",
     "model_module_version": "1.5.0",
     "state": {
      "_model_module": "@jupyter-widgets/controls",
      "_model_module_version": "1.5.0",
      "_model_name": "DescriptionStyleModel",
      "_view_count": null,
      "_view_module": "@jupyter-widgets/base",
      "_view_module_version": "1.2.0",
      "_view_name": "StyleView",
      "description_width": ""
     }
    },
    "6f48755d5040421885145400c570b181": {
     "model_module": "@jupyter-widgets/base",
     "model_name": "LayoutModel",
     "model_module_version": "1.2.0",
     "state": {
      "_model_module": "@jupyter-widgets/base",
      "_model_module_version": "1.2.0",
      "_model_name": "LayoutModel",
      "_view_count": null,
      "_view_module": "@jupyter-widgets/base",
      "_view_module_version": "1.2.0",
      "_view_name": "LayoutView",
      "align_content": null,
      "align_items": null,
      "align_self": null,
      "border": null,
      "bottom": null,
      "display": null,
      "flex": null,
      "flex_flow": null,
      "grid_area": null,
      "grid_auto_columns": null,
      "grid_auto_flow": null,
      "grid_auto_rows": null,
      "grid_column": null,
      "grid_gap": null,
      "grid_row": null,
      "grid_template_areas": null,
      "grid_template_columns": null,
      "grid_template_rows": null,
      "height": null,
      "justify_content": null,
      "justify_items": null,
      "left": null,
      "margin": null,
      "max_height": null,
      "max_width": null,
      "min_height": null,
      "min_width": null,
      "object_fit": null,
      "object_position": null,
      "order": null,
      "overflow": null,
      "overflow_x": null,
      "overflow_y": null,
      "padding": null,
      "right": null,
      "top": null,
      "visibility": null,
      "width": null
     }
    },
    "145e14e354d84cbbbb0d280d2af1c82e": {
     "model_module": "@jupyter-widgets/controls",
     "model_name": "DescriptionStyleModel",
     "model_module_version": "1.5.0",
     "state": {
      "_model_module": "@jupyter-widgets/controls",
      "_model_module_version": "1.5.0",
      "_model_name": "DescriptionStyleModel",
      "_view_count": null,
      "_view_module": "@jupyter-widgets/base",
      "_view_module_version": "1.2.0",
      "_view_name": "StyleView",
      "description_width": ""
     }
    },
    "3a38a6634bd94b0aba148ca61ed3be4d": {
     "model_module": "@jupyter-widgets/base",
     "model_name": "LayoutModel",
     "model_module_version": "1.2.0",
     "state": {
      "_model_module": "@jupyter-widgets/base",
      "_model_module_version": "1.2.0",
      "_model_name": "LayoutModel",
      "_view_count": null,
      "_view_module": "@jupyter-widgets/base",
      "_view_module_version": "1.2.0",
      "_view_name": "LayoutView",
      "align_content": null,
      "align_items": null,
      "align_self": null,
      "border": null,
      "bottom": null,
      "display": null,
      "flex": null,
      "flex_flow": null,
      "grid_area": null,
      "grid_auto_columns": null,
      "grid_auto_flow": null,
      "grid_auto_rows": null,
      "grid_column": null,
      "grid_gap": null,
      "grid_row": null,
      "grid_template_areas": null,
      "grid_template_columns": null,
      "grid_template_rows": null,
      "height": null,
      "justify_content": null,
      "justify_items": null,
      "left": null,
      "margin": null,
      "max_height": null,
      "max_width": null,
      "min_height": null,
      "min_width": null,
      "object_fit": null,
      "object_position": null,
      "order": null,
      "overflow": null,
      "overflow_x": null,
      "overflow_y": null,
      "padding": null,
      "right": null,
      "top": null,
      "visibility": null,
      "width": null
     }
    },
    "e4a21dc0c4744d10a4f9f850d9ebd586": {
     "model_module": "@jupyter-widgets/controls",
     "model_name": "DescriptionStyleModel",
     "model_module_version": "1.5.0",
     "state": {
      "_model_module": "@jupyter-widgets/controls",
      "_model_module_version": "1.5.0",
      "_model_name": "DescriptionStyleModel",
      "_view_count": null,
      "_view_module": "@jupyter-widgets/base",
      "_view_module_version": "1.2.0",
      "_view_name": "StyleView",
      "description_width": ""
     }
    },
    "79c94f66ce6e4b31a0d1ae93aef87373": {
     "model_module": "@jupyter-widgets/base",
     "model_name": "LayoutModel",
     "model_module_version": "1.2.0",
     "state": {
      "_model_module": "@jupyter-widgets/base",
      "_model_module_version": "1.2.0",
      "_model_name": "LayoutModel",
      "_view_count": null,
      "_view_module": "@jupyter-widgets/base",
      "_view_module_version": "1.2.0",
      "_view_name": "LayoutView",
      "align_content": null,
      "align_items": null,
      "align_self": null,
      "border": null,
      "bottom": null,
      "display": null,
      "flex": null,
      "flex_flow": null,
      "grid_area": null,
      "grid_auto_columns": null,
      "grid_auto_flow": null,
      "grid_auto_rows": null,
      "grid_column": null,
      "grid_gap": null,
      "grid_row": null,
      "grid_template_areas": null,
      "grid_template_columns": null,
      "grid_template_rows": null,
      "height": null,
      "justify_content": null,
      "justify_items": null,
      "left": null,
      "margin": null,
      "max_height": null,
      "max_width": null,
      "min_height": null,
      "min_width": null,
      "object_fit": null,
      "object_position": null,
      "order": null,
      "overflow": null,
      "overflow_x": null,
      "overflow_y": null,
      "padding": null,
      "right": null,
      "top": null,
      "visibility": null,
      "width": null
     }
    },
    "338c1be1376346fc9e9f1d7612719034": {
     "model_module": "@jupyter-widgets/controls",
     "model_name": "ButtonStyleModel",
     "model_module_version": "1.5.0",
     "state": {
      "_model_module": "@jupyter-widgets/controls",
      "_model_module_version": "1.5.0",
      "_model_name": "ButtonStyleModel",
      "_view_count": null,
      "_view_module": "@jupyter-widgets/base",
      "_view_module_version": "1.2.0",
      "_view_name": "StyleView",
      "button_color": null,
      "font_weight": ""
     }
    },
    "34635a93da4947f286ac08281a36c5c6": {
     "model_module": "@jupyter-widgets/base",
     "model_name": "LayoutModel",
     "model_module_version": "1.2.0",
     "state": {
      "_model_module": "@jupyter-widgets/base",
      "_model_module_version": "1.2.0",
      "_model_name": "LayoutModel",
      "_view_count": null,
      "_view_module": "@jupyter-widgets/base",
      "_view_module_version": "1.2.0",
      "_view_name": "LayoutView",
      "align_content": null,
      "align_items": null,
      "align_self": null,
      "border": null,
      "bottom": null,
      "display": null,
      "flex": null,
      "flex_flow": null,
      "grid_area": null,
      "grid_auto_columns": null,
      "grid_auto_flow": null,
      "grid_auto_rows": null,
      "grid_column": null,
      "grid_gap": null,
      "grid_row": null,
      "grid_template_areas": null,
      "grid_template_columns": null,
      "grid_template_rows": null,
      "height": null,
      "justify_content": null,
      "justify_items": null,
      "left": null,
      "margin": null,
      "max_height": null,
      "max_width": null,
      "min_height": null,
      "min_width": null,
      "object_fit": null,
      "object_position": null,
      "order": null,
      "overflow": null,
      "overflow_x": null,
      "overflow_y": null,
      "padding": null,
      "right": null,
      "top": null,
      "visibility": null,
      "width": null
     }
    },
    "49eb531d11274b53b6f5d054cd3fe702": {
     "model_module": "@jupyter-widgets/controls",
     "model_name": "DescriptionStyleModel",
     "model_module_version": "1.5.0",
     "state": {
      "_model_module": "@jupyter-widgets/controls",
      "_model_module_version": "1.5.0",
      "_model_name": "DescriptionStyleModel",
      "_view_count": null,
      "_view_module": "@jupyter-widgets/base",
      "_view_module_version": "1.2.0",
      "_view_name": "StyleView",
      "description_width": ""
     }
    },
    "8b67b6fd70fd46b585dc95860acb1348": {
     "model_module": "@jupyter-widgets/controls",
     "model_name": "LabelModel",
     "model_module_version": "1.5.0",
     "state": {
      "_dom_classes": [],
      "_model_module": "@jupyter-widgets/controls",
      "_model_module_version": "1.5.0",
      "_model_name": "LabelModel",
      "_view_count": null,
      "_view_module": "@jupyter-widgets/controls",
      "_view_module_version": "1.5.0",
      "_view_name": "LabelView",
      "description": "",
      "description_tooltip": null,
      "layout": "IPY_MODEL_3e11073804ec4b73ae0e1a02f31a46f0",
      "placeholder": "​",
      "style": "IPY_MODEL_41774b12aeaf473b94c963d2397a618f",
      "value": "Connecting..."
     }
    },
    "3e11073804ec4b73ae0e1a02f31a46f0": {
     "model_module": "@jupyter-widgets/base",
     "model_name": "LayoutModel",
     "model_module_version": "1.2.0",
     "state": {
      "_model_module": "@jupyter-widgets/base",
      "_model_module_version": "1.2.0",
      "_model_name": "LayoutModel",
      "_view_count": null,
      "_view_module": "@jupyter-widgets/base",
      "_view_module_version": "1.2.0",
      "_view_name": "LayoutView",
      "align_content": null,
      "align_items": null,
      "align_self": null,
      "border": null,
      "bottom": null,
      "display": null,
      "flex": null,
      "flex_flow": null,
      "grid_area": null,
      "grid_auto_columns": null,
      "grid_auto_flow": null,
      "grid_auto_rows": null,
      "grid_column": null,
      "grid_gap": null,
      "grid_row": null,
      "grid_template_areas": null,
      "grid_template_columns": null,
      "grid_template_rows": null,
      "height": null,
      "justify_content": null,
      "justify_items": null,
      "left": null,
      "margin": null,
      "max_height": null,
      "max_width": null,
      "min_height": null,
      "min_width": null,
      "object_fit": null,
      "object_position": null,
      "order": null,
      "overflow": null,
      "overflow_x": null,
      "overflow_y": null,
      "padding": null,
      "right": null,
      "top": null,
      "visibility": null,
      "width": null
     }
    },
    "41774b12aeaf473b94c963d2397a618f": {
     "model_module": "@jupyter-widgets/controls",
     "model_name": "DescriptionStyleModel",
     "model_module_version": "1.5.0",
     "state": {
      "_model_module": "@jupyter-widgets/controls",
      "_model_module_version": "1.5.0",
      "_model_name": "DescriptionStyleModel",
      "_view_count": null,
      "_view_module": "@jupyter-widgets/base",
      "_view_module_version": "1.2.0",
      "_view_name": "StyleView",
      "description_width": ""
     }
    },
    "60318c170cd74a0cb5dbb53fe52fe470": {
     "model_module": "@jupyter-widgets/controls",
     "model_name": "LabelModel",
     "model_module_version": "1.5.0",
     "state": {
      "_dom_classes": [],
      "_model_module": "@jupyter-widgets/controls",
      "_model_module_version": "1.5.0",
      "_model_name": "LabelModel",
      "_view_count": null,
      "_view_module": "@jupyter-widgets/controls",
      "_view_module_version": "1.5.0",
      "_view_name": "LabelView",
      "description": "",
      "description_tooltip": null,
      "layout": "IPY_MODEL_252e03c4fda043d990a2abd011f7b81d",
      "placeholder": "​",
      "style": "IPY_MODEL_172a0424939c4644b44d35b301eb6595",
      "value": "Token is valid (permission: write)."
     }
    },
    "cf575d304d0a41fd94c3c13972e549e5": {
     "model_module": "@jupyter-widgets/controls",
     "model_name": "LabelModel",
     "model_module_version": "1.5.0",
     "state": {
      "_dom_classes": [],
      "_model_module": "@jupyter-widgets/controls",
      "_model_module_version": "1.5.0",
      "_model_name": "LabelModel",
      "_view_count": null,
      "_view_module": "@jupyter-widgets/controls",
      "_view_module_version": "1.5.0",
      "_view_name": "LabelView",
      "description": "",
      "description_tooltip": null,
      "layout": "IPY_MODEL_e3955ab585fb44a4a2fb36955be7feb8",
      "placeholder": "​",
      "style": "IPY_MODEL_35636b7a8ade40ecabd23ace65ef6b60",
      "value": "Your token has been saved to /root/.cache/huggingface/token"
     }
    },
    "f07f9bcd1fd94bfeae7a95d1be468ff1": {
     "model_module": "@jupyter-widgets/controls",
     "model_name": "LabelModel",
     "model_module_version": "1.5.0",
     "state": {
      "_dom_classes": [],
      "_model_module": "@jupyter-widgets/controls",
      "_model_module_version": "1.5.0",
      "_model_name": "LabelModel",
      "_view_count": null,
      "_view_module": "@jupyter-widgets/controls",
      "_view_module_version": "1.5.0",
      "_view_name": "LabelView",
      "description": "",
      "description_tooltip": null,
      "layout": "IPY_MODEL_71ee1579b4494a9d9f4880508ff9188c",
      "placeholder": "​",
      "style": "IPY_MODEL_09bfa376310d47d18ddc9968d2018379",
      "value": "Login successful"
     }
    },
    "252e03c4fda043d990a2abd011f7b81d": {
     "model_module": "@jupyter-widgets/base",
     "model_name": "LayoutModel",
     "model_module_version": "1.2.0",
     "state": {
      "_model_module": "@jupyter-widgets/base",
      "_model_module_version": "1.2.0",
      "_model_name": "LayoutModel",
      "_view_count": null,
      "_view_module": "@jupyter-widgets/base",
      "_view_module_version": "1.2.0",
      "_view_name": "LayoutView",
      "align_content": null,
      "align_items": null,
      "align_self": null,
      "border": null,
      "bottom": null,
      "display": null,
      "flex": null,
      "flex_flow": null,
      "grid_area": null,
      "grid_auto_columns": null,
      "grid_auto_flow": null,
      "grid_auto_rows": null,
      "grid_column": null,
      "grid_gap": null,
      "grid_row": null,
      "grid_template_areas": null,
      "grid_template_columns": null,
      "grid_template_rows": null,
      "height": null,
      "justify_content": null,
      "justify_items": null,
      "left": null,
      "margin": null,
      "max_height": null,
      "max_width": null,
      "min_height": null,
      "min_width": null,
      "object_fit": null,
      "object_position": null,
      "order": null,
      "overflow": null,
      "overflow_x": null,
      "overflow_y": null,
      "padding": null,
      "right": null,
      "top": null,
      "visibility": null,
      "width": null
     }
    },
    "172a0424939c4644b44d35b301eb6595": {
     "model_module": "@jupyter-widgets/controls",
     "model_name": "DescriptionStyleModel",
     "model_module_version": "1.5.0",
     "state": {
      "_model_module": "@jupyter-widgets/controls",
      "_model_module_version": "1.5.0",
      "_model_name": "DescriptionStyleModel",
      "_view_count": null,
      "_view_module": "@jupyter-widgets/base",
      "_view_module_version": "1.2.0",
      "_view_name": "StyleView",
      "description_width": ""
     }
    },
    "e3955ab585fb44a4a2fb36955be7feb8": {
     "model_module": "@jupyter-widgets/base",
     "model_name": "LayoutModel",
     "model_module_version": "1.2.0",
     "state": {
      "_model_module": "@jupyter-widgets/base",
      "_model_module_version": "1.2.0",
      "_model_name": "LayoutModel",
      "_view_count": null,
      "_view_module": "@jupyter-widgets/base",
      "_view_module_version": "1.2.0",
      "_view_name": "LayoutView",
      "align_content": null,
      "align_items": null,
      "align_self": null,
      "border": null,
      "bottom": null,
      "display": null,
      "flex": null,
      "flex_flow": null,
      "grid_area": null,
      "grid_auto_columns": null,
      "grid_auto_flow": null,
      "grid_auto_rows": null,
      "grid_column": null,
      "grid_gap": null,
      "grid_row": null,
      "grid_template_areas": null,
      "grid_template_columns": null,
      "grid_template_rows": null,
      "height": null,
      "justify_content": null,
      "justify_items": null,
      "left": null,
      "margin": null,
      "max_height": null,
      "max_width": null,
      "min_height": null,
      "min_width": null,
      "object_fit": null,
      "object_position": null,
      "order": null,
      "overflow": null,
      "overflow_x": null,
      "overflow_y": null,
      "padding": null,
      "right": null,
      "top": null,
      "visibility": null,
      "width": null
     }
    },
    "35636b7a8ade40ecabd23ace65ef6b60": {
     "model_module": "@jupyter-widgets/controls",
     "model_name": "DescriptionStyleModel",
     "model_module_version": "1.5.0",
     "state": {
      "_model_module": "@jupyter-widgets/controls",
      "_model_module_version": "1.5.0",
      "_model_name": "DescriptionStyleModel",
      "_view_count": null,
      "_view_module": "@jupyter-widgets/base",
      "_view_module_version": "1.2.0",
      "_view_name": "StyleView",
      "description_width": ""
     }
    },
    "71ee1579b4494a9d9f4880508ff9188c": {
     "model_module": "@jupyter-widgets/base",
     "model_name": "LayoutModel",
     "model_module_version": "1.2.0",
     "state": {
      "_model_module": "@jupyter-widgets/base",
      "_model_module_version": "1.2.0",
      "_model_name": "LayoutModel",
      "_view_count": null,
      "_view_module": "@jupyter-widgets/base",
      "_view_module_version": "1.2.0",
      "_view_name": "LayoutView",
      "align_content": null,
      "align_items": null,
      "align_self": null,
      "border": null,
      "bottom": null,
      "display": null,
      "flex": null,
      "flex_flow": null,
      "grid_area": null,
      "grid_auto_columns": null,
      "grid_auto_flow": null,
      "grid_auto_rows": null,
      "grid_column": null,
      "grid_gap": null,
      "grid_row": null,
      "grid_template_areas": null,
      "grid_template_columns": null,
      "grid_template_rows": null,
      "height": null,
      "justify_content": null,
      "justify_items": null,
      "left": null,
      "margin": null,
      "max_height": null,
      "max_width": null,
      "min_height": null,
      "min_width": null,
      "object_fit": null,
      "object_position": null,
      "order": null,
      "overflow": null,
      "overflow_x": null,
      "overflow_y": null,
      "padding": null,
      "right": null,
      "top": null,
      "visibility": null,
      "width": null
     }
    },
    "09bfa376310d47d18ddc9968d2018379": {
     "model_module": "@jupyter-widgets/controls",
     "model_name": "DescriptionStyleModel",
     "model_module_version": "1.5.0",
     "state": {
      "_model_module": "@jupyter-widgets/controls",
      "_model_module_version": "1.5.0",
      "_model_name": "DescriptionStyleModel",
      "_view_count": null,
      "_view_module": "@jupyter-widgets/base",
      "_view_module_version": "1.2.0",
      "_view_name": "StyleView",
      "description_width": ""
     }
    },
    "f1506516c02a4ede892da0b95c13878a": {
     "model_module": "@jupyter-widgets/controls",
     "model_name": "HBoxModel",
     "model_module_version": "1.5.0",
     "state": {
      "_dom_classes": [],
      "_model_module": "@jupyter-widgets/controls",
      "_model_module_version": "1.5.0",
      "_model_name": "HBoxModel",
      "_view_count": null,
      "_view_module": "@jupyter-widgets/controls",
      "_view_module_version": "1.5.0",
      "_view_name": "HBoxView",
      "box_style": "",
      "children": [
       "IPY_MODEL_da7334b86b3246039177f7159d5718af",
       "IPY_MODEL_1097b087dd29471189f5b54fc2e9034a",
       "IPY_MODEL_19a0a588ed6f418dae6d0eade09b9857"
      ],
      "layout": "IPY_MODEL_502fc406321a407890e2136b330e543e"
     }
    },
    "da7334b86b3246039177f7159d5718af": {
     "model_module": "@jupyter-widgets/controls",
     "model_name": "HTMLModel",
     "model_module_version": "1.5.0",
     "state": {
      "_dom_classes": [],
      "_model_module": "@jupyter-widgets/controls",
      "_model_module_version": "1.5.0",
      "_model_name": "HTMLModel",
      "_view_count": null,
      "_view_module": "@jupyter-widgets/controls",
      "_view_module_version": "1.5.0",
      "_view_name": "HTMLView",
      "description": "",
      "description_tooltip": null,
      "layout": "IPY_MODEL_620626feda744bcdb6d58eca8d7699b4",
      "placeholder": "​",
      "style": "IPY_MODEL_4a73cde726fd44a097fb27dc7c113493",
      "value": "preprocessor_config.json: 100%"
     }
    },
    "1097b087dd29471189f5b54fc2e9034a": {
     "model_module": "@jupyter-widgets/controls",
     "model_name": "FloatProgressModel",
     "model_module_version": "1.5.0",
     "state": {
      "_dom_classes": [],
      "_model_module": "@jupyter-widgets/controls",
      "_model_module_version": "1.5.0",
      "_model_name": "FloatProgressModel",
      "_view_count": null,
      "_view_module": "@jupyter-widgets/controls",
      "_view_module_version": "1.5.0",
      "_view_name": "ProgressView",
      "bar_style": "success",
      "description": "",
      "description_tooltip": null,
      "layout": "IPY_MODEL_692f3a4fa75d40ee8ba770e348a1729a",
      "max": 184990,
      "min": 0,
      "orientation": "horizontal",
      "style": "IPY_MODEL_ae73fd1a66d4422a9accfd799cd651aa",
      "value": 184990
     }
    },
    "19a0a588ed6f418dae6d0eade09b9857": {
     "model_module": "@jupyter-widgets/controls",
     "model_name": "HTMLModel",
     "model_module_version": "1.5.0",
     "state": {
      "_dom_classes": [],
      "_model_module": "@jupyter-widgets/controls",
      "_model_module_version": "1.5.0",
      "_model_name": "HTMLModel",
      "_view_count": null,
      "_view_module": "@jupyter-widgets/controls",
      "_view_module_version": "1.5.0",
      "_view_name": "HTMLView",
      "description": "",
      "description_tooltip": null,
      "layout": "IPY_MODEL_04357a9d4deb42d08e5016eb75f352fa",
      "placeholder": "​",
      "style": "IPY_MODEL_3f375f5ad2674a6e8d37aa9a42744639",
      "value": " 185k/185k [00:00&lt;00:00, 4.24MB/s]"
     }
    },
    "502fc406321a407890e2136b330e543e": {
     "model_module": "@jupyter-widgets/base",
     "model_name": "LayoutModel",
     "model_module_version": "1.2.0",
     "state": {
      "_model_module": "@jupyter-widgets/base",
      "_model_module_version": "1.2.0",
      "_model_name": "LayoutModel",
      "_view_count": null,
      "_view_module": "@jupyter-widgets/base",
      "_view_module_version": "1.2.0",
      "_view_name": "LayoutView",
      "align_content": null,
      "align_items": null,
      "align_self": null,
      "border": null,
      "bottom": null,
      "display": null,
      "flex": null,
      "flex_flow": null,
      "grid_area": null,
      "grid_auto_columns": null,
      "grid_auto_flow": null,
      "grid_auto_rows": null,
      "grid_column": null,
      "grid_gap": null,
      "grid_row": null,
      "grid_template_areas": null,
      "grid_template_columns": null,
      "grid_template_rows": null,
      "height": null,
      "justify_content": null,
      "justify_items": null,
      "left": null,
      "margin": null,
      "max_height": null,
      "max_width": null,
      "min_height": null,
      "min_width": null,
      "object_fit": null,
      "object_position": null,
      "order": null,
      "overflow": null,
      "overflow_x": null,
      "overflow_y": null,
      "padding": null,
      "right": null,
      "top": null,
      "visibility": null,
      "width": null
     }
    },
    "620626feda744bcdb6d58eca8d7699b4": {
     "model_module": "@jupyter-widgets/base",
     "model_name": "LayoutModel",
     "model_module_version": "1.2.0",
     "state": {
      "_model_module": "@jupyter-widgets/base",
      "_model_module_version": "1.2.0",
      "_model_name": "LayoutModel",
      "_view_count": null,
      "_view_module": "@jupyter-widgets/base",
      "_view_module_version": "1.2.0",
      "_view_name": "LayoutView",
      "align_content": null,
      "align_items": null,
      "align_self": null,
      "border": null,
      "bottom": null,
      "display": null,
      "flex": null,
      "flex_flow": null,
      "grid_area": null,
      "grid_auto_columns": null,
      "grid_auto_flow": null,
      "grid_auto_rows": null,
      "grid_column": null,
      "grid_gap": null,
      "grid_row": null,
      "grid_template_areas": null,
      "grid_template_columns": null,
      "grid_template_rows": null,
      "height": null,
      "justify_content": null,
      "justify_items": null,
      "left": null,
      "margin": null,
      "max_height": null,
      "max_width": null,
      "min_height": null,
      "min_width": null,
      "object_fit": null,
      "object_position": null,
      "order": null,
      "overflow": null,
      "overflow_x": null,
      "overflow_y": null,
      "padding": null,
      "right": null,
      "top": null,
      "visibility": null,
      "width": null
     }
    },
    "4a73cde726fd44a097fb27dc7c113493": {
     "model_module": "@jupyter-widgets/controls",
     "model_name": "DescriptionStyleModel",
     "model_module_version": "1.5.0",
     "state": {
      "_model_module": "@jupyter-widgets/controls",
      "_model_module_version": "1.5.0",
      "_model_name": "DescriptionStyleModel",
      "_view_count": null,
      "_view_module": "@jupyter-widgets/base",
      "_view_module_version": "1.2.0",
      "_view_name": "StyleView",
      "description_width": ""
     }
    },
    "692f3a4fa75d40ee8ba770e348a1729a": {
     "model_module": "@jupyter-widgets/base",
     "model_name": "LayoutModel",
     "model_module_version": "1.2.0",
     "state": {
      "_model_module": "@jupyter-widgets/base",
      "_model_module_version": "1.2.0",
      "_model_name": "LayoutModel",
      "_view_count": null,
      "_view_module": "@jupyter-widgets/base",
      "_view_module_version": "1.2.0",
      "_view_name": "LayoutView",
      "align_content": null,
      "align_items": null,
      "align_self": null,
      "border": null,
      "bottom": null,
      "display": null,
      "flex": null,
      "flex_flow": null,
      "grid_area": null,
      "grid_auto_columns": null,
      "grid_auto_flow": null,
      "grid_auto_rows": null,
      "grid_column": null,
      "grid_gap": null,
      "grid_row": null,
      "grid_template_areas": null,
      "grid_template_columns": null,
      "grid_template_rows": null,
      "height": null,
      "justify_content": null,
      "justify_items": null,
      "left": null,
      "margin": null,
      "max_height": null,
      "max_width": null,
      "min_height": null,
      "min_width": null,
      "object_fit": null,
      "object_position": null,
      "order": null,
      "overflow": null,
      "overflow_x": null,
      "overflow_y": null,
      "padding": null,
      "right": null,
      "top": null,
      "visibility": null,
      "width": null
     }
    },
    "ae73fd1a66d4422a9accfd799cd651aa": {
     "model_module": "@jupyter-widgets/controls",
     "model_name": "ProgressStyleModel",
     "model_module_version": "1.5.0",
     "state": {
      "_model_module": "@jupyter-widgets/controls",
      "_model_module_version": "1.5.0",
      "_model_name": "ProgressStyleModel",
      "_view_count": null,
      "_view_module": "@jupyter-widgets/base",
      "_view_module_version": "1.2.0",
      "_view_name": "StyleView",
      "bar_color": null,
      "description_width": ""
     }
    },
    "04357a9d4deb42d08e5016eb75f352fa": {
     "model_module": "@jupyter-widgets/base",
     "model_name": "LayoutModel",
     "model_module_version": "1.2.0",
     "state": {
      "_model_module": "@jupyter-widgets/base",
      "_model_module_version": "1.2.0",
      "_model_name": "LayoutModel",
      "_view_count": null,
      "_view_module": "@jupyter-widgets/base",
      "_view_module_version": "1.2.0",
      "_view_name": "LayoutView",
      "align_content": null,
      "align_items": null,
      "align_self": null,
      "border": null,
      "bottom": null,
      "display": null,
      "flex": null,
      "flex_flow": null,
      "grid_area": null,
      "grid_auto_columns": null,
      "grid_auto_flow": null,
      "grid_auto_rows": null,
      "grid_column": null,
      "grid_gap": null,
      "grid_row": null,
      "grid_template_areas": null,
      "grid_template_columns": null,
      "grid_template_rows": null,
      "height": null,
      "justify_content": null,
      "justify_items": null,
      "left": null,
      "margin": null,
      "max_height": null,
      "max_width": null,
      "min_height": null,
      "min_width": null,
      "object_fit": null,
      "object_position": null,
      "order": null,
      "overflow": null,
      "overflow_x": null,
      "overflow_y": null,
      "padding": null,
      "right": null,
      "top": null,
      "visibility": null,
      "width": null
     }
    },
    "3f375f5ad2674a6e8d37aa9a42744639": {
     "model_module": "@jupyter-widgets/controls",
     "model_name": "DescriptionStyleModel",
     "model_module_version": "1.5.0",
     "state": {
      "_model_module": "@jupyter-widgets/controls",
      "_model_module_version": "1.5.0",
      "_model_name": "DescriptionStyleModel",
      "_view_count": null,
      "_view_module": "@jupyter-widgets/base",
      "_view_module_version": "1.2.0",
      "_view_name": "StyleView",
      "description_width": ""
     }
    },
    "99850757813040e4ba764e6ce7289365": {
     "model_module": "@jupyter-widgets/controls",
     "model_name": "HBoxModel",
     "model_module_version": "1.5.0",
     "state": {
      "_dom_classes": [],
      "_model_module": "@jupyter-widgets/controls",
      "_model_module_version": "1.5.0",
      "_model_name": "HBoxModel",
      "_view_count": null,
      "_view_module": "@jupyter-widgets/controls",
      "_view_module_version": "1.5.0",
      "_view_name": "HBoxView",
      "box_style": "",
      "children": [
       "IPY_MODEL_966a752f47d444cea0cb1250d4f7bab3",
       "IPY_MODEL_94b846660df04dff8fe8d1b061965ec3",
       "IPY_MODEL_b12ae412cf584fd48cb91c1dbed0a707"
      ],
      "layout": "IPY_MODEL_7fb30db4f8254a67a33d6e5c158f60d4"
     }
    },
    "966a752f47d444cea0cb1250d4f7bab3": {
     "model_module": "@jupyter-widgets/controls",
     "model_name": "HTMLModel",
     "model_module_version": "1.5.0",
     "state": {
      "_dom_classes": [],
      "_model_module": "@jupyter-widgets/controls",
      "_model_module_version": "1.5.0",
      "_model_name": "HTMLModel",
      "_view_count": null,
      "_view_module": "@jupyter-widgets/controls",
      "_view_module_version": "1.5.0",
      "_view_name": "HTMLView",
      "description": "",
      "description_tooltip": null,
      "layout": "IPY_MODEL_77d11c3f51f94415971717d0b2f389f9",
      "placeholder": "​",
      "style": "IPY_MODEL_dc1da7d2c2714c2bac23855ae0c6c52c",
      "value": "tokenizer_config.json: 100%"
     }
    },
    "94b846660df04dff8fe8d1b061965ec3": {
     "model_module": "@jupyter-widgets/controls",
     "model_name": "FloatProgressModel",
     "model_module_version": "1.5.0",
     "state": {
      "_dom_classes": [],
      "_model_module": "@jupyter-widgets/controls",
      "_model_module_version": "1.5.0",
      "_model_name": "FloatProgressModel",
      "_view_count": null,
      "_view_module": "@jupyter-widgets/controls",
      "_view_module_version": "1.5.0",
      "_view_name": "ProgressView",
      "bar_style": "success",
      "description": "",
      "description_tooltip": null,
      "layout": "IPY_MODEL_2381fcf9577c45f2861bccf9614f2724",
      "max": 805,
      "min": 0,
      "orientation": "horizontal",
      "style": "IPY_MODEL_33979dc50aab439d81af21d957c744d4",
      "value": 805
     }
    },
    "b12ae412cf584fd48cb91c1dbed0a707": {
     "model_module": "@jupyter-widgets/controls",
     "model_name": "HTMLModel",
     "model_module_version": "1.5.0",
     "state": {
      "_dom_classes": [],
      "_model_module": "@jupyter-widgets/controls",
      "_model_module_version": "1.5.0",
      "_model_name": "HTMLModel",
      "_view_count": null,
      "_view_module": "@jupyter-widgets/controls",
      "_view_module_version": "1.5.0",
      "_view_name": "HTMLView",
      "description": "",
      "description_tooltip": null,
      "layout": "IPY_MODEL_ec7db11559f949d38f951dceeb37c0f7",
      "placeholder": "​",
      "style": "IPY_MODEL_cdbef58cd24943ecbaaa87fe7bd52b6d",
      "value": " 805/805 [00:00&lt;00:00, 32.2kB/s]"
     }
    },
    "7fb30db4f8254a67a33d6e5c158f60d4": {
     "model_module": "@jupyter-widgets/base",
     "model_name": "LayoutModel",
     "model_module_version": "1.2.0",
     "state": {
      "_model_module": "@jupyter-widgets/base",
      "_model_module_version": "1.2.0",
      "_model_name": "LayoutModel",
      "_view_count": null,
      "_view_module": "@jupyter-widgets/base",
      "_view_module_version": "1.2.0",
      "_view_name": "LayoutView",
      "align_content": null,
      "align_items": null,
      "align_self": null,
      "border": null,
      "bottom": null,
      "display": null,
      "flex": null,
      "flex_flow": null,
      "grid_area": null,
      "grid_auto_columns": null,
      "grid_auto_flow": null,
      "grid_auto_rows": null,
      "grid_column": null,
      "grid_gap": null,
      "grid_row": null,
      "grid_template_areas": null,
      "grid_template_columns": null,
      "grid_template_rows": null,
      "height": null,
      "justify_content": null,
      "justify_items": null,
      "left": null,
      "margin": null,
      "max_height": null,
      "max_width": null,
      "min_height": null,
      "min_width": null,
      "object_fit": null,
      "object_position": null,
      "order": null,
      "overflow": null,
      "overflow_x": null,
      "overflow_y": null,
      "padding": null,
      "right": null,
      "top": null,
      "visibility": null,
      "width": null
     }
    },
    "77d11c3f51f94415971717d0b2f389f9": {
     "model_module": "@jupyter-widgets/base",
     "model_name": "LayoutModel",
     "model_module_version": "1.2.0",
     "state": {
      "_model_module": "@jupyter-widgets/base",
      "_model_module_version": "1.2.0",
      "_model_name": "LayoutModel",
      "_view_count": null,
      "_view_module": "@jupyter-widgets/base",
      "_view_module_version": "1.2.0",
      "_view_name": "LayoutView",
      "align_content": null,
      "align_items": null,
      "align_self": null,
      "border": null,
      "bottom": null,
      "display": null,
      "flex": null,
      "flex_flow": null,
      "grid_area": null,
      "grid_auto_columns": null,
      "grid_auto_flow": null,
      "grid_auto_rows": null,
      "grid_column": null,
      "grid_gap": null,
      "grid_row": null,
      "grid_template_areas": null,
      "grid_template_columns": null,
      "grid_template_rows": null,
      "height": null,
      "justify_content": null,
      "justify_items": null,
      "left": null,
      "margin": null,
      "max_height": null,
      "max_width": null,
      "min_height": null,
      "min_width": null,
      "object_fit": null,
      "object_position": null,
      "order": null,
      "overflow": null,
      "overflow_x": null,
      "overflow_y": null,
      "padding": null,
      "right": null,
      "top": null,
      "visibility": null,
      "width": null
     }
    },
    "dc1da7d2c2714c2bac23855ae0c6c52c": {
     "model_module": "@jupyter-widgets/controls",
     "model_name": "DescriptionStyleModel",
     "model_module_version": "1.5.0",
     "state": {
      "_model_module": "@jupyter-widgets/controls",
      "_model_module_version": "1.5.0",
      "_model_name": "DescriptionStyleModel",
      "_view_count": null,
      "_view_module": "@jupyter-widgets/base",
      "_view_module_version": "1.2.0",
      "_view_name": "StyleView",
      "description_width": ""
     }
    },
    "2381fcf9577c45f2861bccf9614f2724": {
     "model_module": "@jupyter-widgets/base",
     "model_name": "LayoutModel",
     "model_module_version": "1.2.0",
     "state": {
      "_model_module": "@jupyter-widgets/base",
      "_model_module_version": "1.2.0",
      "_model_name": "LayoutModel",
      "_view_count": null,
      "_view_module": "@jupyter-widgets/base",
      "_view_module_version": "1.2.0",
      "_view_name": "LayoutView",
      "align_content": null,
      "align_items": null,
      "align_self": null,
      "border": null,
      "bottom": null,
      "display": null,
      "flex": null,
      "flex_flow": null,
      "grid_area": null,
      "grid_auto_columns": null,
      "grid_auto_flow": null,
      "grid_auto_rows": null,
      "grid_column": null,
      "grid_gap": null,
      "grid_row": null,
      "grid_template_areas": null,
      "grid_template_columns": null,
      "grid_template_rows": null,
      "height": null,
      "justify_content": null,
      "justify_items": null,
      "left": null,
      "margin": null,
      "max_height": null,
      "max_width": null,
      "min_height": null,
      "min_width": null,
      "object_fit": null,
      "object_position": null,
      "order": null,
      "overflow": null,
      "overflow_x": null,
      "overflow_y": null,
      "padding": null,
      "right": null,
      "top": null,
      "visibility": null,
      "width": null
     }
    },
    "33979dc50aab439d81af21d957c744d4": {
     "model_module": "@jupyter-widgets/controls",
     "model_name": "ProgressStyleModel",
     "model_module_version": "1.5.0",
     "state": {
      "_model_module": "@jupyter-widgets/controls",
      "_model_module_version": "1.5.0",
      "_model_name": "ProgressStyleModel",
      "_view_count": null,
      "_view_module": "@jupyter-widgets/base",
      "_view_module_version": "1.2.0",
      "_view_name": "StyleView",
      "bar_color": null,
      "description_width": ""
     }
    },
    "ec7db11559f949d38f951dceeb37c0f7": {
     "model_module": "@jupyter-widgets/base",
     "model_name": "LayoutModel",
     "model_module_version": "1.2.0",
     "state": {
      "_model_module": "@jupyter-widgets/base",
      "_model_module_version": "1.2.0",
      "_model_name": "LayoutModel",
      "_view_count": null,
      "_view_module": "@jupyter-widgets/base",
      "_view_module_version": "1.2.0",
      "_view_name": "LayoutView",
      "align_content": null,
      "align_items": null,
      "align_self": null,
      "border": null,
      "bottom": null,
      "display": null,
      "flex": null,
      "flex_flow": null,
      "grid_area": null,
      "grid_auto_columns": null,
      "grid_auto_flow": null,
      "grid_auto_rows": null,
      "grid_column": null,
      "grid_gap": null,
      "grid_row": null,
      "grid_template_areas": null,
      "grid_template_columns": null,
      "grid_template_rows": null,
      "height": null,
      "justify_content": null,
      "justify_items": null,
      "left": null,
      "margin": null,
      "max_height": null,
      "max_width": null,
      "min_height": null,
      "min_width": null,
      "object_fit": null,
      "object_position": null,
      "order": null,
      "overflow": null,
      "overflow_x": null,
      "overflow_y": null,
      "padding": null,
      "right": null,
      "top": null,
      "visibility": null,
      "width": null
     }
    },
    "cdbef58cd24943ecbaaa87fe7bd52b6d": {
     "model_module": "@jupyter-widgets/controls",
     "model_name": "DescriptionStyleModel",
     "model_module_version": "1.5.0",
     "state": {
      "_model_module": "@jupyter-widgets/controls",
      "_model_module_version": "1.5.0",
      "_model_name": "DescriptionStyleModel",
      "_view_count": null,
      "_view_module": "@jupyter-widgets/base",
      "_view_module_version": "1.2.0",
      "_view_name": "StyleView",
      "description_width": ""
     }
    },
    "8b076c4851dc4b87801dd738ff2fe8c4": {
     "model_module": "@jupyter-widgets/controls",
     "model_name": "HBoxModel",
     "model_module_version": "1.5.0",
     "state": {
      "_dom_classes": [],
      "_model_module": "@jupyter-widgets/controls",
      "_model_module_version": "1.5.0",
      "_model_name": "HBoxModel",
      "_view_count": null,
      "_view_module": "@jupyter-widgets/controls",
      "_view_module_version": "1.5.0",
      "_view_name": "HBoxView",
      "box_style": "",
      "children": [
       "IPY_MODEL_ac8be43132774263b4660658bab92a42",
       "IPY_MODEL_a44438d875cb4561a9180d5df2fb4892",
       "IPY_MODEL_9bf2405ab2474386a28d787b0c3b2bf7"
      ],
      "layout": "IPY_MODEL_2e83959aa01148ce9e39ce7e27896ab1"
     }
    },
    "ac8be43132774263b4660658bab92a42": {
     "model_module": "@jupyter-widgets/controls",
     "model_name": "HTMLModel",
     "model_module_version": "1.5.0",
     "state": {
      "_dom_classes": [],
      "_model_module": "@jupyter-widgets/controls",
      "_model_module_version": "1.5.0",
      "_model_name": "HTMLModel",
      "_view_count": null,
      "_view_module": "@jupyter-widgets/controls",
      "_view_module_version": "1.5.0",
      "_view_name": "HTMLView",
      "description": "",
      "description_tooltip": null,
      "layout": "IPY_MODEL_9e24f296ca4743bca2bca0f7fde373b4",
      "placeholder": "​",
      "style": "IPY_MODEL_2207bd2c619f411a904e137c4598fb62",
      "value": "vocab.json: 100%"
     }
    },
    "a44438d875cb4561a9180d5df2fb4892": {
     "model_module": "@jupyter-widgets/controls",
     "model_name": "FloatProgressModel",
     "model_module_version": "1.5.0",
     "state": {
      "_dom_classes": [],
      "_model_module": "@jupyter-widgets/controls",
      "_model_module_version": "1.5.0",
      "_model_name": "FloatProgressModel",
      "_view_count": null,
      "_view_module": "@jupyter-widgets/controls",
      "_view_module_version": "1.5.0",
      "_view_name": "ProgressView",
      "bar_style": "success",
      "description": "",
      "description_tooltip": null,
      "layout": "IPY_MODEL_800578f81db94abc9bc10a23c5c11be4",
      "max": 835550,
      "min": 0,
      "orientation": "horizontal",
      "style": "IPY_MODEL_929d97ce75f84bf5879da6ffe00a5a8a",
      "value": 835550
     }
    },
    "9bf2405ab2474386a28d787b0c3b2bf7": {
     "model_module": "@jupyter-widgets/controls",
     "model_name": "HTMLModel",
     "model_module_version": "1.5.0",
     "state": {
      "_dom_classes": [],
      "_model_module": "@jupyter-widgets/controls",
      "_model_module_version": "1.5.0",
      "_model_name": "HTMLModel",
      "_view_count": null,
      "_view_module": "@jupyter-widgets/controls",
      "_view_module_version": "1.5.0",
      "_view_name": "HTMLView",
      "description": "",
      "description_tooltip": null,
      "layout": "IPY_MODEL_e0b0ae5fe6bc42d1b73a21b12e3acd71",
      "placeholder": "​",
      "style": "IPY_MODEL_4ad03af537d0434f8ab7a1afdf487d40",
      "value": " 836k/836k [00:00&lt;00:00, 27.2MB/s]"
     }
    },
    "2e83959aa01148ce9e39ce7e27896ab1": {
     "model_module": "@jupyter-widgets/base",
     "model_name": "LayoutModel",
     "model_module_version": "1.2.0",
     "state": {
      "_model_module": "@jupyter-widgets/base",
      "_model_module_version": "1.2.0",
      "_model_name": "LayoutModel",
      "_view_count": null,
      "_view_module": "@jupyter-widgets/base",
      "_view_module_version": "1.2.0",
      "_view_name": "LayoutView",
      "align_content": null,
      "align_items": null,
      "align_self": null,
      "border": null,
      "bottom": null,
      "display": null,
      "flex": null,
      "flex_flow": null,
      "grid_area": null,
      "grid_auto_columns": null,
      "grid_auto_flow": null,
      "grid_auto_rows": null,
      "grid_column": null,
      "grid_gap": null,
      "grid_row": null,
      "grid_template_areas": null,
      "grid_template_columns": null,
      "grid_template_rows": null,
      "height": null,
      "justify_content": null,
      "justify_items": null,
      "left": null,
      "margin": null,
      "max_height": null,
      "max_width": null,
      "min_height": null,
      "min_width": null,
      "object_fit": null,
      "object_position": null,
      "order": null,
      "overflow": null,
      "overflow_x": null,
      "overflow_y": null,
      "padding": null,
      "right": null,
      "top": null,
      "visibility": null,
      "width": null
     }
    },
    "9e24f296ca4743bca2bca0f7fde373b4": {
     "model_module": "@jupyter-widgets/base",
     "model_name": "LayoutModel",
     "model_module_version": "1.2.0",
     "state": {
      "_model_module": "@jupyter-widgets/base",
      "_model_module_version": "1.2.0",
      "_model_name": "LayoutModel",
      "_view_count": null,
      "_view_module": "@jupyter-widgets/base",
      "_view_module_version": "1.2.0",
      "_view_name": "LayoutView",
      "align_content": null,
      "align_items": null,
      "align_self": null,
      "border": null,
      "bottom": null,
      "display": null,
      "flex": null,
      "flex_flow": null,
      "grid_area": null,
      "grid_auto_columns": null,
      "grid_auto_flow": null,
      "grid_auto_rows": null,
      "grid_column": null,
      "grid_gap": null,
      "grid_row": null,
      "grid_template_areas": null,
      "grid_template_columns": null,
      "grid_template_rows": null,
      "height": null,
      "justify_content": null,
      "justify_items": null,
      "left": null,
      "margin": null,
      "max_height": null,
      "max_width": null,
      "min_height": null,
      "min_width": null,
      "object_fit": null,
      "object_position": null,
      "order": null,
      "overflow": null,
      "overflow_x": null,
      "overflow_y": null,
      "padding": null,
      "right": null,
      "top": null,
      "visibility": null,
      "width": null
     }
    },
    "2207bd2c619f411a904e137c4598fb62": {
     "model_module": "@jupyter-widgets/controls",
     "model_name": "DescriptionStyleModel",
     "model_module_version": "1.5.0",
     "state": {
      "_model_module": "@jupyter-widgets/controls",
      "_model_module_version": "1.5.0",
      "_model_name": "DescriptionStyleModel",
      "_view_count": null,
      "_view_module": "@jupyter-widgets/base",
      "_view_module_version": "1.2.0",
      "_view_name": "StyleView",
      "description_width": ""
     }
    },
    "800578f81db94abc9bc10a23c5c11be4": {
     "model_module": "@jupyter-widgets/base",
     "model_name": "LayoutModel",
     "model_module_version": "1.2.0",
     "state": {
      "_model_module": "@jupyter-widgets/base",
      "_model_module_version": "1.2.0",
      "_model_name": "LayoutModel",
      "_view_count": null,
      "_view_module": "@jupyter-widgets/base",
      "_view_module_version": "1.2.0",
      "_view_name": "LayoutView",
      "align_content": null,
      "align_items": null,
      "align_self": null,
      "border": null,
      "bottom": null,
      "display": null,
      "flex": null,
      "flex_flow": null,
      "grid_area": null,
      "grid_auto_columns": null,
      "grid_auto_flow": null,
      "grid_auto_rows": null,
      "grid_column": null,
      "grid_gap": null,
      "grid_row": null,
      "grid_template_areas": null,
      "grid_template_columns": null,
      "grid_template_rows": null,
      "height": null,
      "justify_content": null,
      "justify_items": null,
      "left": null,
      "margin": null,
      "max_height": null,
      "max_width": null,
      "min_height": null,
      "min_width": null,
      "object_fit": null,
      "object_position": null,
      "order": null,
      "overflow": null,
      "overflow_x": null,
      "overflow_y": null,
      "padding": null,
      "right": null,
      "top": null,
      "visibility": null,
      "width": null
     }
    },
    "929d97ce75f84bf5879da6ffe00a5a8a": {
     "model_module": "@jupyter-widgets/controls",
     "model_name": "ProgressStyleModel",
     "model_module_version": "1.5.0",
     "state": {
      "_model_module": "@jupyter-widgets/controls",
      "_model_module_version": "1.5.0",
      "_model_name": "ProgressStyleModel",
      "_view_count": null,
      "_view_module": "@jupyter-widgets/base",
      "_view_module_version": "1.2.0",
      "_view_name": "StyleView",
      "bar_color": null,
      "description_width": ""
     }
    },
    "e0b0ae5fe6bc42d1b73a21b12e3acd71": {
     "model_module": "@jupyter-widgets/base",
     "model_name": "LayoutModel",
     "model_module_version": "1.2.0",
     "state": {
      "_model_module": "@jupyter-widgets/base",
      "_model_module_version": "1.2.0",
      "_model_name": "LayoutModel",
      "_view_count": null,
      "_view_module": "@jupyter-widgets/base",
      "_view_module_version": "1.2.0",
      "_view_name": "LayoutView",
      "align_content": null,
      "align_items": null,
      "align_self": null,
      "border": null,
      "bottom": null,
      "display": null,
      "flex": null,
      "flex_flow": null,
      "grid_area": null,
      "grid_auto_columns": null,
      "grid_auto_flow": null,
      "grid_auto_rows": null,
      "grid_column": null,
      "grid_gap": null,
      "grid_row": null,
      "grid_template_areas": null,
      "grid_template_columns": null,
      "grid_template_rows": null,
      "height": null,
      "justify_content": null,
      "justify_items": null,
      "left": null,
      "margin": null,
      "max_height": null,
      "max_width": null,
      "min_height": null,
      "min_width": null,
      "object_fit": null,
      "object_position": null,
      "order": null,
      "overflow": null,
      "overflow_x": null,
      "overflow_y": null,
      "padding": null,
      "right": null,
      "top": null,
      "visibility": null,
      "width": null
     }
    },
    "4ad03af537d0434f8ab7a1afdf487d40": {
     "model_module": "@jupyter-widgets/controls",
     "model_name": "DescriptionStyleModel",
     "model_module_version": "1.5.0",
     "state": {
      "_model_module": "@jupyter-widgets/controls",
      "_model_module_version": "1.5.0",
      "_model_name": "DescriptionStyleModel",
      "_view_count": null,
      "_view_module": "@jupyter-widgets/base",
      "_view_module_version": "1.2.0",
      "_view_name": "StyleView",
      "description_width": ""
     }
    },
    "8a0a3aca7e454ee7bb7af8677edac2e0": {
     "model_module": "@jupyter-widgets/controls",
     "model_name": "HBoxModel",
     "model_module_version": "1.5.0",
     "state": {
      "_dom_classes": [],
      "_model_module": "@jupyter-widgets/controls",
      "_model_module_version": "1.5.0",
      "_model_name": "HBoxModel",
      "_view_count": null,
      "_view_module": "@jupyter-widgets/controls",
      "_view_module_version": "1.5.0",
      "_view_name": "HBoxView",
      "box_style": "",
      "children": [
       "IPY_MODEL_97da2ee26ddd4ea69893f64332a6cd92",
       "IPY_MODEL_9769cb6fa76744528d1e723b8b64fe3a",
       "IPY_MODEL_33bcbce15b6e44d29d72163ec87cffcc"
      ],
      "layout": "IPY_MODEL_666f7ce4d86245c7ad35a41b75f2b288"
     }
    },
    "97da2ee26ddd4ea69893f64332a6cd92": {
     "model_module": "@jupyter-widgets/controls",
     "model_name": "HTMLModel",
     "model_module_version": "1.5.0",
     "state": {
      "_dom_classes": [],
      "_model_module": "@jupyter-widgets/controls",
      "_model_module_version": "1.5.0",
      "_model_name": "HTMLModel",
      "_view_count": null,
      "_view_module": "@jupyter-widgets/controls",
      "_view_module_version": "1.5.0",
      "_view_name": "HTMLView",
      "description": "",
      "description_tooltip": null,
      "layout": "IPY_MODEL_a533e04e31c14f1b926a91cf2ee3e014",
      "placeholder": "​",
      "style": "IPY_MODEL_28e88811df5043c3ab1173fcd8adbf16",
      "value": "tokenizer.json: 100%"
     }
    },
    "9769cb6fa76744528d1e723b8b64fe3a": {
     "model_module": "@jupyter-widgets/controls",
     "model_name": "FloatProgressModel",
     "model_module_version": "1.5.0",
     "state": {
      "_dom_classes": [],
      "_model_module": "@jupyter-widgets/controls",
      "_model_module_version": "1.5.0",
      "_model_name": "FloatProgressModel",
      "_view_count": null,
      "_view_module": "@jupyter-widgets/controls",
      "_view_module_version": "1.5.0",
      "_view_name": "ProgressView",
      "bar_style": "success",
      "description": "",
      "description_tooltip": null,
      "layout": "IPY_MODEL_93abdadd15fc4c2987b8946bba36eb72",
      "max": 2480452,
      "min": 0,
      "orientation": "horizontal",
      "style": "IPY_MODEL_aec41c1a9c174a728d1b8ef267f72c7c",
      "value": 2480452
     }
    },
    "33bcbce15b6e44d29d72163ec87cffcc": {
     "model_module": "@jupyter-widgets/controls",
     "model_name": "HTMLModel",
     "model_module_version": "1.5.0",
     "state": {
      "_dom_classes": [],
      "_model_module": "@jupyter-widgets/controls",
      "_model_module_version": "1.5.0",
      "_model_name": "HTMLModel",
      "_view_count": null,
      "_view_module": "@jupyter-widgets/controls",
      "_view_module_version": "1.5.0",
      "_view_name": "HTMLView",
      "description": "",
      "description_tooltip": null,
      "layout": "IPY_MODEL_5377d79331f445038c42ac2c45787d74",
      "placeholder": "​",
      "style": "IPY_MODEL_80c7e426db7948baadb9e7280914fa5c",
      "value": " 2.48M/2.48M [00:00&lt;00:00, 43.9MB/s]"
     }
    },
    "666f7ce4d86245c7ad35a41b75f2b288": {
     "model_module": "@jupyter-widgets/base",
     "model_name": "LayoutModel",
     "model_module_version": "1.2.0",
     "state": {
      "_model_module": "@jupyter-widgets/base",
      "_model_module_version": "1.2.0",
      "_model_name": "LayoutModel",
      "_view_count": null,
      "_view_module": "@jupyter-widgets/base",
      "_view_module_version": "1.2.0",
      "_view_name": "LayoutView",
      "align_content": null,
      "align_items": null,
      "align_self": null,
      "border": null,
      "bottom": null,
      "display": null,
      "flex": null,
      "flex_flow": null,
      "grid_area": null,
      "grid_auto_columns": null,
      "grid_auto_flow": null,
      "grid_auto_rows": null,
      "grid_column": null,
      "grid_gap": null,
      "grid_row": null,
      "grid_template_areas": null,
      "grid_template_columns": null,
      "grid_template_rows": null,
      "height": null,
      "justify_content": null,
      "justify_items": null,
      "left": null,
      "margin": null,
      "max_height": null,
      "max_width": null,
      "min_height": null,
      "min_width": null,
      "object_fit": null,
      "object_position": null,
      "order": null,
      "overflow": null,
      "overflow_x": null,
      "overflow_y": null,
      "padding": null,
      "right": null,
      "top": null,
      "visibility": null,
      "width": null
     }
    },
    "a533e04e31c14f1b926a91cf2ee3e014": {
     "model_module": "@jupyter-widgets/base",
     "model_name": "LayoutModel",
     "model_module_version": "1.2.0",
     "state": {
      "_model_module": "@jupyter-widgets/base",
      "_model_module_version": "1.2.0",
      "_model_name": "LayoutModel",
      "_view_count": null,
      "_view_module": "@jupyter-widgets/base",
      "_view_module_version": "1.2.0",
      "_view_name": "LayoutView",
      "align_content": null,
      "align_items": null,
      "align_self": null,
      "border": null,
      "bottom": null,
      "display": null,
      "flex": null,
      "flex_flow": null,
      "grid_area": null,
      "grid_auto_columns": null,
      "grid_auto_flow": null,
      "grid_auto_rows": null,
      "grid_column": null,
      "grid_gap": null,
      "grid_row": null,
      "grid_template_areas": null,
      "grid_template_columns": null,
      "grid_template_rows": null,
      "height": null,
      "justify_content": null,
      "justify_items": null,
      "left": null,
      "margin": null,
      "max_height": null,
      "max_width": null,
      "min_height": null,
      "min_width": null,
      "object_fit": null,
      "object_position": null,
      "order": null,
      "overflow": null,
      "overflow_x": null,
      "overflow_y": null,
      "padding": null,
      "right": null,
      "top": null,
      "visibility": null,
      "width": null
     }
    },
    "28e88811df5043c3ab1173fcd8adbf16": {
     "model_module": "@jupyter-widgets/controls",
     "model_name": "DescriptionStyleModel",
     "model_module_version": "1.5.0",
     "state": {
      "_model_module": "@jupyter-widgets/controls",
      "_model_module_version": "1.5.0",
      "_model_name": "DescriptionStyleModel",
      "_view_count": null,
      "_view_module": "@jupyter-widgets/base",
      "_view_module_version": "1.2.0",
      "_view_name": "StyleView",
      "description_width": ""
     }
    },
    "93abdadd15fc4c2987b8946bba36eb72": {
     "model_module": "@jupyter-widgets/base",
     "model_name": "LayoutModel",
     "model_module_version": "1.2.0",
     "state": {
      "_model_module": "@jupyter-widgets/base",
      "_model_module_version": "1.2.0",
      "_model_name": "LayoutModel",
      "_view_count": null,
      "_view_module": "@jupyter-widgets/base",
      "_view_module_version": "1.2.0",
      "_view_name": "LayoutView",
      "align_content": null,
      "align_items": null,
      "align_self": null,
      "border": null,
      "bottom": null,
      "display": null,
      "flex": null,
      "flex_flow": null,
      "grid_area": null,
      "grid_auto_columns": null,
      "grid_auto_flow": null,
      "grid_auto_rows": null,
      "grid_column": null,
      "grid_gap": null,
      "grid_row": null,
      "grid_template_areas": null,
      "grid_template_columns": null,
      "grid_template_rows": null,
      "height": null,
      "justify_content": null,
      "justify_items": null,
      "left": null,
      "margin": null,
      "max_height": null,
      "max_width": null,
      "min_height": null,
      "min_width": null,
      "object_fit": null,
      "object_position": null,
      "order": null,
      "overflow": null,
      "overflow_x": null,
      "overflow_y": null,
      "padding": null,
      "right": null,
      "top": null,
      "visibility": null,
      "width": null
     }
    },
    "aec41c1a9c174a728d1b8ef267f72c7c": {
     "model_module": "@jupyter-widgets/controls",
     "model_name": "ProgressStyleModel",
     "model_module_version": "1.5.0",
     "state": {
      "_model_module": "@jupyter-widgets/controls",
      "_model_module_version": "1.5.0",
      "_model_name": "ProgressStyleModel",
      "_view_count": null,
      "_view_module": "@jupyter-widgets/base",
      "_view_module_version": "1.2.0",
      "_view_name": "StyleView",
      "bar_color": null,
      "description_width": ""
     }
    },
    "5377d79331f445038c42ac2c45787d74": {
     "model_module": "@jupyter-widgets/base",
     "model_name": "LayoutModel",
     "model_module_version": "1.2.0",
     "state": {
      "_model_module": "@jupyter-widgets/base",
      "_model_module_version": "1.2.0",
      "_model_name": "LayoutModel",
      "_view_count": null,
      "_view_module": "@jupyter-widgets/base",
      "_view_module_version": "1.2.0",
      "_view_name": "LayoutView",
      "align_content": null,
      "align_items": null,
      "align_self": null,
      "border": null,
      "bottom": null,
      "display": null,
      "flex": null,
      "flex_flow": null,
      "grid_area": null,
      "grid_auto_columns": null,
      "grid_auto_flow": null,
      "grid_auto_rows": null,
      "grid_column": null,
      "grid_gap": null,
      "grid_row": null,
      "grid_template_areas": null,
      "grid_template_columns": null,
      "grid_template_rows": null,
      "height": null,
      "justify_content": null,
      "justify_items": null,
      "left": null,
      "margin": null,
      "max_height": null,
      "max_width": null,
      "min_height": null,
      "min_width": null,
      "object_fit": null,
      "object_position": null,
      "order": null,
      "overflow": null,
      "overflow_x": null,
      "overflow_y": null,
      "padding": null,
      "right": null,
      "top": null,
      "visibility": null,
      "width": null
     }
    },
    "80c7e426db7948baadb9e7280914fa5c": {
     "model_module": "@jupyter-widgets/controls",
     "model_name": "DescriptionStyleModel",
     "model_module_version": "1.5.0",
     "state": {
      "_model_module": "@jupyter-widgets/controls",
      "_model_module_version": "1.5.0",
      "_model_name": "DescriptionStyleModel",
      "_view_count": null,
      "_view_module": "@jupyter-widgets/base",
      "_view_module_version": "1.2.0",
      "_view_name": "StyleView",
      "description_width": ""
     }
    },
    "e223878ed5ad42bfa45eb2b497ff51ba": {
     "model_module": "@jupyter-widgets/controls",
     "model_name": "HBoxModel",
     "model_module_version": "1.5.0",
     "state": {
      "_dom_classes": [],
      "_model_module": "@jupyter-widgets/controls",
      "_model_module_version": "1.5.0",
      "_model_name": "HBoxModel",
      "_view_count": null,
      "_view_module": "@jupyter-widgets/controls",
      "_view_module_version": "1.5.0",
      "_view_name": "HBoxView",
      "box_style": "",
      "children": [
       "IPY_MODEL_45f304539d09482f9c6aff11bd371a50",
       "IPY_MODEL_86ecebf194d042a1b282725adb978af3",
       "IPY_MODEL_f4ed36b082af4dfb865af7294308fb8f"
      ],
      "layout": "IPY_MODEL_a52f138af6b84f99ad35c88a4007c6d3"
     }
    },
    "45f304539d09482f9c6aff11bd371a50": {
     "model_module": "@jupyter-widgets/controls",
     "model_name": "HTMLModel",
     "model_module_version": "1.5.0",
     "state": {
      "_dom_classes": [],
      "_model_module": "@jupyter-widgets/controls",
      "_model_module_version": "1.5.0",
      "_model_name": "HTMLModel",
      "_view_count": null,
      "_view_module": "@jupyter-widgets/controls",
      "_view_module_version": "1.5.0",
      "_view_name": "HTMLView",
      "description": "",
      "description_tooltip": null,
      "layout": "IPY_MODEL_25e72a1673044222b4be690c2edfa885",
      "placeholder": "​",
      "style": "IPY_MODEL_bbb6e8ea62284ada9cda0fd68c92ed84",
      "value": "merges.txt: 100%"
     }
    },
    "86ecebf194d042a1b282725adb978af3": {
     "model_module": "@jupyter-widgets/controls",
     "model_name": "FloatProgressModel",
     "model_module_version": "1.5.0",
     "state": {
      "_dom_classes": [],
      "_model_module": "@jupyter-widgets/controls",
      "_model_module_version": "1.5.0",
      "_model_name": "FloatProgressModel",
      "_view_count": null,
      "_view_module": "@jupyter-widgets/controls",
      "_view_module_version": "1.5.0",
      "_view_name": "ProgressView",
      "bar_style": "success",
      "description": "",
      "description_tooltip": null,
      "layout": "IPY_MODEL_8e687a264d13471a96d625e1b7b98300",
      "max": 493864,
      "min": 0,
      "orientation": "horizontal",
      "style": "IPY_MODEL_167912df173d4fc6a3a19966e64eb50e",
      "value": 493864
     }
    },
    "f4ed36b082af4dfb865af7294308fb8f": {
     "model_module": "@jupyter-widgets/controls",
     "model_name": "HTMLModel",
     "model_module_version": "1.5.0",
     "state": {
      "_dom_classes": [],
      "_model_module": "@jupyter-widgets/controls",
      "_model_module_version": "1.5.0",
      "_model_name": "HTMLModel",
      "_view_count": null,
      "_view_module": "@jupyter-widgets/controls",
      "_view_module_version": "1.5.0",
      "_view_name": "HTMLView",
      "description": "",
      "description_tooltip": null,
      "layout": "IPY_MODEL_09411ce741dd4ee1a4cea315a4395e69",
      "placeholder": "​",
      "style": "IPY_MODEL_a615404fba0a46138ad0b4985abbfd77",
      "value": " 494k/494k [00:00&lt;00:00, 13.0MB/s]"
     }
    },
    "a52f138af6b84f99ad35c88a4007c6d3": {
     "model_module": "@jupyter-widgets/base",
     "model_name": "LayoutModel",
     "model_module_version": "1.2.0",
     "state": {
      "_model_module": "@jupyter-widgets/base",
      "_model_module_version": "1.2.0",
      "_model_name": "LayoutModel",
      "_view_count": null,
      "_view_module": "@jupyter-widgets/base",
      "_view_module_version": "1.2.0",
      "_view_name": "LayoutView",
      "align_content": null,
      "align_items": null,
      "align_self": null,
      "border": null,
      "bottom": null,
      "display": null,
      "flex": null,
      "flex_flow": null,
      "grid_area": null,
      "grid_auto_columns": null,
      "grid_auto_flow": null,
      "grid_auto_rows": null,
      "grid_column": null,
      "grid_gap": null,
      "grid_row": null,
      "grid_template_areas": null,
      "grid_template_columns": null,
      "grid_template_rows": null,
      "height": null,
      "justify_content": null,
      "justify_items": null,
      "left": null,
      "margin": null,
      "max_height": null,
      "max_width": null,
      "min_height": null,
      "min_width": null,
      "object_fit": null,
      "object_position": null,
      "order": null,
      "overflow": null,
      "overflow_x": null,
      "overflow_y": null,
      "padding": null,
      "right": null,
      "top": null,
      "visibility": null,
      "width": null
     }
    },
    "25e72a1673044222b4be690c2edfa885": {
     "model_module": "@jupyter-widgets/base",
     "model_name": "LayoutModel",
     "model_module_version": "1.2.0",
     "state": {
      "_model_module": "@jupyter-widgets/base",
      "_model_module_version": "1.2.0",
      "_model_name": "LayoutModel",
      "_view_count": null,
      "_view_module": "@jupyter-widgets/base",
      "_view_module_version": "1.2.0",
      "_view_name": "LayoutView",
      "align_content": null,
      "align_items": null,
      "align_self": null,
      "border": null,
      "bottom": null,
      "display": null,
      "flex": null,
      "flex_flow": null,
      "grid_area": null,
      "grid_auto_columns": null,
      "grid_auto_flow": null,
      "grid_auto_rows": null,
      "grid_column": null,
      "grid_gap": null,
      "grid_row": null,
      "grid_template_areas": null,
      "grid_template_columns": null,
      "grid_template_rows": null,
      "height": null,
      "justify_content": null,
      "justify_items": null,
      "left": null,
      "margin": null,
      "max_height": null,
      "max_width": null,
      "min_height": null,
      "min_width": null,
      "object_fit": null,
      "object_position": null,
      "order": null,
      "overflow": null,
      "overflow_x": null,
      "overflow_y": null,
      "padding": null,
      "right": null,
      "top": null,
      "visibility": null,
      "width": null
     }
    },
    "bbb6e8ea62284ada9cda0fd68c92ed84": {
     "model_module": "@jupyter-widgets/controls",
     "model_name": "DescriptionStyleModel",
     "model_module_version": "1.5.0",
     "state": {
      "_model_module": "@jupyter-widgets/controls",
      "_model_module_version": "1.5.0",
      "_model_name": "DescriptionStyleModel",
      "_view_count": null,
      "_view_module": "@jupyter-widgets/base",
      "_view_module_version": "1.2.0",
      "_view_name": "StyleView",
      "description_width": ""
     }
    },
    "8e687a264d13471a96d625e1b7b98300": {
     "model_module": "@jupyter-widgets/base",
     "model_name": "LayoutModel",
     "model_module_version": "1.2.0",
     "state": {
      "_model_module": "@jupyter-widgets/base",
      "_model_module_version": "1.2.0",
      "_model_name": "LayoutModel",
      "_view_count": null,
      "_view_module": "@jupyter-widgets/base",
      "_view_module_version": "1.2.0",
      "_view_name": "LayoutView",
      "align_content": null,
      "align_items": null,
      "align_self": null,
      "border": null,
      "bottom": null,
      "display": null,
      "flex": null,
      "flex_flow": null,
      "grid_area": null,
      "grid_auto_columns": null,
      "grid_auto_flow": null,
      "grid_auto_rows": null,
      "grid_column": null,
      "grid_gap": null,
      "grid_row": null,
      "grid_template_areas": null,
      "grid_template_columns": null,
      "grid_template_rows": null,
      "height": null,
      "justify_content": null,
      "justify_items": null,
      "left": null,
      "margin": null,
      "max_height": null,
      "max_width": null,
      "min_height": null,
      "min_width": null,
      "object_fit": null,
      "object_position": null,
      "order": null,
      "overflow": null,
      "overflow_x": null,
      "overflow_y": null,
      "padding": null,
      "right": null,
      "top": null,
      "visibility": null,
      "width": null
     }
    },
    "167912df173d4fc6a3a19966e64eb50e": {
     "model_module": "@jupyter-widgets/controls",
     "model_name": "ProgressStyleModel",
     "model_module_version": "1.5.0",
     "state": {
      "_model_module": "@jupyter-widgets/controls",
      "_model_module_version": "1.5.0",
      "_model_name": "ProgressStyleModel",
      "_view_count": null,
      "_view_module": "@jupyter-widgets/base",
      "_view_module_version": "1.2.0",
      "_view_name": "StyleView",
      "bar_color": null,
      "description_width": ""
     }
    },
    "09411ce741dd4ee1a4cea315a4395e69": {
     "model_module": "@jupyter-widgets/base",
     "model_name": "LayoutModel",
     "model_module_version": "1.2.0",
     "state": {
      "_model_module": "@jupyter-widgets/base",
      "_model_module_version": "1.2.0",
      "_model_name": "LayoutModel",
      "_view_count": null,
      "_view_module": "@jupyter-widgets/base",
      "_view_module_version": "1.2.0",
      "_view_name": "LayoutView",
      "align_content": null,
      "align_items": null,
      "align_self": null,
      "border": null,
      "bottom": null,
      "display": null,
      "flex": null,
      "flex_flow": null,
      "grid_area": null,
      "grid_auto_columns": null,
      "grid_auto_flow": null,
      "grid_auto_rows": null,
      "grid_column": null,
      "grid_gap": null,
      "grid_row": null,
      "grid_template_areas": null,
      "grid_template_columns": null,
      "grid_template_rows": null,
      "height": null,
      "justify_content": null,
      "justify_items": null,
      "left": null,
      "margin": null,
      "max_height": null,
      "max_width": null,
      "min_height": null,
      "min_width": null,
      "object_fit": null,
      "object_position": null,
      "order": null,
      "overflow": null,
      "overflow_x": null,
      "overflow_y": null,
      "padding": null,
      "right": null,
      "top": null,
      "visibility": null,
      "width": null
     }
    },
    "a615404fba0a46138ad0b4985abbfd77": {
     "model_module": "@jupyter-widgets/controls",
     "model_name": "DescriptionStyleModel",
     "model_module_version": "1.5.0",
     "state": {
      "_model_module": "@jupyter-widgets/controls",
      "_model_module_version": "1.5.0",
      "_model_name": "DescriptionStyleModel",
      "_view_count": null,
      "_view_module": "@jupyter-widgets/base",
      "_view_module_version": "1.2.0",
      "_view_name": "StyleView",
      "description_width": ""
     }
    },
    "8930a715f78346cca5c5d3671987f39b": {
     "model_module": "@jupyter-widgets/controls",
     "model_name": "HBoxModel",
     "model_module_version": "1.5.0",
     "state": {
      "_dom_classes": [],
      "_model_module": "@jupyter-widgets/controls",
      "_model_module_version": "1.5.0",
      "_model_name": "HBoxModel",
      "_view_count": null,
      "_view_module": "@jupyter-widgets/controls",
      "_view_module_version": "1.5.0",
      "_view_name": "HBoxView",
      "box_style": "",
      "children": [
       "IPY_MODEL_567e2e567b4d46eab67911bf019d4db9",
       "IPY_MODEL_c3f9fd6a164e4fde9e79aaf9f0676998",
       "IPY_MODEL_9a00edb1df484113a87b548b04ac093f"
      ],
      "layout": "IPY_MODEL_4ff62ac0fa6541ada2d868f135377ba9"
     }
    },
    "567e2e567b4d46eab67911bf019d4db9": {
     "model_module": "@jupyter-widgets/controls",
     "model_name": "HTMLModel",
     "model_module_version": "1.5.0",
     "state": {
      "_dom_classes": [],
      "_model_module": "@jupyter-widgets/controls",
      "_model_module_version": "1.5.0",
      "_model_name": "HTMLModel",
      "_view_count": null,
      "_view_module": "@jupyter-widgets/controls",
      "_view_module_version": "1.5.0",
      "_view_name": "HTMLView",
      "description": "",
      "description_tooltip": null,
      "layout": "IPY_MODEL_eaa84981ef904174ab1284410a567136",
      "placeholder": "​",
      "style": "IPY_MODEL_1601601375184639b5208d9f8056acf1",
      "value": "normalizer.json: 100%"
     }
    },
    "c3f9fd6a164e4fde9e79aaf9f0676998": {
     "model_module": "@jupyter-widgets/controls",
     "model_name": "FloatProgressModel",
     "model_module_version": "1.5.0",
     "state": {
      "_dom_classes": [],
      "_model_module": "@jupyter-widgets/controls",
      "_model_module_version": "1.5.0",
      "_model_name": "FloatProgressModel",
      "_view_count": null,
      "_view_module": "@jupyter-widgets/controls",
      "_view_module_version": "1.5.0",
      "_view_name": "ProgressView",
      "bar_style": "success",
      "description": "",
      "description_tooltip": null,
      "layout": "IPY_MODEL_b49ac52787ee43f3a3fb2cb617dffa95",
      "max": 52666,
      "min": 0,
      "orientation": "horizontal",
      "style": "IPY_MODEL_b9c12180c41242428fcd7086f320b75c",
      "value": 52666
     }
    },
    "9a00edb1df484113a87b548b04ac093f": {
     "model_module": "@jupyter-widgets/controls",
     "model_name": "HTMLModel",
     "model_module_version": "1.5.0",
     "state": {
      "_dom_classes": [],
      "_model_module": "@jupyter-widgets/controls",
      "_model_module_version": "1.5.0",
      "_model_name": "HTMLModel",
      "_view_count": null,
      "_view_module": "@jupyter-widgets/controls",
      "_view_module_version": "1.5.0",
      "_view_name": "HTMLView",
      "description": "",
      "description_tooltip": null,
      "layout": "IPY_MODEL_42293b12b9b64c44b3bdcd3ae40ed064",
      "placeholder": "​",
      "style": "IPY_MODEL_ffb808a8b9d04adead36d85324529a51",
      "value": " 52.7k/52.7k [00:00&lt;00:00, 2.25MB/s]"
     }
    },
    "4ff62ac0fa6541ada2d868f135377ba9": {
     "model_module": "@jupyter-widgets/base",
     "model_name": "LayoutModel",
     "model_module_version": "1.2.0",
     "state": {
      "_model_module": "@jupyter-widgets/base",
      "_model_module_version": "1.2.0",
      "_model_name": "LayoutModel",
      "_view_count": null,
      "_view_module": "@jupyter-widgets/base",
      "_view_module_version": "1.2.0",
      "_view_name": "LayoutView",
      "align_content": null,
      "align_items": null,
      "align_self": null,
      "border": null,
      "bottom": null,
      "display": null,
      "flex": null,
      "flex_flow": null,
      "grid_area": null,
      "grid_auto_columns": null,
      "grid_auto_flow": null,
      "grid_auto_rows": null,
      "grid_column": null,
      "grid_gap": null,
      "grid_row": null,
      "grid_template_areas": null,
      "grid_template_columns": null,
      "grid_template_rows": null,
      "height": null,
      "justify_content": null,
      "justify_items": null,
      "left": null,
      "margin": null,
      "max_height": null,
      "max_width": null,
      "min_height": null,
      "min_width": null,
      "object_fit": null,
      "object_position": null,
      "order": null,
      "overflow": null,
      "overflow_x": null,
      "overflow_y": null,
      "padding": null,
      "right": null,
      "top": null,
      "visibility": null,
      "width": null
     }
    },
    "eaa84981ef904174ab1284410a567136": {
     "model_module": "@jupyter-widgets/base",
     "model_name": "LayoutModel",
     "model_module_version": "1.2.0",
     "state": {
      "_model_module": "@jupyter-widgets/base",
      "_model_module_version": "1.2.0",
      "_model_name": "LayoutModel",
      "_view_count": null,
      "_view_module": "@jupyter-widgets/base",
      "_view_module_version": "1.2.0",
      "_view_name": "LayoutView",
      "align_content": null,
      "align_items": null,
      "align_self": null,
      "border": null,
      "bottom": null,
      "display": null,
      "flex": null,
      "flex_flow": null,
      "grid_area": null,
      "grid_auto_columns": null,
      "grid_auto_flow": null,
      "grid_auto_rows": null,
      "grid_column": null,
      "grid_gap": null,
      "grid_row": null,
      "grid_template_areas": null,
      "grid_template_columns": null,
      "grid_template_rows": null,
      "height": null,
      "justify_content": null,
      "justify_items": null,
      "left": null,
      "margin": null,
      "max_height": null,
      "max_width": null,
      "min_height": null,
      "min_width": null,
      "object_fit": null,
      "object_position": null,
      "order": null,
      "overflow": null,
      "overflow_x": null,
      "overflow_y": null,
      "padding": null,
      "right": null,
      "top": null,
      "visibility": null,
      "width": null
     }
    },
    "1601601375184639b5208d9f8056acf1": {
     "model_module": "@jupyter-widgets/controls",
     "model_name": "DescriptionStyleModel",
     "model_module_version": "1.5.0",
     "state": {
      "_model_module": "@jupyter-widgets/controls",
      "_model_module_version": "1.5.0",
      "_model_name": "DescriptionStyleModel",
      "_view_count": null,
      "_view_module": "@jupyter-widgets/base",
      "_view_module_version": "1.2.0",
      "_view_name": "StyleView",
      "description_width": ""
     }
    },
    "b49ac52787ee43f3a3fb2cb617dffa95": {
     "model_module": "@jupyter-widgets/base",
     "model_name": "LayoutModel",
     "model_module_version": "1.2.0",
     "state": {
      "_model_module": "@jupyter-widgets/base",
      "_model_module_version": "1.2.0",
      "_model_name": "LayoutModel",
      "_view_count": null,
      "_view_module": "@jupyter-widgets/base",
      "_view_module_version": "1.2.0",
      "_view_name": "LayoutView",
      "align_content": null,
      "align_items": null,
      "align_self": null,
      "border": null,
      "bottom": null,
      "display": null,
      "flex": null,
      "flex_flow": null,
      "grid_area": null,
      "grid_auto_columns": null,
      "grid_auto_flow": null,
      "grid_auto_rows": null,
      "grid_column": null,
      "grid_gap": null,
      "grid_row": null,
      "grid_template_areas": null,
      "grid_template_columns": null,
      "grid_template_rows": null,
      "height": null,
      "justify_content": null,
      "justify_items": null,
      "left": null,
      "margin": null,
      "max_height": null,
      "max_width": null,
      "min_height": null,
      "min_width": null,
      "object_fit": null,
      "object_position": null,
      "order": null,
      "overflow": null,
      "overflow_x": null,
      "overflow_y": null,
      "padding": null,
      "right": null,
      "top": null,
      "visibility": null,
      "width": null
     }
    },
    "b9c12180c41242428fcd7086f320b75c": {
     "model_module": "@jupyter-widgets/controls",
     "model_name": "ProgressStyleModel",
     "model_module_version": "1.5.0",
     "state": {
      "_model_module": "@jupyter-widgets/controls",
      "_model_module_version": "1.5.0",
      "_model_name": "ProgressStyleModel",
      "_view_count": null,
      "_view_module": "@jupyter-widgets/base",
      "_view_module_version": "1.2.0",
      "_view_name": "StyleView",
      "bar_color": null,
      "description_width": ""
     }
    },
    "42293b12b9b64c44b3bdcd3ae40ed064": {
     "model_module": "@jupyter-widgets/base",
     "model_name": "LayoutModel",
     "model_module_version": "1.2.0",
     "state": {
      "_model_module": "@jupyter-widgets/base",
      "_model_module_version": "1.2.0",
      "_model_name": "LayoutModel",
      "_view_count": null,
      "_view_module": "@jupyter-widgets/base",
      "_view_module_version": "1.2.0",
      "_view_name": "LayoutView",
      "align_content": null,
      "align_items": null,
      "align_self": null,
      "border": null,
      "bottom": null,
      "display": null,
      "flex": null,
      "flex_flow": null,
      "grid_area": null,
      "grid_auto_columns": null,
      "grid_auto_flow": null,
      "grid_auto_rows": null,
      "grid_column": null,
      "grid_gap": null,
      "grid_row": null,
      "grid_template_areas": null,
      "grid_template_columns": null,
      "grid_template_rows": null,
      "height": null,
      "justify_content": null,
      "justify_items": null,
      "left": null,
      "margin": null,
      "max_height": null,
      "max_width": null,
      "min_height": null,
      "min_width": null,
      "object_fit": null,
      "object_position": null,
      "order": null,
      "overflow": null,
      "overflow_x": null,
      "overflow_y": null,
      "padding": null,
      "right": null,
      "top": null,
      "visibility": null,
      "width": null
     }
    },
    "ffb808a8b9d04adead36d85324529a51": {
     "model_module": "@jupyter-widgets/controls",
     "model_name": "DescriptionStyleModel",
     "model_module_version": "1.5.0",
     "state": {
      "_model_module": "@jupyter-widgets/controls",
      "_model_module_version": "1.5.0",
      "_model_name": "DescriptionStyleModel",
      "_view_count": null,
      "_view_module": "@jupyter-widgets/base",
      "_view_module_version": "1.2.0",
      "_view_name": "StyleView",
      "description_width": ""
     }
    },
    "a3d7d6642f7b4d49b43afdaca8a31e8e": {
     "model_module": "@jupyter-widgets/controls",
     "model_name": "HBoxModel",
     "model_module_version": "1.5.0",
     "state": {
      "_dom_classes": [],
      "_model_module": "@jupyter-widgets/controls",
      "_model_module_version": "1.5.0",
      "_model_name": "HBoxModel",
      "_view_count": null,
      "_view_module": "@jupyter-widgets/controls",
      "_view_module_version": "1.5.0",
      "_view_name": "HBoxView",
      "box_style": "",
      "children": [
       "IPY_MODEL_b38ba68bbecd4cef831a9a7eaa394ef3",
       "IPY_MODEL_63fa5dfa6e4d470885c87fe886b20bc8",
       "IPY_MODEL_59fa8f4b76734563a12fe81bbbfca01c"
      ],
      "layout": "IPY_MODEL_d4734cc8f401478cbe7aae8252ce3905"
     }
    },
    "b38ba68bbecd4cef831a9a7eaa394ef3": {
     "model_module": "@jupyter-widgets/controls",
     "model_name": "HTMLModel",
     "model_module_version": "1.5.0",
     "state": {
      "_dom_classes": [],
      "_model_module": "@jupyter-widgets/controls",
      "_model_module_version": "1.5.0",
      "_model_name": "HTMLModel",
      "_view_count": null,
      "_view_module": "@jupyter-widgets/controls",
      "_view_module_version": "1.5.0",
      "_view_name": "HTMLView",
      "description": "",
      "description_tooltip": null,
      "layout": "IPY_MODEL_f1b096368f5e4fc3b05ef5692da029ee",
      "placeholder": "​",
      "style": "IPY_MODEL_ce4067898070462ba9b001f0574e9574",
      "value": "added_tokens.json: 100%"
     }
    },
    "63fa5dfa6e4d470885c87fe886b20bc8": {
     "model_module": "@jupyter-widgets/controls",
     "model_name": "FloatProgressModel",
     "model_module_version": "1.5.0",
     "state": {
      "_dom_classes": [],
      "_model_module": "@jupyter-widgets/controls",
      "_model_module_version": "1.5.0",
      "_model_name": "FloatProgressModel",
      "_view_count": null,
      "_view_module": "@jupyter-widgets/controls",
      "_view_module_version": "1.5.0",
      "_view_name": "ProgressView",
      "bar_style": "success",
      "description": "",
      "description_tooltip": null,
      "layout": "IPY_MODEL_531fe3bef8ec4a898184e2d97e669cb3",
      "max": 34604,
      "min": 0,
      "orientation": "horizontal",
      "style": "IPY_MODEL_347b3ed62a804fb389b654b3ad192408",
      "value": 34604
     }
    },
    "59fa8f4b76734563a12fe81bbbfca01c": {
     "model_module": "@jupyter-widgets/controls",
     "model_name": "HTMLModel",
     "model_module_version": "1.5.0",
     "state": {
      "_dom_classes": [],
      "_model_module": "@jupyter-widgets/controls",
      "_model_module_version": "1.5.0",
      "_model_name": "HTMLModel",
      "_view_count": null,
      "_view_module": "@jupyter-widgets/controls",
      "_view_module_version": "1.5.0",
      "_view_name": "HTMLView",
      "description": "",
      "description_tooltip": null,
      "layout": "IPY_MODEL_960e6d8c115948429484b1696522ef6c",
      "placeholder": "​",
      "style": "IPY_MODEL_a3c8aa2696e24ecba3aad63b27aaf0a0",
      "value": " 34.6k/34.6k [00:00&lt;00:00, 1.35MB/s]"
     }
    },
    "d4734cc8f401478cbe7aae8252ce3905": {
     "model_module": "@jupyter-widgets/base",
     "model_name": "LayoutModel",
     "model_module_version": "1.2.0",
     "state": {
      "_model_module": "@jupyter-widgets/base",
      "_model_module_version": "1.2.0",
      "_model_name": "LayoutModel",
      "_view_count": null,
      "_view_module": "@jupyter-widgets/base",
      "_view_module_version": "1.2.0",
      "_view_name": "LayoutView",
      "align_content": null,
      "align_items": null,
      "align_self": null,
      "border": null,
      "bottom": null,
      "display": null,
      "flex": null,
      "flex_flow": null,
      "grid_area": null,
      "grid_auto_columns": null,
      "grid_auto_flow": null,
      "grid_auto_rows": null,
      "grid_column": null,
      "grid_gap": null,
      "grid_row": null,
      "grid_template_areas": null,
      "grid_template_columns": null,
      "grid_template_rows": null,
      "height": null,
      "justify_content": null,
      "justify_items": null,
      "left": null,
      "margin": null,
      "max_height": null,
      "max_width": null,
      "min_height": null,
      "min_width": null,
      "object_fit": null,
      "object_position": null,
      "order": null,
      "overflow": null,
      "overflow_x": null,
      "overflow_y": null,
      "padding": null,
      "right": null,
      "top": null,
      "visibility": null,
      "width": null
     }
    },
    "f1b096368f5e4fc3b05ef5692da029ee": {
     "model_module": "@jupyter-widgets/base",
     "model_name": "LayoutModel",
     "model_module_version": "1.2.0",
     "state": {
      "_model_module": "@jupyter-widgets/base",
      "_model_module_version": "1.2.0",
      "_model_name": "LayoutModel",
      "_view_count": null,
      "_view_module": "@jupyter-widgets/base",
      "_view_module_version": "1.2.0",
      "_view_name": "LayoutView",
      "align_content": null,
      "align_items": null,
      "align_self": null,
      "border": null,
      "bottom": null,
      "display": null,
      "flex": null,
      "flex_flow": null,
      "grid_area": null,
      "grid_auto_columns": null,
      "grid_auto_flow": null,
      "grid_auto_rows": null,
      "grid_column": null,
      "grid_gap": null,
      "grid_row": null,
      "grid_template_areas": null,
      "grid_template_columns": null,
      "grid_template_rows": null,
      "height": null,
      "justify_content": null,
      "justify_items": null,
      "left": null,
      "margin": null,
      "max_height": null,
      "max_width": null,
      "min_height": null,
      "min_width": null,
      "object_fit": null,
      "object_position": null,
      "order": null,
      "overflow": null,
      "overflow_x": null,
      "overflow_y": null,
      "padding": null,
      "right": null,
      "top": null,
      "visibility": null,
      "width": null
     }
    },
    "ce4067898070462ba9b001f0574e9574": {
     "model_module": "@jupyter-widgets/controls",
     "model_name": "DescriptionStyleModel",
     "model_module_version": "1.5.0",
     "state": {
      "_model_module": "@jupyter-widgets/controls",
      "_model_module_version": "1.5.0",
      "_model_name": "DescriptionStyleModel",
      "_view_count": null,
      "_view_module": "@jupyter-widgets/base",
      "_view_module_version": "1.2.0",
      "_view_name": "StyleView",
      "description_width": ""
     }
    },
    "531fe3bef8ec4a898184e2d97e669cb3": {
     "model_module": "@jupyter-widgets/base",
     "model_name": "LayoutModel",
     "model_module_version": "1.2.0",
     "state": {
      "_model_module": "@jupyter-widgets/base",
      "_model_module_version": "1.2.0",
      "_model_name": "LayoutModel",
      "_view_count": null,
      "_view_module": "@jupyter-widgets/base",
      "_view_module_version": "1.2.0",
      "_view_name": "LayoutView",
      "align_content": null,
      "align_items": null,
      "align_self": null,
      "border": null,
      "bottom": null,
      "display": null,
      "flex": null,
      "flex_flow": null,
      "grid_area": null,
      "grid_auto_columns": null,
      "grid_auto_flow": null,
      "grid_auto_rows": null,
      "grid_column": null,
      "grid_gap": null,
      "grid_row": null,
      "grid_template_areas": null,
      "grid_template_columns": null,
      "grid_template_rows": null,
      "height": null,
      "justify_content": null,
      "justify_items": null,
      "left": null,
      "margin": null,
      "max_height": null,
      "max_width": null,
      "min_height": null,
      "min_width": null,
      "object_fit": null,
      "object_position": null,
      "order": null,
      "overflow": null,
      "overflow_x": null,
      "overflow_y": null,
      "padding": null,
      "right": null,
      "top": null,
      "visibility": null,
      "width": null
     }
    },
    "347b3ed62a804fb389b654b3ad192408": {
     "model_module": "@jupyter-widgets/controls",
     "model_name": "ProgressStyleModel",
     "model_module_version": "1.5.0",
     "state": {
      "_model_module": "@jupyter-widgets/controls",
      "_model_module_version": "1.5.0",
      "_model_name": "ProgressStyleModel",
      "_view_count": null,
      "_view_module": "@jupyter-widgets/base",
      "_view_module_version": "1.2.0",
      "_view_name": "StyleView",
      "bar_color": null,
      "description_width": ""
     }
    },
    "960e6d8c115948429484b1696522ef6c": {
     "model_module": "@jupyter-widgets/base",
     "model_name": "LayoutModel",
     "model_module_version": "1.2.0",
     "state": {
      "_model_module": "@jupyter-widgets/base",
      "_model_module_version": "1.2.0",
      "_model_name": "LayoutModel",
      "_view_count": null,
      "_view_module": "@jupyter-widgets/base",
      "_view_module_version": "1.2.0",
      "_view_name": "LayoutView",
      "align_content": null,
      "align_items": null,
      "align_self": null,
      "border": null,
      "bottom": null,
      "display": null,
      "flex": null,
      "flex_flow": null,
      "grid_area": null,
      "grid_auto_columns": null,
      "grid_auto_flow": null,
      "grid_auto_rows": null,
      "grid_column": null,
      "grid_gap": null,
      "grid_row": null,
      "grid_template_areas": null,
      "grid_template_columns": null,
      "grid_template_rows": null,
      "height": null,
      "justify_content": null,
      "justify_items": null,
      "left": null,
      "margin": null,
      "max_height": null,
      "max_width": null,
      "min_height": null,
      "min_width": null,
      "object_fit": null,
      "object_position": null,
      "order": null,
      "overflow": null,
      "overflow_x": null,
      "overflow_y": null,
      "padding": null,
      "right": null,
      "top": null,
      "visibility": null,
      "width": null
     }
    },
    "a3c8aa2696e24ecba3aad63b27aaf0a0": {
     "model_module": "@jupyter-widgets/controls",
     "model_name": "DescriptionStyleModel",
     "model_module_version": "1.5.0",
     "state": {
      "_model_module": "@jupyter-widgets/controls",
      "_model_module_version": "1.5.0",
      "_model_name": "DescriptionStyleModel",
      "_view_count": null,
      "_view_module": "@jupyter-widgets/base",
      "_view_module_version": "1.2.0",
      "_view_name": "StyleView",
      "description_width": ""
     }
    },
    "48742e44ac6c4fd498dbace4e18e52fa": {
     "model_module": "@jupyter-widgets/controls",
     "model_name": "HBoxModel",
     "model_module_version": "1.5.0",
     "state": {
      "_dom_classes": [],
      "_model_module": "@jupyter-widgets/controls",
      "_model_module_version": "1.5.0",
      "_model_name": "HBoxModel",
      "_view_count": null,
      "_view_module": "@jupyter-widgets/controls",
      "_view_module_version": "1.5.0",
      "_view_name": "HBoxView",
      "box_style": "",
      "children": [
       "IPY_MODEL_e6a77970a364432693204597ae65ece3",
       "IPY_MODEL_a57704fa8a904b3caff58ee5c5ee762b",
       "IPY_MODEL_e5873792e9704b06b0917edaea809c70"
      ],
      "layout": "IPY_MODEL_44fd2c848d344446ad9aa01cda21768a"
     }
    },
    "e6a77970a364432693204597ae65ece3": {
     "model_module": "@jupyter-widgets/controls",
     "model_name": "HTMLModel",
     "model_module_version": "1.5.0",
     "state": {
      "_dom_classes": [],
      "_model_module": "@jupyter-widgets/controls",
      "_model_module_version": "1.5.0",
      "_model_name": "HTMLModel",
      "_view_count": null,
      "_view_module": "@jupyter-widgets/controls",
      "_view_module_version": "1.5.0",
      "_view_name": "HTMLView",
      "description": "",
      "description_tooltip": null,
      "layout": "IPY_MODEL_05eba8c24a4d4c12833f1ee0cd6e5451",
      "placeholder": "​",
      "style": "IPY_MODEL_90726e72e2ee420abecab0266cf37161",
      "value": "special_tokens_map.json: 100%"
     }
    },
    "a57704fa8a904b3caff58ee5c5ee762b": {
     "model_module": "@jupyter-widgets/controls",
     "model_name": "FloatProgressModel",
     "model_module_version": "1.5.0",
     "state": {
      "_dom_classes": [],
      "_model_module": "@jupyter-widgets/controls",
      "_model_module_version": "1.5.0",
      "_model_name": "FloatProgressModel",
      "_view_count": null,
      "_view_module": "@jupyter-widgets/controls",
      "_view_module_version": "1.5.0",
      "_view_name": "ProgressView",
      "bar_style": "success",
      "description": "",
      "description_tooltip": null,
      "layout": "IPY_MODEL_9f3ee62a4f46445d9a4d2d02a74c511d",
      "max": 2077,
      "min": 0,
      "orientation": "horizontal",
      "style": "IPY_MODEL_9b0faed6c3ea4ed585e73552f316261b",
      "value": 2077
     }
    },
    "e5873792e9704b06b0917edaea809c70": {
     "model_module": "@jupyter-widgets/controls",
     "model_name": "HTMLModel",
     "model_module_version": "1.5.0",
     "state": {
      "_dom_classes": [],
      "_model_module": "@jupyter-widgets/controls",
      "_model_module_version": "1.5.0",
      "_model_name": "HTMLModel",
      "_view_count": null,
      "_view_module": "@jupyter-widgets/controls",
      "_view_module_version": "1.5.0",
      "_view_name": "HTMLView",
      "description": "",
      "description_tooltip": null,
      "layout": "IPY_MODEL_5498319c95c748359bcde647c9f0ad7d",
      "placeholder": "​",
      "style": "IPY_MODEL_e3a5ea71f83d46e1bcad3f4db68439f2",
      "value": " 2.08k/2.08k [00:00&lt;00:00, 75.5kB/s]"
     }
    },
    "44fd2c848d344446ad9aa01cda21768a": {
     "model_module": "@jupyter-widgets/base",
     "model_name": "LayoutModel",
     "model_module_version": "1.2.0",
     "state": {
      "_model_module": "@jupyter-widgets/base",
      "_model_module_version": "1.2.0",
      "_model_name": "LayoutModel",
      "_view_count": null,
      "_view_module": "@jupyter-widgets/base",
      "_view_module_version": "1.2.0",
      "_view_name": "LayoutView",
      "align_content": null,
      "align_items": null,
      "align_self": null,
      "border": null,
      "bottom": null,
      "display": null,
      "flex": null,
      "flex_flow": null,
      "grid_area": null,
      "grid_auto_columns": null,
      "grid_auto_flow": null,
      "grid_auto_rows": null,
      "grid_column": null,
      "grid_gap": null,
      "grid_row": null,
      "grid_template_areas": null,
      "grid_template_columns": null,
      "grid_template_rows": null,
      "height": null,
      "justify_content": null,
      "justify_items": null,
      "left": null,
      "margin": null,
      "max_height": null,
      "max_width": null,
      "min_height": null,
      "min_width": null,
      "object_fit": null,
      "object_position": null,
      "order": null,
      "overflow": null,
      "overflow_x": null,
      "overflow_y": null,
      "padding": null,
      "right": null,
      "top": null,
      "visibility": null,
      "width": null
     }
    },
    "05eba8c24a4d4c12833f1ee0cd6e5451": {
     "model_module": "@jupyter-widgets/base",
     "model_name": "LayoutModel",
     "model_module_version": "1.2.0",
     "state": {
      "_model_module": "@jupyter-widgets/base",
      "_model_module_version": "1.2.0",
      "_model_name": "LayoutModel",
      "_view_count": null,
      "_view_module": "@jupyter-widgets/base",
      "_view_module_version": "1.2.0",
      "_view_name": "LayoutView",
      "align_content": null,
      "align_items": null,
      "align_self": null,
      "border": null,
      "bottom": null,
      "display": null,
      "flex": null,
      "flex_flow": null,
      "grid_area": null,
      "grid_auto_columns": null,
      "grid_auto_flow": null,
      "grid_auto_rows": null,
      "grid_column": null,
      "grid_gap": null,
      "grid_row": null,
      "grid_template_areas": null,
      "grid_template_columns": null,
      "grid_template_rows": null,
      "height": null,
      "justify_content": null,
      "justify_items": null,
      "left": null,
      "margin": null,
      "max_height": null,
      "max_width": null,
      "min_height": null,
      "min_width": null,
      "object_fit": null,
      "object_position": null,
      "order": null,
      "overflow": null,
      "overflow_x": null,
      "overflow_y": null,
      "padding": null,
      "right": null,
      "top": null,
      "visibility": null,
      "width": null
     }
    },
    "90726e72e2ee420abecab0266cf37161": {
     "model_module": "@jupyter-widgets/controls",
     "model_name": "DescriptionStyleModel",
     "model_module_version": "1.5.0",
     "state": {
      "_model_module": "@jupyter-widgets/controls",
      "_model_module_version": "1.5.0",
      "_model_name": "DescriptionStyleModel",
      "_view_count": null,
      "_view_module": "@jupyter-widgets/base",
      "_view_module_version": "1.2.0",
      "_view_name": "StyleView",
      "description_width": ""
     }
    },
    "9f3ee62a4f46445d9a4d2d02a74c511d": {
     "model_module": "@jupyter-widgets/base",
     "model_name": "LayoutModel",
     "model_module_version": "1.2.0",
     "state": {
      "_model_module": "@jupyter-widgets/base",
      "_model_module_version": "1.2.0",
      "_model_name": "LayoutModel",
      "_view_count": null,
      "_view_module": "@jupyter-widgets/base",
      "_view_module_version": "1.2.0",
      "_view_name": "LayoutView",
      "align_content": null,
      "align_items": null,
      "align_self": null,
      "border": null,
      "bottom": null,
      "display": null,
      "flex": null,
      "flex_flow": null,
      "grid_area": null,
      "grid_auto_columns": null,
      "grid_auto_flow": null,
      "grid_auto_rows": null,
      "grid_column": null,
      "grid_gap": null,
      "grid_row": null,
      "grid_template_areas": null,
      "grid_template_columns": null,
      "grid_template_rows": null,
      "height": null,
      "justify_content": null,
      "justify_items": null,
      "left": null,
      "margin": null,
      "max_height": null,
      "max_width": null,
      "min_height": null,
      "min_width": null,
      "object_fit": null,
      "object_position": null,
      "order": null,
      "overflow": null,
      "overflow_x": null,
      "overflow_y": null,
      "padding": null,
      "right": null,
      "top": null,
      "visibility": null,
      "width": null
     }
    },
    "9b0faed6c3ea4ed585e73552f316261b": {
     "model_module": "@jupyter-widgets/controls",
     "model_name": "ProgressStyleModel",
     "model_module_version": "1.5.0",
     "state": {
      "_model_module": "@jupyter-widgets/controls",
      "_model_module_version": "1.5.0",
      "_model_name": "ProgressStyleModel",
      "_view_count": null,
      "_view_module": "@jupyter-widgets/base",
      "_view_module_version": "1.2.0",
      "_view_name": "StyleView",
      "bar_color": null,
      "description_width": ""
     }
    },
    "5498319c95c748359bcde647c9f0ad7d": {
     "model_module": "@jupyter-widgets/base",
     "model_name": "LayoutModel",
     "model_module_version": "1.2.0",
     "state": {
      "_model_module": "@jupyter-widgets/base",
      "_model_module_version": "1.2.0",
      "_model_name": "LayoutModel",
      "_view_count": null,
      "_view_module": "@jupyter-widgets/base",
      "_view_module_version": "1.2.0",
      "_view_name": "LayoutView",
      "align_content": null,
      "align_items": null,
      "align_self": null,
      "border": null,
      "bottom": null,
      "display": null,
      "flex": null,
      "flex_flow": null,
      "grid_area": null,
      "grid_auto_columns": null,
      "grid_auto_flow": null,
      "grid_auto_rows": null,
      "grid_column": null,
      "grid_gap": null,
      "grid_row": null,
      "grid_template_areas": null,
      "grid_template_columns": null,
      "grid_template_rows": null,
      "height": null,
      "justify_content": null,
      "justify_items": null,
      "left": null,
      "margin": null,
      "max_height": null,
      "max_width": null,
      "min_height": null,
      "min_width": null,
      "object_fit": null,
      "object_position": null,
      "order": null,
      "overflow": null,
      "overflow_x": null,
      "overflow_y": null,
      "padding": null,
      "right": null,
      "top": null,
      "visibility": null,
      "width": null
     }
    },
    "e3a5ea71f83d46e1bcad3f4db68439f2": {
     "model_module": "@jupyter-widgets/controls",
     "model_name": "DescriptionStyleModel",
     "model_module_version": "1.5.0",
     "state": {
      "_model_module": "@jupyter-widgets/controls",
      "_model_module_version": "1.5.0",
      "_model_name": "DescriptionStyleModel",
      "_view_count": null,
      "_view_module": "@jupyter-widgets/base",
      "_view_module_version": "1.2.0",
      "_view_name": "StyleView",
      "description_width": ""
     }
    },
    "b1f93780e7ef473ca17b9387a66cf581": {
     "model_module": "@jupyter-widgets/controls",
     "model_name": "HBoxModel",
     "model_module_version": "1.5.0",
     "state": {
      "_dom_classes": [],
      "_model_module": "@jupyter-widgets/controls",
      "_model_module_version": "1.5.0",
      "_model_name": "HBoxModel",
      "_view_count": null,
      "_view_module": "@jupyter-widgets/controls",
      "_view_module_version": "1.5.0",
      "_view_name": "HBoxView",
      "box_style": "",
      "children": [
       "IPY_MODEL_3f088821fa414bcda91abaa1d5d0fe22",
       "IPY_MODEL_409be221a78c4cb7afe582e6221bcdae",
       "IPY_MODEL_feb76ccdcd334f6a8b6eaa51bca85f69"
      ],
      "layout": "IPY_MODEL_9db2ec5239f1405698e8436adcaffb09"
     }
    },
    "3f088821fa414bcda91abaa1d5d0fe22": {
     "model_module": "@jupyter-widgets/controls",
     "model_name": "HTMLModel",
     "model_module_version": "1.5.0",
     "state": {
      "_dom_classes": [],
      "_model_module": "@jupyter-widgets/controls",
      "_model_module_version": "1.5.0",
      "_model_name": "HTMLModel",
      "_view_count": null,
      "_view_module": "@jupyter-widgets/controls",
      "_view_module_version": "1.5.0",
      "_view_name": "HTMLView",
      "description": "",
      "description_tooltip": null,
      "layout": "IPY_MODEL_d3662c9d04bd4918b252fadd280ab323",
      "placeholder": "​",
      "style": "IPY_MODEL_99f49963d32e49acb963b833f78c6576",
      "value": "Map (num_proc=2): 100%"
     }
    },
    "409be221a78c4cb7afe582e6221bcdae": {
     "model_module": "@jupyter-widgets/controls",
     "model_name": "FloatProgressModel",
     "model_module_version": "1.5.0",
     "state": {
      "_dom_classes": [],
      "_model_module": "@jupyter-widgets/controls",
      "_model_module_version": "1.5.0",
      "_model_name": "FloatProgressModel",
      "_view_count": null,
      "_view_module": "@jupyter-widgets/controls",
      "_view_module_version": "1.5.0",
      "_view_name": "ProgressView",
      "bar_style": "success",
      "description": "",
      "description_tooltip": null,
      "layout": "IPY_MODEL_7d36d04156a64c25ae9c9a9900763491",
      "max": 20000,
      "min": 0,
      "orientation": "horizontal",
      "style": "IPY_MODEL_caec953967004ce5aa418dc7f2de1f20",
      "value": 20000
     }
    },
    "feb76ccdcd334f6a8b6eaa51bca85f69": {
     "model_module": "@jupyter-widgets/controls",
     "model_name": "HTMLModel",
     "model_module_version": "1.5.0",
     "state": {
      "_dom_classes": [],
      "_model_module": "@jupyter-widgets/controls",
      "_model_module_version": "1.5.0",
      "_model_name": "HTMLModel",
      "_view_count": null,
      "_view_module": "@jupyter-widgets/controls",
      "_view_module_version": "1.5.0",
      "_view_name": "HTMLView",
      "description": "",
      "description_tooltip": null,
      "layout": "IPY_MODEL_6090b0610eb84d8f93df9af01642d091",
      "placeholder": "​",
      "style": "IPY_MODEL_bff9ff402d184d6bbd3ccae3e03b28c1",
      "value": " 20000/20000 [32:59&lt;00:00,  2.76s/ examples]"
     }
    },
    "9db2ec5239f1405698e8436adcaffb09": {
     "model_module": "@jupyter-widgets/base",
     "model_name": "LayoutModel",
     "model_module_version": "1.2.0",
     "state": {
      "_model_module": "@jupyter-widgets/base",
      "_model_module_version": "1.2.0",
      "_model_name": "LayoutModel",
      "_view_count": null,
      "_view_module": "@jupyter-widgets/base",
      "_view_module_version": "1.2.0",
      "_view_name": "LayoutView",
      "align_content": null,
      "align_items": null,
      "align_self": null,
      "border": null,
      "bottom": null,
      "display": null,
      "flex": null,
      "flex_flow": null,
      "grid_area": null,
      "grid_auto_columns": null,
      "grid_auto_flow": null,
      "grid_auto_rows": null,
      "grid_column": null,
      "grid_gap": null,
      "grid_row": null,
      "grid_template_areas": null,
      "grid_template_columns": null,
      "grid_template_rows": null,
      "height": null,
      "justify_content": null,
      "justify_items": null,
      "left": null,
      "margin": null,
      "max_height": null,
      "max_width": null,
      "min_height": null,
      "min_width": null,
      "object_fit": null,
      "object_position": null,
      "order": null,
      "overflow": null,
      "overflow_x": null,
      "overflow_y": null,
      "padding": null,
      "right": null,
      "top": null,
      "visibility": null,
      "width": null
     }
    },
    "d3662c9d04bd4918b252fadd280ab323": {
     "model_module": "@jupyter-widgets/base",
     "model_name": "LayoutModel",
     "model_module_version": "1.2.0",
     "state": {
      "_model_module": "@jupyter-widgets/base",
      "_model_module_version": "1.2.0",
      "_model_name": "LayoutModel",
      "_view_count": null,
      "_view_module": "@jupyter-widgets/base",
      "_view_module_version": "1.2.0",
      "_view_name": "LayoutView",
      "align_content": null,
      "align_items": null,
      "align_self": null,
      "border": null,
      "bottom": null,
      "display": null,
      "flex": null,
      "flex_flow": null,
      "grid_area": null,
      "grid_auto_columns": null,
      "grid_auto_flow": null,
      "grid_auto_rows": null,
      "grid_column": null,
      "grid_gap": null,
      "grid_row": null,
      "grid_template_areas": null,
      "grid_template_columns": null,
      "grid_template_rows": null,
      "height": null,
      "justify_content": null,
      "justify_items": null,
      "left": null,
      "margin": null,
      "max_height": null,
      "max_width": null,
      "min_height": null,
      "min_width": null,
      "object_fit": null,
      "object_position": null,
      "order": null,
      "overflow": null,
      "overflow_x": null,
      "overflow_y": null,
      "padding": null,
      "right": null,
      "top": null,
      "visibility": null,
      "width": null
     }
    },
    "99f49963d32e49acb963b833f78c6576": {
     "model_module": "@jupyter-widgets/controls",
     "model_name": "DescriptionStyleModel",
     "model_module_version": "1.5.0",
     "state": {
      "_model_module": "@jupyter-widgets/controls",
      "_model_module_version": "1.5.0",
      "_model_name": "DescriptionStyleModel",
      "_view_count": null,
      "_view_module": "@jupyter-widgets/base",
      "_view_module_version": "1.2.0",
      "_view_name": "StyleView",
      "description_width": ""
     }
    },
    "7d36d04156a64c25ae9c9a9900763491": {
     "model_module": "@jupyter-widgets/base",
     "model_name": "LayoutModel",
     "model_module_version": "1.2.0",
     "state": {
      "_model_module": "@jupyter-widgets/base",
      "_model_module_version": "1.2.0",
      "_model_name": "LayoutModel",
      "_view_count": null,
      "_view_module": "@jupyter-widgets/base",
      "_view_module_version": "1.2.0",
      "_view_name": "LayoutView",
      "align_content": null,
      "align_items": null,
      "align_self": null,
      "border": null,
      "bottom": null,
      "display": null,
      "flex": null,
      "flex_flow": null,
      "grid_area": null,
      "grid_auto_columns": null,
      "grid_auto_flow": null,
      "grid_auto_rows": null,
      "grid_column": null,
      "grid_gap": null,
      "grid_row": null,
      "grid_template_areas": null,
      "grid_template_columns": null,
      "grid_template_rows": null,
      "height": null,
      "justify_content": null,
      "justify_items": null,
      "left": null,
      "margin": null,
      "max_height": null,
      "max_width": null,
      "min_height": null,
      "min_width": null,
      "object_fit": null,
      "object_position": null,
      "order": null,
      "overflow": null,
      "overflow_x": null,
      "overflow_y": null,
      "padding": null,
      "right": null,
      "top": null,
      "visibility": null,
      "width": null
     }
    },
    "caec953967004ce5aa418dc7f2de1f20": {
     "model_module": "@jupyter-widgets/controls",
     "model_name": "ProgressStyleModel",
     "model_module_version": "1.5.0",
     "state": {
      "_model_module": "@jupyter-widgets/controls",
      "_model_module_version": "1.5.0",
      "_model_name": "ProgressStyleModel",
      "_view_count": null,
      "_view_module": "@jupyter-widgets/base",
      "_view_module_version": "1.2.0",
      "_view_name": "StyleView",
      "bar_color": null,
      "description_width": ""
     }
    },
    "6090b0610eb84d8f93df9af01642d091": {
     "model_module": "@jupyter-widgets/base",
     "model_name": "LayoutModel",
     "model_module_version": "1.2.0",
     "state": {
      "_model_module": "@jupyter-widgets/base",
      "_model_module_version": "1.2.0",
      "_model_name": "LayoutModel",
      "_view_count": null,
      "_view_module": "@jupyter-widgets/base",
      "_view_module_version": "1.2.0",
      "_view_name": "LayoutView",
      "align_content": null,
      "align_items": null,
      "align_self": null,
      "border": null,
      "bottom": null,
      "display": null,
      "flex": null,
      "flex_flow": null,
      "grid_area": null,
      "grid_auto_columns": null,
      "grid_auto_flow": null,
      "grid_auto_rows": null,
      "grid_column": null,
      "grid_gap": null,
      "grid_row": null,
      "grid_template_areas": null,
      "grid_template_columns": null,
      "grid_template_rows": null,
      "height": null,
      "justify_content": null,
      "justify_items": null,
      "left": null,
      "margin": null,
      "max_height": null,
      "max_width": null,
      "min_height": null,
      "min_width": null,
      "object_fit": null,
      "object_position": null,
      "order": null,
      "overflow": null,
      "overflow_x": null,
      "overflow_y": null,
      "padding": null,
      "right": null,
      "top": null,
      "visibility": null,
      "width": null
     }
    },
    "bff9ff402d184d6bbd3ccae3e03b28c1": {
     "model_module": "@jupyter-widgets/controls",
     "model_name": "DescriptionStyleModel",
     "model_module_version": "1.5.0",
     "state": {
      "_model_module": "@jupyter-widgets/controls",
      "_model_module_version": "1.5.0",
      "_model_name": "DescriptionStyleModel",
      "_view_count": null,
      "_view_module": "@jupyter-widgets/base",
      "_view_module_version": "1.2.0",
      "_view_name": "StyleView",
      "description_width": ""
     }
    },
    "468e13a0ee614371a77121dc27e7bf6a": {
     "model_module": "@jupyter-widgets/controls",
     "model_name": "HBoxModel",
     "model_module_version": "1.5.0",
     "state": {
      "_dom_classes": [],
      "_model_module": "@jupyter-widgets/controls",
      "_model_module_version": "1.5.0",
      "_model_name": "HBoxModel",
      "_view_count": null,
      "_view_module": "@jupyter-widgets/controls",
      "_view_module_version": "1.5.0",
      "_view_name": "HBoxView",
      "box_style": "",
      "children": [
       "IPY_MODEL_31ea4c2f5b774209a02520bceaf30e38",
       "IPY_MODEL_2a62ed002c9441e28cee7328d7e736d6",
       "IPY_MODEL_545f8ef52ee34052a8c55927948faed4"
      ],
      "layout": "IPY_MODEL_fbdb9243c8d6448a9a74d745e42a0108"
     }
    },
    "31ea4c2f5b774209a02520bceaf30e38": {
     "model_module": "@jupyter-widgets/controls",
     "model_name": "HTMLModel",
     "model_module_version": "1.5.0",
     "state": {
      "_dom_classes": [],
      "_model_module": "@jupyter-widgets/controls",
      "_model_module_version": "1.5.0",
      "_model_name": "HTMLModel",
      "_view_count": null,
      "_view_module": "@jupyter-widgets/controls",
      "_view_module_version": "1.5.0",
      "_view_name": "HTMLView",
      "description": "",
      "description_tooltip": null,
      "layout": "IPY_MODEL_8fd0f6396a794712b2edb1421b0a7a04",
      "placeholder": "​",
      "style": "IPY_MODEL_cbc8617ae613487393e2dab554ed1fd3",
      "value": "Map (num_proc=2): 100%"
     }
    },
    "2a62ed002c9441e28cee7328d7e736d6": {
     "model_module": "@jupyter-widgets/controls",
     "model_name": "FloatProgressModel",
     "model_module_version": "1.5.0",
     "state": {
      "_dom_classes": [],
      "_model_module": "@jupyter-widgets/controls",
      "_model_module_version": "1.5.0",
      "_model_name": "FloatProgressModel",
      "_view_count": null,
      "_view_module": "@jupyter-widgets/controls",
      "_view_module_version": "1.5.0",
      "_view_name": "ProgressView",
      "bar_style": "success",
      "description": "",
      "description_tooltip": null,
      "layout": "IPY_MODEL_5f763caeb3a445d6854d34f161d8e472",
      "max": 10000,
      "min": 0,
      "orientation": "horizontal",
      "style": "IPY_MODEL_3c0e910d2530418396c944b055fe7a2c",
      "value": 10000
     }
    },
    "545f8ef52ee34052a8c55927948faed4": {
     "model_module": "@jupyter-widgets/controls",
     "model_name": "HTMLModel",
     "model_module_version": "1.5.0",
     "state": {
      "_dom_classes": [],
      "_model_module": "@jupyter-widgets/controls",
      "_model_module_version": "1.5.0",
      "_model_name": "HTMLModel",
      "_view_count": null,
      "_view_module": "@jupyter-widgets/controls",
      "_view_module_version": "1.5.0",
      "_view_name": "HTMLView",
      "description": "",
      "description_tooltip": null,
      "layout": "IPY_MODEL_a56d96feb96f4c9b80e2b9d859c0bf0d",
      "placeholder": "​",
      "style": "IPY_MODEL_3db2e49278654ecca8b4cb367ef1f71e",
      "value": " 10000/10000 [19:21&lt;00:00,  3.13s/ examples]"
     }
    },
    "fbdb9243c8d6448a9a74d745e42a0108": {
     "model_module": "@jupyter-widgets/base",
     "model_name": "LayoutModel",
     "model_module_version": "1.2.0",
     "state": {
      "_model_module": "@jupyter-widgets/base",
      "_model_module_version": "1.2.0",
      "_model_name": "LayoutModel",
      "_view_count": null,
      "_view_module": "@jupyter-widgets/base",
      "_view_module_version": "1.2.0",
      "_view_name": "LayoutView",
      "align_content": null,
      "align_items": null,
      "align_self": null,
      "border": null,
      "bottom": null,
      "display": null,
      "flex": null,
      "flex_flow": null,
      "grid_area": null,
      "grid_auto_columns": null,
      "grid_auto_flow": null,
      "grid_auto_rows": null,
      "grid_column": null,
      "grid_gap": null,
      "grid_row": null,
      "grid_template_areas": null,
      "grid_template_columns": null,
      "grid_template_rows": null,
      "height": null,
      "justify_content": null,
      "justify_items": null,
      "left": null,
      "margin": null,
      "max_height": null,
      "max_width": null,
      "min_height": null,
      "min_width": null,
      "object_fit": null,
      "object_position": null,
      "order": null,
      "overflow": null,
      "overflow_x": null,
      "overflow_y": null,
      "padding": null,
      "right": null,
      "top": null,
      "visibility": null,
      "width": null
     }
    },
    "8fd0f6396a794712b2edb1421b0a7a04": {
     "model_module": "@jupyter-widgets/base",
     "model_name": "LayoutModel",
     "model_module_version": "1.2.0",
     "state": {
      "_model_module": "@jupyter-widgets/base",
      "_model_module_version": "1.2.0",
      "_model_name": "LayoutModel",
      "_view_count": null,
      "_view_module": "@jupyter-widgets/base",
      "_view_module_version": "1.2.0",
      "_view_name": "LayoutView",
      "align_content": null,
      "align_items": null,
      "align_self": null,
      "border": null,
      "bottom": null,
      "display": null,
      "flex": null,
      "flex_flow": null,
      "grid_area": null,
      "grid_auto_columns": null,
      "grid_auto_flow": null,
      "grid_auto_rows": null,
      "grid_column": null,
      "grid_gap": null,
      "grid_row": null,
      "grid_template_areas": null,
      "grid_template_columns": null,
      "grid_template_rows": null,
      "height": null,
      "justify_content": null,
      "justify_items": null,
      "left": null,
      "margin": null,
      "max_height": null,
      "max_width": null,
      "min_height": null,
      "min_width": null,
      "object_fit": null,
      "object_position": null,
      "order": null,
      "overflow": null,
      "overflow_x": null,
      "overflow_y": null,
      "padding": null,
      "right": null,
      "top": null,
      "visibility": null,
      "width": null
     }
    },
    "cbc8617ae613487393e2dab554ed1fd3": {
     "model_module": "@jupyter-widgets/controls",
     "model_name": "DescriptionStyleModel",
     "model_module_version": "1.5.0",
     "state": {
      "_model_module": "@jupyter-widgets/controls",
      "_model_module_version": "1.5.0",
      "_model_name": "DescriptionStyleModel",
      "_view_count": null,
      "_view_module": "@jupyter-widgets/base",
      "_view_module_version": "1.2.0",
      "_view_name": "StyleView",
      "description_width": ""
     }
    },
    "5f763caeb3a445d6854d34f161d8e472": {
     "model_module": "@jupyter-widgets/base",
     "model_name": "LayoutModel",
     "model_module_version": "1.2.0",
     "state": {
      "_model_module": "@jupyter-widgets/base",
      "_model_module_version": "1.2.0",
      "_model_name": "LayoutModel",
      "_view_count": null,
      "_view_module": "@jupyter-widgets/base",
      "_view_module_version": "1.2.0",
      "_view_name": "LayoutView",
      "align_content": null,
      "align_items": null,
      "align_self": null,
      "border": null,
      "bottom": null,
      "display": null,
      "flex": null,
      "flex_flow": null,
      "grid_area": null,
      "grid_auto_columns": null,
      "grid_auto_flow": null,
      "grid_auto_rows": null,
      "grid_column": null,
      "grid_gap": null,
      "grid_row": null,
      "grid_template_areas": null,
      "grid_template_columns": null,
      "grid_template_rows": null,
      "height": null,
      "justify_content": null,
      "justify_items": null,
      "left": null,
      "margin": null,
      "max_height": null,
      "max_width": null,
      "min_height": null,
      "min_width": null,
      "object_fit": null,
      "object_position": null,
      "order": null,
      "overflow": null,
      "overflow_x": null,
      "overflow_y": null,
      "padding": null,
      "right": null,
      "top": null,
      "visibility": null,
      "width": null
     }
    },
    "3c0e910d2530418396c944b055fe7a2c": {
     "model_module": "@jupyter-widgets/controls",
     "model_name": "ProgressStyleModel",
     "model_module_version": "1.5.0",
     "state": {
      "_model_module": "@jupyter-widgets/controls",
      "_model_module_version": "1.5.0",
      "_model_name": "ProgressStyleModel",
      "_view_count": null,
      "_view_module": "@jupyter-widgets/base",
      "_view_module_version": "1.2.0",
      "_view_name": "StyleView",
      "bar_color": null,
      "description_width": ""
     }
    },
    "a56d96feb96f4c9b80e2b9d859c0bf0d": {
     "model_module": "@jupyter-widgets/base",
     "model_name": "LayoutModel",
     "model_module_version": "1.2.0",
     "state": {
      "_model_module": "@jupyter-widgets/base",
      "_model_module_version": "1.2.0",
      "_model_name": "LayoutModel",
      "_view_count": null,
      "_view_module": "@jupyter-widgets/base",
      "_view_module_version": "1.2.0",
      "_view_name": "LayoutView",
      "align_content": null,
      "align_items": null,
      "align_self": null,
      "border": null,
      "bottom": null,
      "display": null,
      "flex": null,
      "flex_flow": null,
      "grid_area": null,
      "grid_auto_columns": null,
      "grid_auto_flow": null,
      "grid_auto_rows": null,
      "grid_column": null,
      "grid_gap": null,
      "grid_row": null,
      "grid_template_areas": null,
      "grid_template_columns": null,
      "grid_template_rows": null,
      "height": null,
      "justify_content": null,
      "justify_items": null,
      "left": null,
      "margin": null,
      "max_height": null,
      "max_width": null,
      "min_height": null,
      "min_width": null,
      "object_fit": null,
      "object_position": null,
      "order": null,
      "overflow": null,
      "overflow_x": null,
      "overflow_y": null,
      "padding": null,
      "right": null,
      "top": null,
      "visibility": null,
      "width": null
     }
    },
    "3db2e49278654ecca8b4cb367ef1f71e": {
     "model_module": "@jupyter-widgets/controls",
     "model_name": "DescriptionStyleModel",
     "model_module_version": "1.5.0",
     "state": {
      "_model_module": "@jupyter-widgets/controls",
      "_model_module_version": "1.5.0",
      "_model_name": "DescriptionStyleModel",
      "_view_count": null,
      "_view_module": "@jupyter-widgets/base",
      "_view_module_version": "1.2.0",
      "_view_name": "StyleView",
      "description_width": ""
     }
    }
   }
  }
 },
 "nbformat": 4,
 "nbformat_minor": 5
}
