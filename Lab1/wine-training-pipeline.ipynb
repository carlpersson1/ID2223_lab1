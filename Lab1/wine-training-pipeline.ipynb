{
 "cells": [
  {
   "cell_type": "code",
   "execution_count": 1,
   "id": "063d9a22",
   "metadata": {
    "ExecuteTime": {
     "start_time": "2023-11-15T23:01:50.872428Z",
     "end_time": "2023-11-15T23:01:54.568702Z"
    }
   },
   "outputs": [
    {
     "name": "stdout",
     "output_type": "stream",
     "text": [
      "2023-11-15 23:01:54,433 WARNING: From C:\\Users\\carl\\PycharmProjects\\ID2223_lab1\\venv\\Lib\\site-packages\\keras\\src\\losses.py:2976: The name tf.losses.sparse_softmax_cross_entropy is deprecated. Please use tf.compat.v1.losses.sparse_softmax_cross_entropy instead.\n",
      "\n"
     ]
    }
   ],
   "source": [
    "import hopsworks\n",
    "import pandas as pd\n",
    "from sklearn.neighbors import KNeighborsClassifier\n",
    "from sklearn.metrics import accuracy_score\n",
    "from sklearn.metrics import confusion_matrix\n",
    "from sklearn.metrics import classification_report\n",
    "import seaborn as sns\n",
    "from matplotlib import pyplot\n",
    "from hsml.schema import Schema\n",
    "from hsml.model_schema import ModelSchema\n",
    "import numpy as np\n",
    "import joblib\n",
    "from sklearn.utils import class_weight\n",
    "import keras\n",
    "import os"
   ]
  },
  {
   "cell_type": "code",
   "execution_count": 4,
   "id": "5ce90341",
   "metadata": {
    "ExecuteTime": {
     "start_time": "2023-11-15T23:02:07.630634Z",
     "end_time": "2023-11-15T23:02:09.085043Z"
    }
   },
   "outputs": [
    {
     "name": "stdout",
     "output_type": "stream",
     "text": [
      "Connected. Call `.close()` to terminate connection gracefully.\n",
      "\n",
      "Logged in to project, explore it here https://c.app.hopsworks.ai:443/p/191638\n",
      "Connected. Call `.close()` to terminate connection gracefully.\n"
     ]
    }
   ],
   "source": [
    "# You have to set the environment variable 'HOPSWORKS_API_KEY' for login to succeed\n",
    "project = hopsworks.login()\n",
    "fs = project.get_feature_store()"
   ]
  },
  {
   "cell_type": "code",
   "execution_count": 5,
   "id": "359ed7b3",
   "metadata": {
    "ExecuteTime": {
     "start_time": "2023-11-15T23:02:09.085043Z",
     "end_time": "2023-11-15T23:02:15.195869Z"
    }
   },
   "outputs": [
    {
     "name": "stdout",
     "output_type": "stream",
     "text": [
      "Finished: Reading data from Hopsworks, using ArrowFlight (1.05s) \n"
     ]
    },
    {
     "name": "stderr",
     "output_type": "stream",
     "text": [
      "VersionWarning: Incremented version to `13`.\n"
     ]
    }
   ],
   "source": [
    "# The feature view is the input set of features for your model. The features can come from different feature groups.    \n",
    "# You can select features from different feature groups and join them together to create a feature view\n",
    "wine_fg = fs.get_feature_group(name=\"wine\", version=1)\n",
    "query = wine_fg.select_all()\n",
    "feature_view = fs.get_or_create_feature_view(name=\"wine\",\n",
    "                                  version=1,\n",
    "                                  description=\"Read from Wine quality dataset\",\n",
    "                                  labels=[\"quality\"],\n",
    "                                  query=query)\n",
    "# You can read training data, randomly split into train/test sets of features (X) and labels (y)\n",
    "X_train, X_test, y_train, y_test = feature_view.train_test_split(0.1)"
   ]
  },
  {
   "cell_type": "code",
   "execution_count": 6,
   "id": "42fbcfd3",
   "metadata": {
    "ExecuteTime": {
     "start_time": "2023-11-15T22:50:33.414047Z",
     "end_time": "2023-11-15T22:50:34.426976Z"
    }
   },
   "outputs": [],
   "source": [
    "n_input = 7 # Number of features\n",
    "n_hidden = 256  # Number of hidden nodes\n",
    "n_out = 3 # Number of classes\n",
    "\n",
    "# Train our model with the Scikit-learn K-nearest-neighbors algorithm using our features (X_train) and labels (y_train)\n",
    "model = keras.Sequential([\n",
    "    keras.layers.Dense(n_hidden, input_dim=n_input, activation='selu'),\n",
    "    keras.layers.BatchNormalization(),\n",
    "    keras.layers.Dense(n_hidden, activation='selu'),\n",
    "    keras.layers.BatchNormalization(),\n",
    "    keras.layers.Dense(n_hidden, activation='selu'),\n",
    "    keras.layers.BatchNormalization(),\n",
    "    keras.layers.Dense(n_hidden, activation='selu'),\n",
    "    keras.layers.BatchNormalization(),\n",
    "    keras.layers.Dense(n_hidden, activation='selu'),\n",
    "    keras.layers.Dense(n_out, activation='softmax')\n",
    "])\n",
    "class_weights = class_weight.compute_class_weight(class_weight='balanced',\n",
    "                                                 classes=np.unique(y_train['quality']),\n",
    "                                                 y=y_train['quality'])\n",
    "print(class_weights)\n",
    "model.compile(loss='sparse_categorical_crossentropy', optimizer=keras.optimizers.Adam(learning_rate=0.00025), metrics=['accuracy'])\n",
    "model.fit(X_train, y_train, validation_data=(X_test, y_test), epochs=150, class_weight=dict(zip(np.unique(y_train['quality']), class_weights)), batch_size=256)"
   ]
  },
  {
   "cell_type": "code",
   "execution_count": 18,
   "id": "78142fce",
   "metadata": {
    "ExecuteTime": {
     "start_time": "2023-11-15T23:03:20.309644Z",
     "end_time": "2023-11-15T23:03:32.114587Z"
    }
   },
   "outputs": [
    {
     "name": "stdout",
     "output_type": "stream",
     "text": [
      "[0.89001502 0.76471537 1.75824991]\n",
      "Epoch 1/150\n",
      "10/10 [==============================] - 1s 19ms/step - loss: 1.0258 - accuracy: 0.4639 - val_loss: 1.4220 - val_accuracy: 0.3700\n",
      "Epoch 2/150\n",
      "10/10 [==============================] - 0s 7ms/step - loss: 0.9239 - accuracy: 0.5186 - val_loss: 1.3948 - val_accuracy: 0.3909\n",
      "Epoch 3/150\n",
      "10/10 [==============================] - 0s 7ms/step - loss: 0.9125 - accuracy: 0.5331 - val_loss: 1.3049 - val_accuracy: 0.3814\n",
      "Epoch 4/150\n",
      "10/10 [==============================] - 0s 7ms/step - loss: 0.9031 - accuracy: 0.5209 - val_loss: 1.3296 - val_accuracy: 0.3624\n",
      "Epoch 5/150\n",
      "10/10 [==============================] - 0s 7ms/step - loss: 0.8745 - accuracy: 0.5356 - val_loss: 1.3199 - val_accuracy: 0.3681\n",
      "Epoch 6/150\n",
      "10/10 [==============================] - 0s 7ms/step - loss: 0.8808 - accuracy: 0.5236 - val_loss: 1.2716 - val_accuracy: 0.3757\n",
      "Epoch 7/150\n",
      "10/10 [==============================] - 0s 7ms/step - loss: 0.8707 - accuracy: 0.5456 - val_loss: 1.3185 - val_accuracy: 0.3776\n",
      "Epoch 8/150\n",
      "10/10 [==============================] - 0s 7ms/step - loss: 0.8751 - accuracy: 0.5392 - val_loss: 1.2421 - val_accuracy: 0.4194\n",
      "Epoch 9/150\n",
      "10/10 [==============================] - 0s 7ms/step - loss: 0.8682 - accuracy: 0.5382 - val_loss: 1.2256 - val_accuracy: 0.4042\n",
      "Epoch 10/150\n",
      "10/10 [==============================] - 0s 7ms/step - loss: 0.8719 - accuracy: 0.5352 - val_loss: 1.2405 - val_accuracy: 0.3947\n",
      "Epoch 11/150\n",
      "10/10 [==============================] - 0s 7ms/step - loss: 0.8732 - accuracy: 0.5407 - val_loss: 1.2210 - val_accuracy: 0.3852\n",
      "Epoch 12/150\n",
      "10/10 [==============================] - 0s 7ms/step - loss: 0.8718 - accuracy: 0.5458 - val_loss: 1.1667 - val_accuracy: 0.4194\n",
      "Epoch 13/150\n",
      "10/10 [==============================] - 0s 7ms/step - loss: 0.8737 - accuracy: 0.5430 - val_loss: 1.2450 - val_accuracy: 0.3757\n",
      "Epoch 14/150\n",
      "10/10 [==============================] - 0s 7ms/step - loss: 0.8667 - accuracy: 0.5460 - val_loss: 1.1970 - val_accuracy: 0.4402\n",
      "Epoch 15/150\n",
      "10/10 [==============================] - 0s 7ms/step - loss: 0.8619 - accuracy: 0.5508 - val_loss: 1.1651 - val_accuracy: 0.4250\n",
      "Epoch 16/150\n",
      "10/10 [==============================] - 0s 7ms/step - loss: 0.8628 - accuracy: 0.5413 - val_loss: 1.1293 - val_accuracy: 0.4611\n",
      "Epoch 17/150\n",
      "10/10 [==============================] - 0s 7ms/step - loss: 0.8581 - accuracy: 0.5555 - val_loss: 1.1971 - val_accuracy: 0.4175\n",
      "Epoch 18/150\n",
      "10/10 [==============================] - 0s 7ms/step - loss: 0.8599 - accuracy: 0.5434 - val_loss: 1.1683 - val_accuracy: 0.3852\n",
      "Epoch 19/150\n",
      "10/10 [==============================] - 0s 7ms/step - loss: 0.8584 - accuracy: 0.5445 - val_loss: 1.1793 - val_accuracy: 0.3833\n",
      "Epoch 20/150\n",
      "10/10 [==============================] - 0s 7ms/step - loss: 0.8526 - accuracy: 0.5415 - val_loss: 1.2085 - val_accuracy: 0.3871\n",
      "Epoch 21/150\n",
      "10/10 [==============================] - 0s 7ms/step - loss: 0.8506 - accuracy: 0.5458 - val_loss: 1.1311 - val_accuracy: 0.3890\n",
      "Epoch 22/150\n",
      "10/10 [==============================] - 0s 7ms/step - loss: 0.8496 - accuracy: 0.5622 - val_loss: 1.1222 - val_accuracy: 0.4421\n",
      "Epoch 23/150\n",
      "10/10 [==============================] - 0s 7ms/step - loss: 0.8475 - accuracy: 0.5451 - val_loss: 1.1678 - val_accuracy: 0.4288\n",
      "Epoch 24/150\n",
      "10/10 [==============================] - 0s 7ms/step - loss: 0.8545 - accuracy: 0.5506 - val_loss: 1.1595 - val_accuracy: 0.3814\n",
      "Epoch 25/150\n",
      "10/10 [==============================] - 0s 7ms/step - loss: 0.8578 - accuracy: 0.5580 - val_loss: 1.1339 - val_accuracy: 0.3624\n",
      "Epoch 26/150\n",
      "10/10 [==============================] - 0s 7ms/step - loss: 0.8450 - accuracy: 0.5439 - val_loss: 1.1398 - val_accuracy: 0.3852\n",
      "Epoch 27/150\n",
      "10/10 [==============================] - 0s 7ms/step - loss: 0.8473 - accuracy: 0.5430 - val_loss: 1.1128 - val_accuracy: 0.4099\n",
      "Epoch 28/150\n",
      "10/10 [==============================] - 0s 8ms/step - loss: 0.8456 - accuracy: 0.5645 - val_loss: 1.0906 - val_accuracy: 0.4004\n",
      "Epoch 29/150\n",
      "10/10 [==============================] - 0s 7ms/step - loss: 0.8482 - accuracy: 0.5517 - val_loss: 1.1427 - val_accuracy: 0.3928\n",
      "Epoch 30/150\n",
      "10/10 [==============================] - 0s 7ms/step - loss: 0.8628 - accuracy: 0.5415 - val_loss: 1.0944 - val_accuracy: 0.4004\n",
      "Epoch 31/150\n",
      "10/10 [==============================] - 0s 7ms/step - loss: 0.8489 - accuracy: 0.5489 - val_loss: 1.0809 - val_accuracy: 0.4213\n",
      "Epoch 32/150\n",
      "10/10 [==============================] - 0s 7ms/step - loss: 0.8478 - accuracy: 0.5517 - val_loss: 1.0595 - val_accuracy: 0.4345\n",
      "Epoch 33/150\n",
      "10/10 [==============================] - 0s 7ms/step - loss: 0.8429 - accuracy: 0.5466 - val_loss: 1.1199 - val_accuracy: 0.4156\n",
      "Epoch 34/150\n",
      "10/10 [==============================] - 0s 7ms/step - loss: 0.8507 - accuracy: 0.5449 - val_loss: 1.0549 - val_accuracy: 0.4213\n",
      "Epoch 35/150\n",
      "10/10 [==============================] - 0s 7ms/step - loss: 0.8494 - accuracy: 0.5434 - val_loss: 1.0540 - val_accuracy: 0.4042\n",
      "Epoch 36/150\n",
      "10/10 [==============================] - 0s 7ms/step - loss: 0.8497 - accuracy: 0.5510 - val_loss: 1.0396 - val_accuracy: 0.4421\n",
      "Epoch 37/150\n",
      "10/10 [==============================] - 0s 7ms/step - loss: 0.8460 - accuracy: 0.5548 - val_loss: 1.0442 - val_accuracy: 0.4364\n",
      "Epoch 38/150\n",
      "10/10 [==============================] - 0s 7ms/step - loss: 0.8405 - accuracy: 0.5605 - val_loss: 1.0909 - val_accuracy: 0.4345\n",
      "Epoch 39/150\n",
      "10/10 [==============================] - 0s 7ms/step - loss: 0.8396 - accuracy: 0.5612 - val_loss: 1.0394 - val_accuracy: 0.4345\n",
      "Epoch 40/150\n",
      "10/10 [==============================] - 0s 7ms/step - loss: 0.8373 - accuracy: 0.5550 - val_loss: 0.9766 - val_accuracy: 0.4554\n",
      "Epoch 41/150\n",
      "10/10 [==============================] - 0s 7ms/step - loss: 0.8515 - accuracy: 0.5510 - val_loss: 1.0153 - val_accuracy: 0.4535\n",
      "Epoch 42/150\n",
      "10/10 [==============================] - 0s 7ms/step - loss: 0.8426 - accuracy: 0.5536 - val_loss: 1.0044 - val_accuracy: 0.4421\n",
      "Epoch 43/150\n",
      "10/10 [==============================] - 0s 7ms/step - loss: 0.8383 - accuracy: 0.5512 - val_loss: 1.0107 - val_accuracy: 0.4497\n",
      "Epoch 44/150\n",
      "10/10 [==============================] - 0s 7ms/step - loss: 0.8470 - accuracy: 0.5445 - val_loss: 1.0295 - val_accuracy: 0.4099\n",
      "Epoch 45/150\n",
      "10/10 [==============================] - 0s 7ms/step - loss: 0.8426 - accuracy: 0.5582 - val_loss: 1.0248 - val_accuracy: 0.4345\n",
      "Epoch 46/150\n",
      "10/10 [==============================] - 0s 7ms/step - loss: 0.8505 - accuracy: 0.5529 - val_loss: 0.9582 - val_accuracy: 0.4858\n",
      "Epoch 47/150\n",
      "10/10 [==============================] - 0s 7ms/step - loss: 0.8390 - accuracy: 0.5481 - val_loss: 0.9829 - val_accuracy: 0.4630\n",
      "Epoch 48/150\n",
      "10/10 [==============================] - 0s 7ms/step - loss: 0.8362 - accuracy: 0.5631 - val_loss: 1.0127 - val_accuracy: 0.4459\n",
      "Epoch 49/150\n",
      "10/10 [==============================] - 0s 7ms/step - loss: 0.8316 - accuracy: 0.5517 - val_loss: 1.0246 - val_accuracy: 0.4307\n",
      "Epoch 50/150\n",
      "10/10 [==============================] - 0s 7ms/step - loss: 0.8352 - accuracy: 0.5557 - val_loss: 0.9807 - val_accuracy: 0.4592\n",
      "Epoch 51/150\n",
      "10/10 [==============================] - 0s 7ms/step - loss: 0.8381 - accuracy: 0.5620 - val_loss: 0.9783 - val_accuracy: 0.4687\n",
      "Epoch 52/150\n",
      "10/10 [==============================] - 0s 7ms/step - loss: 0.8343 - accuracy: 0.5555 - val_loss: 0.9579 - val_accuracy: 0.4915\n",
      "Epoch 53/150\n",
      "10/10 [==============================] - 0s 7ms/step - loss: 0.8328 - accuracy: 0.5599 - val_loss: 1.0600 - val_accuracy: 0.4175\n",
      "Epoch 54/150\n",
      "10/10 [==============================] - 0s 7ms/step - loss: 0.8468 - accuracy: 0.5500 - val_loss: 0.9817 - val_accuracy: 0.4687\n",
      "Epoch 55/150\n",
      "10/10 [==============================] - 0s 7ms/step - loss: 0.8521 - accuracy: 0.5586 - val_loss: 1.0044 - val_accuracy: 0.4991\n",
      "Epoch 56/150\n",
      "10/10 [==============================] - 0s 7ms/step - loss: 0.8424 - accuracy: 0.5593 - val_loss: 1.0599 - val_accuracy: 0.4080\n",
      "Epoch 57/150\n",
      "10/10 [==============================] - 0s 7ms/step - loss: 0.8392 - accuracy: 0.5428 - val_loss: 0.9626 - val_accuracy: 0.5180\n",
      "Epoch 58/150\n",
      "10/10 [==============================] - 0s 7ms/step - loss: 0.8364 - accuracy: 0.5584 - val_loss: 0.9400 - val_accuracy: 0.5180\n",
      "Epoch 59/150\n",
      "10/10 [==============================] - 0s 7ms/step - loss: 0.8501 - accuracy: 0.5519 - val_loss: 1.0528 - val_accuracy: 0.4402\n",
      "Epoch 60/150\n",
      "10/10 [==============================] - 0s 7ms/step - loss: 0.8392 - accuracy: 0.5624 - val_loss: 0.9085 - val_accuracy: 0.5104\n",
      "Epoch 61/150\n",
      "10/10 [==============================] - 0s 7ms/step - loss: 0.8303 - accuracy: 0.5698 - val_loss: 0.9663 - val_accuracy: 0.4877\n",
      "Epoch 62/150\n",
      "10/10 [==============================] - 0s 7ms/step - loss: 0.8303 - accuracy: 0.5574 - val_loss: 0.9589 - val_accuracy: 0.5009\n",
      "Epoch 63/150\n",
      "10/10 [==============================] - 0s 7ms/step - loss: 0.8308 - accuracy: 0.5561 - val_loss: 1.0967 - val_accuracy: 0.4004\n",
      "Epoch 64/150\n",
      "10/10 [==============================] - 0s 7ms/step - loss: 0.8301 - accuracy: 0.5618 - val_loss: 0.9439 - val_accuracy: 0.5142\n",
      "Epoch 65/150\n",
      "10/10 [==============================] - 0s 7ms/step - loss: 0.8295 - accuracy: 0.5666 - val_loss: 0.9011 - val_accuracy: 0.5332\n",
      "Epoch 66/150\n",
      "10/10 [==============================] - 0s 7ms/step - loss: 0.8349 - accuracy: 0.5612 - val_loss: 1.0952 - val_accuracy: 0.4137\n",
      "Epoch 67/150\n",
      "10/10 [==============================] - 0s 7ms/step - loss: 0.8347 - accuracy: 0.5468 - val_loss: 0.9027 - val_accuracy: 0.5294\n",
      "Epoch 68/150\n",
      "10/10 [==============================] - 0s 7ms/step - loss: 0.8262 - accuracy: 0.5675 - val_loss: 0.8961 - val_accuracy: 0.5560\n",
      "Epoch 69/150\n",
      "10/10 [==============================] - 0s 7ms/step - loss: 0.8322 - accuracy: 0.5609 - val_loss: 0.9363 - val_accuracy: 0.5313\n",
      "Epoch 70/150\n",
      "10/10 [==============================] - 0s 7ms/step - loss: 0.8457 - accuracy: 0.5527 - val_loss: 0.9144 - val_accuracy: 0.5313\n",
      "Epoch 71/150\n",
      "10/10 [==============================] - 0s 7ms/step - loss: 0.8420 - accuracy: 0.5481 - val_loss: 0.9626 - val_accuracy: 0.4877\n",
      "Epoch 72/150\n",
      "10/10 [==============================] - 0s 7ms/step - loss: 0.8406 - accuracy: 0.5517 - val_loss: 0.9066 - val_accuracy: 0.5351\n",
      "Epoch 73/150\n",
      "10/10 [==============================] - 0s 7ms/step - loss: 0.8371 - accuracy: 0.5485 - val_loss: 0.9741 - val_accuracy: 0.5389\n",
      "Epoch 74/150\n",
      "10/10 [==============================] - 0s 7ms/step - loss: 0.8374 - accuracy: 0.5622 - val_loss: 0.8750 - val_accuracy: 0.5636\n",
      "Epoch 75/150\n",
      "10/10 [==============================] - 0s 7ms/step - loss: 0.8239 - accuracy: 0.5550 - val_loss: 0.8989 - val_accuracy: 0.5408\n",
      "Epoch 76/150\n",
      "10/10 [==============================] - 0s 7ms/step - loss: 0.8297 - accuracy: 0.5582 - val_loss: 0.8953 - val_accuracy: 0.5408\n",
      "Epoch 77/150\n",
      "10/10 [==============================] - 0s 7ms/step - loss: 0.8291 - accuracy: 0.5569 - val_loss: 0.9054 - val_accuracy: 0.5218\n",
      "Epoch 78/150\n",
      "10/10 [==============================] - 0s 7ms/step - loss: 0.8313 - accuracy: 0.5605 - val_loss: 1.0456 - val_accuracy: 0.4345\n",
      "Epoch 79/150\n",
      "10/10 [==============================] - 0s 7ms/step - loss: 0.8331 - accuracy: 0.5553 - val_loss: 0.9146 - val_accuracy: 0.5218\n",
      "Epoch 80/150\n",
      "10/10 [==============================] - 0s 7ms/step - loss: 0.8328 - accuracy: 0.5616 - val_loss: 0.8968 - val_accuracy: 0.5408\n",
      "Epoch 81/150\n",
      "10/10 [==============================] - 0s 7ms/step - loss: 0.8273 - accuracy: 0.5550 - val_loss: 0.9825 - val_accuracy: 0.4668\n",
      "Epoch 82/150\n",
      "10/10 [==============================] - 0s 7ms/step - loss: 0.8390 - accuracy: 0.5584 - val_loss: 0.8779 - val_accuracy: 0.5522\n",
      "Epoch 83/150\n",
      "10/10 [==============================] - 0s 7ms/step - loss: 0.8290 - accuracy: 0.5590 - val_loss: 1.0047 - val_accuracy: 0.4516\n",
      "Epoch 84/150\n",
      "10/10 [==============================] - 0s 7ms/step - loss: 0.8255 - accuracy: 0.5641 - val_loss: 0.8875 - val_accuracy: 0.5351\n",
      "Epoch 85/150\n",
      "10/10 [==============================] - 0s 7ms/step - loss: 0.8227 - accuracy: 0.5652 - val_loss: 0.8883 - val_accuracy: 0.5389\n",
      "Epoch 86/150\n",
      "10/10 [==============================] - 0s 7ms/step - loss: 0.8239 - accuracy: 0.5538 - val_loss: 0.8783 - val_accuracy: 0.5465\n",
      "Epoch 87/150\n",
      "10/10 [==============================] - 0s 7ms/step - loss: 0.8304 - accuracy: 0.5534 - val_loss: 0.8793 - val_accuracy: 0.5389\n",
      "Epoch 88/150\n",
      "10/10 [==============================] - 0s 7ms/step - loss: 0.8278 - accuracy: 0.5559 - val_loss: 0.9614 - val_accuracy: 0.5047\n",
      "Epoch 89/150\n",
      "10/10 [==============================] - 0s 7ms/step - loss: 0.8312 - accuracy: 0.5656 - val_loss: 0.9150 - val_accuracy: 0.5085\n",
      "Epoch 90/150\n",
      "10/10 [==============================] - 0s 7ms/step - loss: 0.8183 - accuracy: 0.5584 - val_loss: 0.8783 - val_accuracy: 0.5484\n",
      "Epoch 91/150\n",
      "10/10 [==============================] - 0s 7ms/step - loss: 0.8243 - accuracy: 0.5656 - val_loss: 0.9296 - val_accuracy: 0.5104\n",
      "Epoch 92/150\n",
      "10/10 [==============================] - 0s 7ms/step - loss: 0.8369 - accuracy: 0.5424 - val_loss: 0.9242 - val_accuracy: 0.5256\n",
      "Epoch 93/150\n",
      "10/10 [==============================] - 0s 7ms/step - loss: 0.8401 - accuracy: 0.5508 - val_loss: 0.9457 - val_accuracy: 0.4706\n",
      "Epoch 94/150\n",
      "10/10 [==============================] - 0s 7ms/step - loss: 0.8453 - accuracy: 0.5616 - val_loss: 0.8979 - val_accuracy: 0.5237\n",
      "Epoch 95/150\n",
      "10/10 [==============================] - 0s 7ms/step - loss: 0.8305 - accuracy: 0.5523 - val_loss: 0.9239 - val_accuracy: 0.5047\n",
      "Epoch 96/150\n",
      "10/10 [==============================] - 0s 7ms/step - loss: 0.8146 - accuracy: 0.5681 - val_loss: 0.9554 - val_accuracy: 0.4934\n",
      "Epoch 97/150\n",
      "10/10 [==============================] - 0s 7ms/step - loss: 0.8205 - accuracy: 0.5738 - val_loss: 0.9511 - val_accuracy: 0.5180\n",
      "Epoch 98/150\n",
      "10/10 [==============================] - 0s 7ms/step - loss: 0.8211 - accuracy: 0.5626 - val_loss: 0.9253 - val_accuracy: 0.5218\n",
      "Epoch 99/150\n",
      "10/10 [==============================] - 0s 7ms/step - loss: 0.8271 - accuracy: 0.5740 - val_loss: 0.9286 - val_accuracy: 0.4991\n",
      "Epoch 100/150\n",
      "10/10 [==============================] - 0s 7ms/step - loss: 0.8194 - accuracy: 0.5664 - val_loss: 0.8946 - val_accuracy: 0.5332\n",
      "Epoch 101/150\n",
      "10/10 [==============================] - 0s 7ms/step - loss: 0.8294 - accuracy: 0.5683 - val_loss: 0.8987 - val_accuracy: 0.5427\n",
      "Epoch 102/150\n",
      "10/10 [==============================] - 0s 8ms/step - loss: 0.8305 - accuracy: 0.5595 - val_loss: 0.9809 - val_accuracy: 0.4953\n",
      "Epoch 103/150\n",
      "10/10 [==============================] - 0s 7ms/step - loss: 0.8319 - accuracy: 0.5542 - val_loss: 0.8947 - val_accuracy: 0.5427\n",
      "Epoch 104/150\n",
      "10/10 [==============================] - 0s 7ms/step - loss: 0.8291 - accuracy: 0.5660 - val_loss: 0.9293 - val_accuracy: 0.5199\n",
      "Epoch 105/150\n",
      "10/10 [==============================] - 0s 7ms/step - loss: 0.8307 - accuracy: 0.5728 - val_loss: 1.0016 - val_accuracy: 0.5066\n",
      "Epoch 106/150\n",
      "10/10 [==============================] - 0s 7ms/step - loss: 0.8290 - accuracy: 0.5451 - val_loss: 0.8861 - val_accuracy: 0.5522\n",
      "Epoch 107/150\n",
      "10/10 [==============================] - 0s 7ms/step - loss: 0.8260 - accuracy: 0.5694 - val_loss: 0.9401 - val_accuracy: 0.5123\n",
      "Epoch 108/150\n",
      "10/10 [==============================] - 0s 7ms/step - loss: 0.8248 - accuracy: 0.5664 - val_loss: 0.8629 - val_accuracy: 0.5579\n",
      "Epoch 109/150\n",
      "10/10 [==============================] - 0s 7ms/step - loss: 0.8174 - accuracy: 0.5681 - val_loss: 0.9266 - val_accuracy: 0.4934\n",
      "Epoch 110/150\n",
      "10/10 [==============================] - 0s 7ms/step - loss: 0.8169 - accuracy: 0.5620 - val_loss: 0.9926 - val_accuracy: 0.4535\n",
      "Epoch 111/150\n",
      "10/10 [==============================] - 0s 7ms/step - loss: 0.8111 - accuracy: 0.5791 - val_loss: 0.9711 - val_accuracy: 0.4858\n",
      "Epoch 112/150\n",
      "10/10 [==============================] - 0s 8ms/step - loss: 0.8165 - accuracy: 0.5685 - val_loss: 0.9464 - val_accuracy: 0.4972\n",
      "Epoch 113/150\n",
      "10/10 [==============================] - 0s 7ms/step - loss: 0.8152 - accuracy: 0.5700 - val_loss: 0.9851 - val_accuracy: 0.4896\n",
      "Epoch 114/150\n",
      "10/10 [==============================] - 0s 7ms/step - loss: 0.8182 - accuracy: 0.5679 - val_loss: 0.8836 - val_accuracy: 0.5617\n",
      "Epoch 115/150\n",
      "10/10 [==============================] - 0s 7ms/step - loss: 0.8119 - accuracy: 0.5711 - val_loss: 0.8904 - val_accuracy: 0.5541\n",
      "Epoch 116/150\n",
      "10/10 [==============================] - 0s 7ms/step - loss: 0.8173 - accuracy: 0.5555 - val_loss: 0.8950 - val_accuracy: 0.5180\n",
      "Epoch 117/150\n",
      "10/10 [==============================] - 0s 7ms/step - loss: 0.8188 - accuracy: 0.5673 - val_loss: 0.8977 - val_accuracy: 0.5389\n",
      "Epoch 118/150\n",
      "10/10 [==============================] - 0s 7ms/step - loss: 0.8112 - accuracy: 0.5675 - val_loss: 0.9137 - val_accuracy: 0.5522\n",
      "Epoch 119/150\n",
      "10/10 [==============================] - 0s 7ms/step - loss: 0.8109 - accuracy: 0.5635 - val_loss: 0.8837 - val_accuracy: 0.5560\n",
      "Epoch 120/150\n",
      "10/10 [==============================] - 0s 7ms/step - loss: 0.8109 - accuracy: 0.5673 - val_loss: 0.9003 - val_accuracy: 0.5256\n",
      "Epoch 121/150\n",
      "10/10 [==============================] - 0s 7ms/step - loss: 0.8120 - accuracy: 0.5829 - val_loss: 1.0154 - val_accuracy: 0.4611\n",
      "Epoch 122/150\n",
      "10/10 [==============================] - 0s 7ms/step - loss: 0.8166 - accuracy: 0.5639 - val_loss: 0.9198 - val_accuracy: 0.5142\n",
      "Epoch 123/150\n",
      "10/10 [==============================] - 0s 7ms/step - loss: 0.8150 - accuracy: 0.5671 - val_loss: 1.1746 - val_accuracy: 0.4137\n",
      "Epoch 124/150\n",
      "10/10 [==============================] - 0s 7ms/step - loss: 0.8170 - accuracy: 0.5628 - val_loss: 0.9039 - val_accuracy: 0.5370\n",
      "Epoch 125/150\n",
      "10/10 [==============================] - 0s 7ms/step - loss: 0.8126 - accuracy: 0.5753 - val_loss: 1.0054 - val_accuracy: 0.4839\n",
      "Epoch 126/150\n",
      "10/10 [==============================] - 0s 7ms/step - loss: 0.8130 - accuracy: 0.5706 - val_loss: 1.0868 - val_accuracy: 0.4118\n",
      "Epoch 127/150\n",
      "10/10 [==============================] - 0s 7ms/step - loss: 0.8151 - accuracy: 0.5738 - val_loss: 0.9304 - val_accuracy: 0.5104\n",
      "Epoch 128/150\n",
      "10/10 [==============================] - 0s 7ms/step - loss: 0.8137 - accuracy: 0.5770 - val_loss: 0.9329 - val_accuracy: 0.4877\n",
      "Epoch 129/150\n",
      "10/10 [==============================] - 0s 7ms/step - loss: 0.8220 - accuracy: 0.5616 - val_loss: 0.9122 - val_accuracy: 0.5085\n",
      "Epoch 130/150\n",
      "10/10 [==============================] - 0s 7ms/step - loss: 0.8083 - accuracy: 0.5702 - val_loss: 0.8964 - val_accuracy: 0.5370\n",
      "Epoch 131/150\n",
      "10/10 [==============================] - 0s 7ms/step - loss: 0.8228 - accuracy: 0.5664 - val_loss: 0.9225 - val_accuracy: 0.5465\n",
      "Epoch 132/150\n",
      "10/10 [==============================] - 0s 7ms/step - loss: 0.8231 - accuracy: 0.5536 - val_loss: 0.8754 - val_accuracy: 0.5503\n",
      "Epoch 133/150\n",
      "10/10 [==============================] - 0s 7ms/step - loss: 0.8220 - accuracy: 0.5679 - val_loss: 0.9565 - val_accuracy: 0.5085\n",
      "Epoch 134/150\n",
      "10/10 [==============================] - 0s 7ms/step - loss: 0.8071 - accuracy: 0.5685 - val_loss: 0.8841 - val_accuracy: 0.5503\n",
      "Epoch 135/150\n",
      "10/10 [==============================] - 0s 7ms/step - loss: 0.8116 - accuracy: 0.5818 - val_loss: 0.8866 - val_accuracy: 0.5465\n",
      "Epoch 136/150\n",
      "10/10 [==============================] - 0s 7ms/step - loss: 0.8033 - accuracy: 0.5766 - val_loss: 0.9175 - val_accuracy: 0.5351\n",
      "Epoch 137/150\n",
      "10/10 [==============================] - 0s 7ms/step - loss: 0.8057 - accuracy: 0.5723 - val_loss: 0.8714 - val_accuracy: 0.5560\n",
      "Epoch 138/150\n",
      "10/10 [==============================] - 0s 7ms/step - loss: 0.8102 - accuracy: 0.5740 - val_loss: 0.8919 - val_accuracy: 0.5484\n",
      "Epoch 139/150\n",
      "10/10 [==============================] - 0s 7ms/step - loss: 0.8094 - accuracy: 0.5656 - val_loss: 0.9654 - val_accuracy: 0.4934\n",
      "Epoch 140/150\n",
      "10/10 [==============================] - 0s 7ms/step - loss: 0.8183 - accuracy: 0.5808 - val_loss: 0.8951 - val_accuracy: 0.5408\n",
      "Epoch 141/150\n",
      "10/10 [==============================] - 0s 7ms/step - loss: 0.8144 - accuracy: 0.5673 - val_loss: 0.8588 - val_accuracy: 0.5712\n",
      "Epoch 142/150\n",
      "10/10 [==============================] - 0s 7ms/step - loss: 0.8076 - accuracy: 0.5744 - val_loss: 0.9316 - val_accuracy: 0.5047\n",
      "Epoch 143/150\n",
      "10/10 [==============================] - 0s 7ms/step - loss: 0.8062 - accuracy: 0.5778 - val_loss: 0.8756 - val_accuracy: 0.5731\n",
      "Epoch 144/150\n",
      "10/10 [==============================] - 0s 7ms/step - loss: 0.8176 - accuracy: 0.5599 - val_loss: 0.8825 - val_accuracy: 0.5579\n",
      "Epoch 145/150\n",
      "10/10 [==============================] - 0s 7ms/step - loss: 0.8030 - accuracy: 0.5778 - val_loss: 0.9122 - val_accuracy: 0.5180\n",
      "Epoch 146/150\n",
      "10/10 [==============================] - 0s 7ms/step - loss: 0.8051 - accuracy: 0.5829 - val_loss: 0.8933 - val_accuracy: 0.5294\n",
      "Epoch 147/150\n",
      "10/10 [==============================] - 0s 7ms/step - loss: 0.8003 - accuracy: 0.5818 - val_loss: 0.9065 - val_accuracy: 0.5294\n",
      "Epoch 148/150\n",
      "10/10 [==============================] - 0s 7ms/step - loss: 0.8017 - accuracy: 0.5753 - val_loss: 0.9197 - val_accuracy: 0.5275\n",
      "Epoch 149/150\n",
      "10/10 [==============================] - 0s 7ms/step - loss: 0.7966 - accuracy: 0.5810 - val_loss: 0.9568 - val_accuracy: 0.4877\n",
      "Epoch 150/150\n",
      "10/10 [==============================] - 0s 7ms/step - loss: 0.8016 - accuracy: 0.5833 - val_loss: 0.8757 - val_accuracy: 0.5674\n"
     ]
    },
    {
     "data": {
      "text/plain": "<keras.src.callbacks.History at 0x2b7b4fb5cd0>"
     },
     "execution_count": 18,
     "metadata": {},
     "output_type": "execute_result"
    }
   ],
   "source": [
    "X_train"
   ]
  },
  {
   "cell_type": "code",
   "execution_count": 19,
   "id": "7c8f56c4",
   "metadata": {
    "ExecuteTime": {
     "start_time": "2023-11-15T23:03:34.314109Z",
     "end_time": "2023-11-15T23:03:34.325228Z"
    }
   },
   "outputs": [
    {
     "data": {
      "text/plain": "      type  volatile_acidity  citric_acid  chlorides  total_sulfur_dioxide  \\\n0        0              0.28         0.14      0.032                 142.0   \n1        0              0.25         0.41      0.042                 173.0   \n2        0              0.33         0.27      0.036                 134.0   \n4        0              0.28         0.31      0.046                 208.0   \n5        0              0.51         0.25      0.048                 177.0   \n...    ...               ...          ...        ...                   ...   \n5264     0              0.20         0.26      0.046                 143.0   \n5265     0              0.28         0.36      0.038                 101.0   \n5266     0              0.18         0.31      0.058                 167.0   \n5267     0              0.35         0.25      0.051                 182.0   \n5268     0              0.43         0.26      0.043                 176.0   \n\n      density    alcohol  \n0     0.99542   9.500000  \n1     0.99650   9.100000  \n2     0.99270  10.400000  \n4     0.99434   9.800000  \n5     0.99212  10.566667  \n...       ...        ...  \n5264  0.99526  10.800000  \n5265  0.99120  11.600000  \n5266  0.99310  10.000000  \n5267  0.99946   9.300000  \n5268  0.99116  12.300000  \n\n[4742 rows x 7 columns]",
      "text/html": "<div>\n<style scoped>\n    .dataframe tbody tr th:only-of-type {\n        vertical-align: middle;\n    }\n\n    .dataframe tbody tr th {\n        vertical-align: top;\n    }\n\n    .dataframe thead th {\n        text-align: right;\n    }\n</style>\n<table border=\"1\" class=\"dataframe\">\n  <thead>\n    <tr style=\"text-align: right;\">\n      <th></th>\n      <th>type</th>\n      <th>volatile_acidity</th>\n      <th>citric_acid</th>\n      <th>chlorides</th>\n      <th>total_sulfur_dioxide</th>\n      <th>density</th>\n      <th>alcohol</th>\n    </tr>\n  </thead>\n  <tbody>\n    <tr>\n      <th>0</th>\n      <td>0</td>\n      <td>0.28</td>\n      <td>0.14</td>\n      <td>0.032</td>\n      <td>142.0</td>\n      <td>0.99542</td>\n      <td>9.500000</td>\n    </tr>\n    <tr>\n      <th>1</th>\n      <td>0</td>\n      <td>0.25</td>\n      <td>0.41</td>\n      <td>0.042</td>\n      <td>173.0</td>\n      <td>0.99650</td>\n      <td>9.100000</td>\n    </tr>\n    <tr>\n      <th>2</th>\n      <td>0</td>\n      <td>0.33</td>\n      <td>0.27</td>\n      <td>0.036</td>\n      <td>134.0</td>\n      <td>0.99270</td>\n      <td>10.400000</td>\n    </tr>\n    <tr>\n      <th>4</th>\n      <td>0</td>\n      <td>0.28</td>\n      <td>0.31</td>\n      <td>0.046</td>\n      <td>208.0</td>\n      <td>0.99434</td>\n      <td>9.800000</td>\n    </tr>\n    <tr>\n      <th>5</th>\n      <td>0</td>\n      <td>0.51</td>\n      <td>0.25</td>\n      <td>0.048</td>\n      <td>177.0</td>\n      <td>0.99212</td>\n      <td>10.566667</td>\n    </tr>\n    <tr>\n      <th>...</th>\n      <td>...</td>\n      <td>...</td>\n      <td>...</td>\n      <td>...</td>\n      <td>...</td>\n      <td>...</td>\n      <td>...</td>\n    </tr>\n    <tr>\n      <th>5264</th>\n      <td>0</td>\n      <td>0.20</td>\n      <td>0.26</td>\n      <td>0.046</td>\n      <td>143.0</td>\n      <td>0.99526</td>\n      <td>10.800000</td>\n    </tr>\n    <tr>\n      <th>5265</th>\n      <td>0</td>\n      <td>0.28</td>\n      <td>0.36</td>\n      <td>0.038</td>\n      <td>101.0</td>\n      <td>0.99120</td>\n      <td>11.600000</td>\n    </tr>\n    <tr>\n      <th>5266</th>\n      <td>0</td>\n      <td>0.18</td>\n      <td>0.31</td>\n      <td>0.058</td>\n      <td>167.0</td>\n      <td>0.99310</td>\n      <td>10.000000</td>\n    </tr>\n    <tr>\n      <th>5267</th>\n      <td>0</td>\n      <td>0.35</td>\n      <td>0.25</td>\n      <td>0.051</td>\n      <td>182.0</td>\n      <td>0.99946</td>\n      <td>9.300000</td>\n    </tr>\n    <tr>\n      <th>5268</th>\n      <td>0</td>\n      <td>0.43</td>\n      <td>0.26</td>\n      <td>0.043</td>\n      <td>176.0</td>\n      <td>0.99116</td>\n      <td>12.300000</td>\n    </tr>\n  </tbody>\n</table>\n<p>4742 rows × 7 columns</p>\n</div>"
     },
     "execution_count": 19,
     "metadata": {},
     "output_type": "execute_result"
    }
   ],
   "source": [
    "y_train"
   ]
  },
  {
   "cell_type": "code",
   "execution_count": 20,
   "id": "77aa0aee",
   "metadata": {
    "ExecuteTime": {
     "start_time": "2023-11-15T23:03:36.039618Z",
     "end_time": "2023-11-15T23:03:36.049163Z"
    }
   },
   "outputs": [
    {
     "data": {
      "text/plain": "      quality\n0           1\n1           0\n2           2\n4           0\n5           0\n...       ...\n5264        1\n5265        1\n5266        2\n5267        1\n5268        1\n\n[4742 rows x 1 columns]",
      "text/html": "<div>\n<style scoped>\n    .dataframe tbody tr th:only-of-type {\n        vertical-align: middle;\n    }\n\n    .dataframe tbody tr th {\n        vertical-align: top;\n    }\n\n    .dataframe thead th {\n        text-align: right;\n    }\n</style>\n<table border=\"1\" class=\"dataframe\">\n  <thead>\n    <tr style=\"text-align: right;\">\n      <th></th>\n      <th>quality</th>\n    </tr>\n  </thead>\n  <tbody>\n    <tr>\n      <th>0</th>\n      <td>1</td>\n    </tr>\n    <tr>\n      <th>1</th>\n      <td>0</td>\n    </tr>\n    <tr>\n      <th>2</th>\n      <td>2</td>\n    </tr>\n    <tr>\n      <th>4</th>\n      <td>0</td>\n    </tr>\n    <tr>\n      <th>5</th>\n      <td>0</td>\n    </tr>\n    <tr>\n      <th>...</th>\n      <td>...</td>\n    </tr>\n    <tr>\n      <th>5264</th>\n      <td>1</td>\n    </tr>\n    <tr>\n      <th>5265</th>\n      <td>1</td>\n    </tr>\n    <tr>\n      <th>5266</th>\n      <td>2</td>\n    </tr>\n    <tr>\n      <th>5267</th>\n      <td>1</td>\n    </tr>\n    <tr>\n      <th>5268</th>\n      <td>1</td>\n    </tr>\n  </tbody>\n</table>\n<p>4742 rows × 1 columns</p>\n</div>"
     },
     "execution_count": 20,
     "metadata": {},
     "output_type": "execute_result"
    }
   ],
   "source": [
    "# Evaluate model performance using the features from the test set (X_test)\n",
    "y_pred = model.predict(X_test)\n",
    "y_pred = np.argmax(y_pred, axis=1)\n",
    "# Compare predictions (y_pred) with the labels in the test set (y_test)\n",
    "metrics = classification_report(y_test, y_pred, output_dict=True)\n",
    "results = confusion_matrix(y_test, y_pred)"
   ]
  },
  {
   "cell_type": "code",
   "execution_count": 21,
   "id": "dd3dddab",
   "metadata": {
    "ExecuteTime": {
     "start_time": "2023-11-15T23:03:37.774550Z",
     "end_time": "2023-11-15T23:03:37.886201Z"
    }
   },
   "outputs": [
    {
     "name": "stdout",
     "output_type": "stream",
     "text": [
      "17/17 [==============================] - 0s 906us/step\n"
     ]
    }
   ],
   "source": [
    "print(metrics)"
   ]
  },
  {
   "cell_type": "code",
   "execution_count": 22,
   "id": "4d944032",
   "metadata": {
    "ExecuteTime": {
     "start_time": "2023-11-15T23:03:39.745661Z",
     "end_time": "2023-11-15T23:03:39.753172Z"
    }
   },
   "outputs": [
    {
     "name": "stdout",
     "output_type": "stream",
     "text": [
      "{'0': {'precision': 0.6273584905660378, 'recall': 0.689119170984456, 'f1-score': 0.6567901234567901, 'support': 193.0}, '1': {'precision': 0.5404040404040404, 'recall': 0.46120689655172414, 'f1-score': 0.4976744186046511, 'support': 232.0}, '2': {'precision': 0.5042735042735043, 'recall': 0.5784313725490197, 'f1-score': 0.5388127853881278, 'support': 102.0}, 'accuracy': 0.5673624288425048, 'macro avg': {'precision': 0.5573453450811942, 'recall': 0.5762524800283999, 'f1-score': 0.564425775816523, 'support': 527.0}, 'weighted avg': {'precision': 0.5652558320472109, 'recall': 0.5673624288425048, 'f1-score': 0.5639086585446462, 'support': 527.0}}\n"
     ]
    }
   ],
   "source": [
    "# Create the confusion matrix as a figure, we will later store it as a PNG image file\n",
    "df_cm = pd.DataFrame(results, ['True Low Quality', 'True Good Quality', 'True High Quality'],\n",
    "                     ['Pred Low Quality', 'Pred Good Quality', 'Pred High Quality'])\n",
    "cm = sns.heatmap(df_cm, annot=True, fmt='g')\n",
    "sns.set(rc={'figure.figsize':(11.7,8.27)})\n",
    "fig = cm.get_figure()"
   ]
  },
  {
   "cell_type": "code",
   "execution_count": 23,
   "id": "bcfdfc4f",
   "metadata": {
    "ExecuteTime": {
     "start_time": "2023-11-15T23:03:40.958736Z",
     "end_time": "2023-11-15T23:03:41.064254Z"
    }
   },
   "outputs": [
    {
     "data": {
      "text/plain": "<Figure size 1170x827 with 2 Axes>",
      "image/png": "[encoded data removed]"
     },
     "metadata": {},
     "output_type": "display_data"
    }
   ],
   "source": [
    "# We will now upload our model to the Hopsworks Model Registry. First get an object for the model registry.\n",
    "mr = project.get_model_registry()\n",
    "\n",
    "# The contents of the 'iris_model' directory will be saved to the model registry. Create the dir, first.\n",
    "model_dir=\"wine_model\"\n",
    "if os.path.isdir(model_dir) == False:\n",
    "    os.mkdir(model_dir)\n",
    "\n",
    "# Save both our model and the confusion matrix to 'model_dir', whose contents will be uploaded to the model registry\n",
    "model.save_weights(model_dir + '/wine_model.h5')\n",
    "fig.savefig(model_dir + \"/confusion_matrix.png\")    \n",
    "\n",
    "# Specify the schema of the model's input/output using the features (X_train) and labels (y_train)\n",
    "input_schema = Schema(X_train)\n",
    "output_schema = Schema(y_train)\n",
    "model_schema = ModelSchema(input_schema, output_schema)\n",
    "\n",
    "# Create an entry in the model registry that includes the model's name, desc, metrics\n",
    "wine_model = mr.python.create_model(\n",
    "    name=\"wine_model\",\n",
    "    metrics={\"accuracy\" : metrics['accuracy']},\n",
    "    model_schema=model_schema,\n",
    "    description=\"Wine Quality Predictor\"\n",
    ")\n",
    "\n",
    "# Upload the model to the model registry, including all files in 'model_dir'\n",
    "wine_model.save(model_dir)"
   ]
  },
  {
   "cell_type": "code",
   "execution_count": 25,
   "id": "f707b056",
   "metadata": {
    "ExecuteTime": {
     "start_time": "2023-11-15T23:04:48.445583Z",
     "end_time": "2023-11-15T23:05:01.895188Z"
    }
   },
   "outputs": [
    {
     "name": "stdout",
     "output_type": "stream",
     "text": [
      "Connected. Call `.close()` to terminate connection gracefully.\n"
     ]
    },
    {
     "data": {
      "text/plain": "  0%|          | 0/6 [00:00<?, ?it/s]",
      "application/vnd.jupyter.widget-view+json": {
       "version_major": 2,
       "version_minor": 0,
       "model_id": "dba73ac8662c49519dada4ffaebe3a93"
      }
     },
     "metadata": {},
     "output_type": "display_data"
    },
    {
     "name": "stdout",
     "output_type": "stream",
     "text": [
      "Model created, explore it at https://c.app.hopsworks.ai:443/p/191638/models/wine_model/1\n"
     ]
    },
    {
     "data": {
      "text/plain": "Model(name: 'wine_model', version: 1)"
     },
     "execution_count": 25,
     "metadata": {},
     "output_type": "execute_result"
    }
   ],
   "source": []
  }
 ],
 "metadata": {
  "kernelspec": {
   "display_name": "Python 3 (ipykernel)",
   "language": "python",
   "name": "python3"
  },
  "language_info": {
   "codemirror_mode": {
    "name": "ipython",
    "version": 3
   },
   "file_extension": ".py",
   "mimetype": "text/x-python",
   "name": "python",
   "nbconvert_exporter": "python",
   "pygments_lexer": "ipython3",
   "version": "3.10.0"
  }
 },
 "nbformat": 4,
 "nbformat_minor": 5
}
