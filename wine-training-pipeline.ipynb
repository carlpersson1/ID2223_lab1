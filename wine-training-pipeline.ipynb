{
 "cells": [
  {
   "cell_type": "code",
   "execution_count": 1,
   "id": "063d9a22",
   "metadata": {
    "ExecuteTime": {
     "start_time": "2023-11-14T23:41:00.897771Z",
     "end_time": "2023-11-14T23:41:04.380862Z"
    }
   },
   "outputs": [
    {
     "name": "stdout",
     "output_type": "stream",
     "text": [
      "2023-11-14 23:41:04,259 WARNING: From C:\\Users\\carl\\PycharmProjects\\ID2223_lab1\\venv\\Lib\\site-packages\\keras\\src\\losses.py:2976: The name tf.losses.sparse_softmax_cross_entropy is deprecated. Please use tf.compat.v1.losses.sparse_softmax_cross_entropy instead.\n",
      "\n"
     ]
    }
   ],
   "source": [
    "import hopsworks\n",
    "import pandas as pd\n",
    "from sklearn.neighbors import KNeighborsClassifier\n",
    "from sklearn.metrics import accuracy_score\n",
    "from sklearn.metrics import confusion_matrix\n",
    "from sklearn.metrics import classification_report\n",
    "import seaborn as sns\n",
    "from matplotlib import pyplot\n",
    "from hsml.schema import Schema\n",
    "from hsml.model_schema import ModelSchema\n",
    "import numpy as np\n",
    "import joblib\n",
    "from sklearn.utils import class_weight\n",
    "import keras\n",
    "import os"
   ]
  },
  {
   "cell_type": "code",
   "execution_count": 2,
   "id": "5ce90341",
   "metadata": {
    "ExecuteTime": {
     "start_time": "2023-11-14T23:41:04.381862Z",
     "end_time": "2023-11-14T23:41:05.878059Z"
    }
   },
   "outputs": [
    {
     "name": "stdout",
     "output_type": "stream",
     "text": [
      "Connected. Call `.close()` to terminate connection gracefully.\n",
      "\n",
      "Logged in to project, explore it here https://c.app.hopsworks.ai:443/p/191638\n",
      "Connected. Call `.close()` to terminate connection gracefully.\n"
     ]
    }
   ],
   "source": [
    "# You have to set the environment variable 'HOPSWORKS_API_KEY' for login to succeed\n",
    "project = hopsworks.login()\n",
    "fs = project.get_feature_store()"
   ]
  },
  {
   "cell_type": "code",
   "execution_count": 3,
   "id": "359ed7b3",
   "metadata": {
    "ExecuteTime": {
     "start_time": "2023-11-14T23:41:05.879060Z",
     "end_time": "2023-11-14T23:41:11.860820Z"
    }
   },
   "outputs": [
    {
     "name": "stdout",
     "output_type": "stream",
     "text": [
      "Finished: Reading data from Hopsworks, using ArrowFlight (1.09s) \n"
     ]
    },
    {
     "name": "stderr",
     "output_type": "stream",
     "text": [
      "VersionWarning: Incremented version to `5`.\n"
     ]
    }
   ],
   "source": [
    "# The feature view is the input set of features for your model. The features can come from different feature groups.    \n",
    "# You can select features from different feature groups and join them together to create a feature view\n",
    "wine_fg = fs.get_feature_group(name=\"wine\", version=1)\n",
    "query = wine_fg.select_all()\n",
    "feature_view = fs.get_or_create_feature_view(name=\"wine\",\n",
    "                                  version=1,\n",
    "                                  description=\"Read from Wine quality dataset\",\n",
    "                                  labels=[\"quality\"],\n",
    "                                  query=query)\n",
    "# You can read training data, randomly split into train/test sets of features (X) and labels (y)\n",
    "X_train, X_test, y_train, y_test = feature_view.train_test_split(0.1)"
   ]
  },
  {
   "cell_type": "code",
   "execution_count": 4,
   "id": "42fbcfd3",
   "metadata": {
    "ExecuteTime": {
     "start_time": "2023-11-14T23:41:11.860820Z",
     "end_time": "2023-11-14T23:41:27.415970Z"
    }
   },
   "outputs": [
    {
     "name": "stdout",
     "output_type": "stream",
     "text": [
      "2023-11-14 23:41:11,922 WARNING: From C:\\Users\\carl\\PycharmProjects\\ID2223_lab1\\venv\\Lib\\site-packages\\keras\\src\\backend.py:873: The name tf.get_default_graph is deprecated. Please use tf.compat.v1.get_default_graph instead.\n",
      "\n",
      "[0.90020869 0.75714058 1.75936225]\n",
      "Epoch 1/150\n",
      "2023-11-14 23:41:12,161 WARNING: From C:\\Users\\carl\\PycharmProjects\\ID2223_lab1\\venv\\Lib\\site-packages\\keras\\src\\utils\\tf_utils.py:492: The name tf.ragged.RaggedTensorValue is deprecated. Please use tf.compat.v1.ragged.RaggedTensorValue instead.\n",
      "\n",
      "2023-11-14 23:41:12,410 WARNING: From C:\\Users\\carl\\PycharmProjects\\ID2223_lab1\\venv\\Lib\\site-packages\\keras\\src\\engine\\base_layer_utils.py:384: The name tf.executing_eagerly_outside_functions is deprecated. Please use tf.compat.v1.executing_eagerly_outside_functions instead.\n",
      "\n",
      "19/19 [==============================] - 1s 12ms/step - loss: 1.2268 - accuracy: 0.4552 - val_loss: 2.0281 - val_accuracy: 0.2708\n",
      "Epoch 2/150\n",
      "19/19 [==============================] - 0s 5ms/step - loss: 0.9733 - accuracy: 0.4932 - val_loss: 1.5099 - val_accuracy: 0.2898\n",
      "Epoch 3/150\n",
      "19/19 [==============================] - 0s 5ms/step - loss: 0.9648 - accuracy: 0.4839 - val_loss: 2.3742 - val_accuracy: 0.1970\n",
      "Epoch 4/150\n",
      "19/19 [==============================] - 0s 5ms/step - loss: 0.9194 - accuracy: 0.5115 - val_loss: 1.6333 - val_accuracy: 0.2955\n",
      "Epoch 5/150\n",
      "19/19 [==============================] - 0s 5ms/step - loss: 0.9503 - accuracy: 0.4995 - val_loss: 1.1864 - val_accuracy: 0.4034\n",
      "Epoch 6/150\n",
      "19/19 [==============================] - 0s 5ms/step - loss: 0.9165 - accuracy: 0.5134 - val_loss: 1.5004 - val_accuracy: 0.1932\n",
      "Epoch 7/150\n",
      "19/19 [==============================] - 0s 5ms/step - loss: 0.9131 - accuracy: 0.5286 - val_loss: 1.3685 - val_accuracy: 0.2670\n",
      "Epoch 8/150\n",
      "19/19 [==============================] - 0s 5ms/step - loss: 0.8894 - accuracy: 0.5246 - val_loss: 1.3496 - val_accuracy: 0.3674\n",
      "Epoch 9/150\n",
      "19/19 [==============================] - 0s 5ms/step - loss: 0.8920 - accuracy: 0.5290 - val_loss: 1.2856 - val_accuracy: 0.3485\n",
      "Epoch 10/150\n",
      "19/19 [==============================] - 0s 5ms/step - loss: 0.8889 - accuracy: 0.5323 - val_loss: 1.0848 - val_accuracy: 0.4545\n",
      "Epoch 11/150\n",
      "19/19 [==============================] - 0s 5ms/step - loss: 0.8804 - accuracy: 0.5214 - val_loss: 1.0651 - val_accuracy: 0.4640\n",
      "Epoch 12/150\n",
      "19/19 [==============================] - 0s 5ms/step - loss: 0.8774 - accuracy: 0.5336 - val_loss: 1.0721 - val_accuracy: 0.4583\n",
      "Epoch 13/150\n",
      "19/19 [==============================] - 0s 5ms/step - loss: 0.8724 - accuracy: 0.5437 - val_loss: 1.1145 - val_accuracy: 0.4072\n",
      "Epoch 14/150\n",
      "19/19 [==============================] - 0s 5ms/step - loss: 0.8998 - accuracy: 0.5292 - val_loss: 1.1109 - val_accuracy: 0.4223\n",
      "Epoch 15/150\n",
      "19/19 [==============================] - 0s 5ms/step - loss: 0.8796 - accuracy: 0.5336 - val_loss: 0.9671 - val_accuracy: 0.5038\n",
      "Epoch 16/150\n",
      "19/19 [==============================] - 0s 5ms/step - loss: 0.8731 - accuracy: 0.5340 - val_loss: 1.1587 - val_accuracy: 0.4508\n",
      "Epoch 17/150\n",
      "19/19 [==============================] - 0s 5ms/step - loss: 0.8779 - accuracy: 0.5353 - val_loss: 1.1241 - val_accuracy: 0.4716\n",
      "Epoch 18/150\n",
      "19/19 [==============================] - 0s 5ms/step - loss: 0.8645 - accuracy: 0.5406 - val_loss: 0.9181 - val_accuracy: 0.5265\n",
      "Epoch 19/150\n",
      "19/19 [==============================] - 0s 5ms/step - loss: 0.8641 - accuracy: 0.5404 - val_loss: 1.0380 - val_accuracy: 0.4659\n",
      "Epoch 20/150\n",
      "19/19 [==============================] - 0s 5ms/step - loss: 0.8795 - accuracy: 0.5349 - val_loss: 1.0288 - val_accuracy: 0.5038\n",
      "Epoch 21/150\n",
      "19/19 [==============================] - 0s 5ms/step - loss: 0.8702 - accuracy: 0.5378 - val_loss: 1.2295 - val_accuracy: 0.4394\n",
      "Epoch 22/150\n",
      "19/19 [==============================] - 0s 5ms/step - loss: 0.8773 - accuracy: 0.5260 - val_loss: 1.3461 - val_accuracy: 0.4053\n",
      "Epoch 23/150\n",
      "19/19 [==============================] - 0s 5ms/step - loss: 0.8551 - accuracy: 0.5572 - val_loss: 0.9947 - val_accuracy: 0.5133\n",
      "Epoch 24/150\n",
      "19/19 [==============================] - 0s 5ms/step - loss: 0.8667 - accuracy: 0.5353 - val_loss: 1.0402 - val_accuracy: 0.4943\n",
      "Epoch 25/150\n",
      "19/19 [==============================] - 0s 5ms/step - loss: 0.8797 - accuracy: 0.5416 - val_loss: 1.0261 - val_accuracy: 0.4905\n",
      "Epoch 26/150\n",
      "19/19 [==============================] - 0s 5ms/step - loss: 0.8772 - accuracy: 0.5437 - val_loss: 1.1451 - val_accuracy: 0.4280\n",
      "Epoch 27/150\n",
      "19/19 [==============================] - 0s 5ms/step - loss: 0.8653 - accuracy: 0.5442 - val_loss: 1.3682 - val_accuracy: 0.3428\n",
      "Epoch 28/150\n",
      "19/19 [==============================] - 0s 5ms/step - loss: 0.8662 - accuracy: 0.5431 - val_loss: 1.3449 - val_accuracy: 0.3617\n",
      "Epoch 29/150\n",
      "19/19 [==============================] - 0s 5ms/step - loss: 0.8713 - accuracy: 0.5543 - val_loss: 0.9195 - val_accuracy: 0.5379\n",
      "Epoch 30/150\n",
      "19/19 [==============================] - 0s 5ms/step - loss: 0.8682 - accuracy: 0.5423 - val_loss: 0.9953 - val_accuracy: 0.4754\n",
      "Epoch 31/150\n",
      "19/19 [==============================] - 0s 5ms/step - loss: 0.8704 - accuracy: 0.5366 - val_loss: 1.4425 - val_accuracy: 0.3295\n",
      "Epoch 32/150\n",
      "19/19 [==============================] - 0s 5ms/step - loss: 0.8533 - accuracy: 0.5454 - val_loss: 1.4571 - val_accuracy: 0.3580\n",
      "Epoch 33/150\n",
      "19/19 [==============================] - 0s 5ms/step - loss: 0.8575 - accuracy: 0.5532 - val_loss: 0.9488 - val_accuracy: 0.5284\n",
      "Epoch 34/150\n",
      "19/19 [==============================] - 0s 5ms/step - loss: 0.8752 - accuracy: 0.5410 - val_loss: 1.0440 - val_accuracy: 0.4564\n",
      "Epoch 35/150\n",
      "19/19 [==============================] - 0s 5ms/step - loss: 0.8529 - accuracy: 0.5538 - val_loss: 0.9745 - val_accuracy: 0.5019\n",
      "Epoch 36/150\n",
      "19/19 [==============================] - 0s 5ms/step - loss: 0.8433 - accuracy: 0.5509 - val_loss: 1.0508 - val_accuracy: 0.4962\n",
      "Epoch 37/150\n",
      "19/19 [==============================] - 0s 5ms/step - loss: 0.8620 - accuracy: 0.5484 - val_loss: 1.3765 - val_accuracy: 0.3011\n",
      "Epoch 38/150\n",
      "19/19 [==============================] - 0s 5ms/step - loss: 0.8590 - accuracy: 0.5383 - val_loss: 1.0213 - val_accuracy: 0.4811\n",
      "Epoch 39/150\n",
      "19/19 [==============================] - 0s 5ms/step - loss: 0.8630 - accuracy: 0.5509 - val_loss: 1.2803 - val_accuracy: 0.4792\n",
      "Epoch 40/150\n",
      "19/19 [==============================] - 0s 5ms/step - loss: 0.8527 - accuracy: 0.5507 - val_loss: 0.9419 - val_accuracy: 0.5341\n",
      "Epoch 41/150\n",
      "19/19 [==============================] - 0s 5ms/step - loss: 0.8535 - accuracy: 0.5551 - val_loss: 1.1200 - val_accuracy: 0.4905\n",
      "Epoch 42/150\n",
      "19/19 [==============================] - 0s 5ms/step - loss: 0.8583 - accuracy: 0.5460 - val_loss: 1.0803 - val_accuracy: 0.5208\n",
      "Epoch 43/150\n",
      "19/19 [==============================] - 0s 5ms/step - loss: 0.8447 - accuracy: 0.5482 - val_loss: 1.7270 - val_accuracy: 0.2955\n",
      "Epoch 44/150\n",
      "19/19 [==============================] - 0s 5ms/step - loss: 0.8510 - accuracy: 0.5486 - val_loss: 1.0943 - val_accuracy: 0.5038\n",
      "Epoch 45/150\n",
      "19/19 [==============================] - 0s 5ms/step - loss: 0.8385 - accuracy: 0.5555 - val_loss: 0.9685 - val_accuracy: 0.4886\n",
      "Epoch 46/150\n",
      "19/19 [==============================] - 0s 5ms/step - loss: 0.8346 - accuracy: 0.5557 - val_loss: 0.9193 - val_accuracy: 0.5417\n",
      "Epoch 47/150\n",
      "19/19 [==============================] - 0s 5ms/step - loss: 0.8482 - accuracy: 0.5536 - val_loss: 1.1298 - val_accuracy: 0.4659\n",
      "Epoch 48/150\n",
      "19/19 [==============================] - 0s 5ms/step - loss: 0.8432 - accuracy: 0.5560 - val_loss: 0.9466 - val_accuracy: 0.5246\n",
      "Epoch 49/150\n",
      "19/19 [==============================] - 0s 5ms/step - loss: 0.8639 - accuracy: 0.5380 - val_loss: 1.0725 - val_accuracy: 0.4659\n",
      "Epoch 50/150\n",
      "19/19 [==============================] - 0s 5ms/step - loss: 0.8540 - accuracy: 0.5467 - val_loss: 1.1761 - val_accuracy: 0.4072\n",
      "Epoch 51/150\n",
      "19/19 [==============================] - 0s 5ms/step - loss: 0.8468 - accuracy: 0.5541 - val_loss: 0.9248 - val_accuracy: 0.5152\n",
      "Epoch 52/150\n",
      "19/19 [==============================] - 0s 5ms/step - loss: 0.8565 - accuracy: 0.5433 - val_loss: 1.0645 - val_accuracy: 0.5227\n",
      "Epoch 53/150\n",
      "19/19 [==============================] - 0s 5ms/step - loss: 0.8645 - accuracy: 0.5442 - val_loss: 0.9562 - val_accuracy: 0.5303\n",
      "Epoch 54/150\n",
      "19/19 [==============================] - 0s 5ms/step - loss: 0.8520 - accuracy: 0.5509 - val_loss: 0.9278 - val_accuracy: 0.5360\n",
      "Epoch 55/150\n",
      "19/19 [==============================] - 0s 5ms/step - loss: 0.8574 - accuracy: 0.5486 - val_loss: 1.0056 - val_accuracy: 0.5152\n",
      "Epoch 56/150\n",
      "19/19 [==============================] - 0s 5ms/step - loss: 0.8385 - accuracy: 0.5608 - val_loss: 1.0530 - val_accuracy: 0.4811\n",
      "Epoch 57/150\n",
      "19/19 [==============================] - 0s 5ms/step - loss: 0.8382 - accuracy: 0.5522 - val_loss: 1.0822 - val_accuracy: 0.4375\n",
      "Epoch 58/150\n",
      "19/19 [==============================] - 0s 5ms/step - loss: 0.8394 - accuracy: 0.5604 - val_loss: 0.9368 - val_accuracy: 0.5322\n",
      "Epoch 59/150\n",
      "19/19 [==============================] - 0s 5ms/step - loss: 0.8348 - accuracy: 0.5568 - val_loss: 1.2469 - val_accuracy: 0.4015\n",
      "Epoch 60/150\n",
      "19/19 [==============================] - 0s 5ms/step - loss: 0.8331 - accuracy: 0.5619 - val_loss: 0.9263 - val_accuracy: 0.5303\n",
      "Epoch 61/150\n",
      "19/19 [==============================] - 0s 5ms/step - loss: 0.8416 - accuracy: 0.5656 - val_loss: 0.9608 - val_accuracy: 0.5170\n",
      "Epoch 62/150\n",
      "19/19 [==============================] - 0s 5ms/step - loss: 0.8384 - accuracy: 0.5427 - val_loss: 0.9269 - val_accuracy: 0.5549\n",
      "Epoch 63/150\n",
      "19/19 [==============================] - 0s 5ms/step - loss: 0.8414 - accuracy: 0.5640 - val_loss: 1.0606 - val_accuracy: 0.4659\n",
      "Epoch 64/150\n",
      "19/19 [==============================] - 0s 5ms/step - loss: 0.8276 - accuracy: 0.5690 - val_loss: 0.9183 - val_accuracy: 0.5473\n",
      "Epoch 65/150\n",
      "19/19 [==============================] - 0s 5ms/step - loss: 0.8305 - accuracy: 0.5697 - val_loss: 0.9382 - val_accuracy: 0.5246\n",
      "Epoch 66/150\n",
      "19/19 [==============================] - 0s 5ms/step - loss: 0.8276 - accuracy: 0.5616 - val_loss: 1.5129 - val_accuracy: 0.3333\n",
      "Epoch 67/150\n",
      "19/19 [==============================] - 0s 5ms/step - loss: 0.8297 - accuracy: 0.5648 - val_loss: 0.9309 - val_accuracy: 0.5417\n",
      "Epoch 68/150\n",
      "19/19 [==============================] - 0s 5ms/step - loss: 0.8282 - accuracy: 0.5633 - val_loss: 0.9491 - val_accuracy: 0.5265\n",
      "Epoch 69/150\n",
      "19/19 [==============================] - 0s 5ms/step - loss: 0.8269 - accuracy: 0.5631 - val_loss: 1.0477 - val_accuracy: 0.4811\n",
      "Epoch 70/150\n",
      "19/19 [==============================] - 0s 5ms/step - loss: 0.8298 - accuracy: 0.5713 - val_loss: 1.1451 - val_accuracy: 0.4129\n",
      "Epoch 71/150\n",
      "19/19 [==============================] - 0s 5ms/step - loss: 0.8383 - accuracy: 0.5564 - val_loss: 0.9966 - val_accuracy: 0.4886\n",
      "Epoch 72/150\n",
      "19/19 [==============================] - 0s 5ms/step - loss: 0.8385 - accuracy: 0.5705 - val_loss: 0.9901 - val_accuracy: 0.4867\n",
      "Epoch 73/150\n",
      "19/19 [==============================] - 0s 5ms/step - loss: 0.8343 - accuracy: 0.5576 - val_loss: 0.9408 - val_accuracy: 0.5189\n",
      "Epoch 74/150\n",
      "19/19 [==============================] - 0s 5ms/step - loss: 0.8342 - accuracy: 0.5654 - val_loss: 1.0901 - val_accuracy: 0.4659\n",
      "Epoch 75/150\n",
      "19/19 [==============================] - 0s 5ms/step - loss: 0.8336 - accuracy: 0.5646 - val_loss: 1.0586 - val_accuracy: 0.5133\n",
      "Epoch 76/150\n",
      "19/19 [==============================] - 0s 5ms/step - loss: 0.8354 - accuracy: 0.5669 - val_loss: 0.9917 - val_accuracy: 0.5170\n",
      "Epoch 77/150\n",
      "19/19 [==============================] - 0s 5ms/step - loss: 0.8261 - accuracy: 0.5648 - val_loss: 1.1504 - val_accuracy: 0.4451\n",
      "Epoch 78/150\n",
      "19/19 [==============================] - 0s 5ms/step - loss: 0.8404 - accuracy: 0.5610 - val_loss: 1.0521 - val_accuracy: 0.4962\n",
      "Epoch 79/150\n",
      "19/19 [==============================] - 0s 5ms/step - loss: 0.8390 - accuracy: 0.5621 - val_loss: 0.9313 - val_accuracy: 0.5379\n",
      "Epoch 80/150\n",
      "19/19 [==============================] - 0s 5ms/step - loss: 0.8375 - accuracy: 0.5591 - val_loss: 1.1145 - val_accuracy: 0.4356\n",
      "Epoch 81/150\n",
      "19/19 [==============================] - 0s 5ms/step - loss: 0.8267 - accuracy: 0.5663 - val_loss: 0.9678 - val_accuracy: 0.5265\n",
      "Epoch 82/150\n",
      "19/19 [==============================] - 0s 5ms/step - loss: 0.8299 - accuracy: 0.5610 - val_loss: 0.9171 - val_accuracy: 0.5189\n",
      "Epoch 83/150\n",
      "19/19 [==============================] - 0s 5ms/step - loss: 0.8394 - accuracy: 0.5589 - val_loss: 1.2927 - val_accuracy: 0.4261\n",
      "Epoch 84/150\n",
      "19/19 [==============================] - 0s 5ms/step - loss: 0.8371 - accuracy: 0.5564 - val_loss: 0.9281 - val_accuracy: 0.5530\n",
      "Epoch 85/150\n",
      "19/19 [==============================] - 0s 5ms/step - loss: 0.8381 - accuracy: 0.5640 - val_loss: 1.2625 - val_accuracy: 0.4072\n",
      "Epoch 86/150\n",
      "19/19 [==============================] - 0s 5ms/step - loss: 0.8287 - accuracy: 0.5701 - val_loss: 0.9072 - val_accuracy: 0.5417\n",
      "Epoch 87/150\n",
      "19/19 [==============================] - 0s 5ms/step - loss: 0.8231 - accuracy: 0.5665 - val_loss: 0.9047 - val_accuracy: 0.5663\n",
      "Epoch 88/150\n",
      "19/19 [==============================] - 0s 5ms/step - loss: 0.8358 - accuracy: 0.5568 - val_loss: 0.9548 - val_accuracy: 0.5019\n",
      "Epoch 89/150\n",
      "19/19 [==============================] - 0s 5ms/step - loss: 0.8322 - accuracy: 0.5581 - val_loss: 1.0222 - val_accuracy: 0.4848\n",
      "Epoch 90/150\n",
      "19/19 [==============================] - 0s 5ms/step - loss: 0.8230 - accuracy: 0.5747 - val_loss: 0.9896 - val_accuracy: 0.5284\n",
      "Epoch 91/150\n",
      "19/19 [==============================] - 0s 5ms/step - loss: 0.8295 - accuracy: 0.5619 - val_loss: 0.9351 - val_accuracy: 0.5455\n",
      "Epoch 92/150\n",
      "19/19 [==============================] - 0s 5ms/step - loss: 0.8370 - accuracy: 0.5669 - val_loss: 0.9433 - val_accuracy: 0.5208\n",
      "Epoch 93/150\n",
      "19/19 [==============================] - 0s 5ms/step - loss: 0.8139 - accuracy: 0.5779 - val_loss: 0.9007 - val_accuracy: 0.5511\n",
      "Epoch 94/150\n",
      "19/19 [==============================] - 0s 5ms/step - loss: 0.8230 - accuracy: 0.5690 - val_loss: 0.9122 - val_accuracy: 0.5511\n",
      "Epoch 95/150\n",
      "19/19 [==============================] - 0s 5ms/step - loss: 0.8106 - accuracy: 0.5762 - val_loss: 0.9960 - val_accuracy: 0.5076\n",
      "Epoch 96/150\n",
      "19/19 [==============================] - 0s 5ms/step - loss: 0.8173 - accuracy: 0.5749 - val_loss: 1.0468 - val_accuracy: 0.4640\n",
      "Epoch 97/150\n",
      "19/19 [==============================] - 0s 5ms/step - loss: 0.8154 - accuracy: 0.5711 - val_loss: 1.3219 - val_accuracy: 0.3920\n",
      "Epoch 98/150\n",
      "19/19 [==============================] - 0s 5ms/step - loss: 0.8144 - accuracy: 0.5726 - val_loss: 0.9692 - val_accuracy: 0.5284\n",
      "Epoch 99/150\n",
      "19/19 [==============================] - 0s 5ms/step - loss: 0.8195 - accuracy: 0.5713 - val_loss: 0.9412 - val_accuracy: 0.5095\n",
      "Epoch 100/150\n",
      "19/19 [==============================] - 0s 5ms/step - loss: 0.8108 - accuracy: 0.5707 - val_loss: 0.9021 - val_accuracy: 0.5341\n",
      "Epoch 101/150\n",
      "19/19 [==============================] - 0s 5ms/step - loss: 0.8157 - accuracy: 0.5650 - val_loss: 0.9843 - val_accuracy: 0.4943\n",
      "Epoch 102/150\n",
      "19/19 [==============================] - 0s 5ms/step - loss: 0.8366 - accuracy: 0.5770 - val_loss: 1.1000 - val_accuracy: 0.5208\n",
      "Epoch 103/150\n",
      "19/19 [==============================] - 0s 6ms/step - loss: 0.8280 - accuracy: 0.5724 - val_loss: 1.1091 - val_accuracy: 0.4470\n",
      "Epoch 104/150\n",
      "19/19 [==============================] - 0s 5ms/step - loss: 0.8392 - accuracy: 0.5604 - val_loss: 1.1350 - val_accuracy: 0.5038\n",
      "Epoch 105/150\n",
      "19/19 [==============================] - 0s 5ms/step - loss: 0.8293 - accuracy: 0.5638 - val_loss: 1.0080 - val_accuracy: 0.4735\n",
      "Epoch 106/150\n",
      "19/19 [==============================] - 0s 5ms/step - loss: 0.8209 - accuracy: 0.5762 - val_loss: 1.0978 - val_accuracy: 0.4375\n",
      "Epoch 107/150\n",
      "19/19 [==============================] - 0s 5ms/step - loss: 0.8218 - accuracy: 0.5728 - val_loss: 0.9234 - val_accuracy: 0.5284\n",
      "Epoch 108/150\n",
      "19/19 [==============================] - 0s 5ms/step - loss: 0.8168 - accuracy: 0.5810 - val_loss: 1.0416 - val_accuracy: 0.4981\n",
      "Epoch 109/150\n",
      "19/19 [==============================] - 0s 5ms/step - loss: 0.8149 - accuracy: 0.5656 - val_loss: 1.0205 - val_accuracy: 0.4792\n",
      "Epoch 110/150\n",
      "19/19 [==============================] - 0s 5ms/step - loss: 0.8199 - accuracy: 0.5743 - val_loss: 1.7396 - val_accuracy: 0.3087\n",
      "Epoch 111/150\n",
      "19/19 [==============================] - 0s 5ms/step - loss: 0.8329 - accuracy: 0.5697 - val_loss: 1.0666 - val_accuracy: 0.5170\n",
      "Epoch 112/150\n",
      "19/19 [==============================] - 0s 5ms/step - loss: 0.8244 - accuracy: 0.5625 - val_loss: 1.2516 - val_accuracy: 0.3731\n",
      "Epoch 113/150\n",
      "19/19 [==============================] - 0s 5ms/step - loss: 0.8125 - accuracy: 0.5802 - val_loss: 0.9470 - val_accuracy: 0.5114\n",
      "Epoch 114/150\n",
      "19/19 [==============================] - 0s 5ms/step - loss: 0.8197 - accuracy: 0.5692 - val_loss: 0.9307 - val_accuracy: 0.5530\n",
      "Epoch 115/150\n",
      "19/19 [==============================] - 0s 5ms/step - loss: 0.8074 - accuracy: 0.5779 - val_loss: 1.0332 - val_accuracy: 0.4678\n",
      "Epoch 116/150\n",
      "19/19 [==============================] - 0s 5ms/step - loss: 0.8143 - accuracy: 0.5781 - val_loss: 0.8875 - val_accuracy: 0.5606\n",
      "Epoch 117/150\n",
      "19/19 [==============================] - 0s 5ms/step - loss: 0.8058 - accuracy: 0.5789 - val_loss: 0.9291 - val_accuracy: 0.5246\n",
      "Epoch 118/150\n",
      "19/19 [==============================] - 0s 5ms/step - loss: 0.8018 - accuracy: 0.5819 - val_loss: 0.9261 - val_accuracy: 0.5246\n",
      "Epoch 119/150\n",
      "19/19 [==============================] - 0s 5ms/step - loss: 0.8031 - accuracy: 0.5827 - val_loss: 0.9953 - val_accuracy: 0.4905\n",
      "Epoch 120/150\n",
      "19/19 [==============================] - 0s 5ms/step - loss: 0.8055 - accuracy: 0.5774 - val_loss: 0.9372 - val_accuracy: 0.5303\n",
      "Epoch 121/150\n",
      "19/19 [==============================] - 0s 5ms/step - loss: 0.8074 - accuracy: 0.5779 - val_loss: 1.0591 - val_accuracy: 0.4489\n",
      "Epoch 122/150\n",
      "19/19 [==============================] - 0s 5ms/step - loss: 0.8146 - accuracy: 0.5758 - val_loss: 0.9573 - val_accuracy: 0.5095\n",
      "Epoch 123/150\n",
      "19/19 [==============================] - 0s 5ms/step - loss: 0.8094 - accuracy: 0.5817 - val_loss: 1.0146 - val_accuracy: 0.5511\n",
      "Epoch 124/150\n",
      "19/19 [==============================] - 0s 5ms/step - loss: 0.8087 - accuracy: 0.5846 - val_loss: 0.9220 - val_accuracy: 0.5511\n",
      "Epoch 125/150\n",
      "19/19 [==============================] - 0s 5ms/step - loss: 0.7984 - accuracy: 0.5838 - val_loss: 1.0544 - val_accuracy: 0.4583\n",
      "Epoch 126/150\n",
      "19/19 [==============================] - 0s 5ms/step - loss: 0.8090 - accuracy: 0.5741 - val_loss: 1.1752 - val_accuracy: 0.4186\n",
      "Epoch 127/150\n",
      "19/19 [==============================] - 0s 5ms/step - loss: 0.8157 - accuracy: 0.5836 - val_loss: 0.9761 - val_accuracy: 0.4905\n",
      "Epoch 128/150\n",
      "19/19 [==============================] - 0s 5ms/step - loss: 0.8206 - accuracy: 0.5709 - val_loss: 0.9353 - val_accuracy: 0.5341\n",
      "Epoch 129/150\n",
      "19/19 [==============================] - 0s 5ms/step - loss: 0.8141 - accuracy: 0.5766 - val_loss: 0.9567 - val_accuracy: 0.5303\n",
      "Epoch 130/150\n",
      "19/19 [==============================] - 0s 5ms/step - loss: 0.8117 - accuracy: 0.5730 - val_loss: 0.9669 - val_accuracy: 0.5417\n",
      "Epoch 131/150\n",
      "19/19 [==============================] - 0s 5ms/step - loss: 0.8132 - accuracy: 0.5772 - val_loss: 0.9529 - val_accuracy: 0.5227\n",
      "Epoch 132/150\n",
      "19/19 [==============================] - 0s 5ms/step - loss: 0.8152 - accuracy: 0.5791 - val_loss: 0.9778 - val_accuracy: 0.5455\n",
      "Epoch 133/150\n",
      "19/19 [==============================] - 0s 5ms/step - loss: 0.8161 - accuracy: 0.5694 - val_loss: 0.9259 - val_accuracy: 0.5322\n",
      "Epoch 134/150\n",
      "19/19 [==============================] - 0s 5ms/step - loss: 0.8099 - accuracy: 0.5772 - val_loss: 0.8925 - val_accuracy: 0.5473\n",
      "Epoch 135/150\n",
      "19/19 [==============================] - 0s 5ms/step - loss: 0.7985 - accuracy: 0.5840 - val_loss: 0.9450 - val_accuracy: 0.5360\n",
      "Epoch 136/150\n",
      "19/19 [==============================] - 0s 5ms/step - loss: 0.8162 - accuracy: 0.5697 - val_loss: 1.0515 - val_accuracy: 0.4905\n",
      "Epoch 137/150\n",
      "19/19 [==============================] - 0s 5ms/step - loss: 0.8034 - accuracy: 0.5815 - val_loss: 0.9420 - val_accuracy: 0.5417\n",
      "Epoch 138/150\n",
      "19/19 [==============================] - 0s 5ms/step - loss: 0.8075 - accuracy: 0.5831 - val_loss: 0.9795 - val_accuracy: 0.5284\n",
      "Epoch 139/150\n",
      "19/19 [==============================] - 0s 5ms/step - loss: 0.8136 - accuracy: 0.5783 - val_loss: 1.0625 - val_accuracy: 0.4640\n",
      "Epoch 140/150\n",
      "19/19 [==============================] - 0s 5ms/step - loss: 0.8143 - accuracy: 0.5739 - val_loss: 1.0318 - val_accuracy: 0.5170\n",
      "Epoch 141/150\n",
      "19/19 [==============================] - 0s 5ms/step - loss: 0.8125 - accuracy: 0.5798 - val_loss: 0.9858 - val_accuracy: 0.5095\n",
      "Epoch 142/150\n",
      "19/19 [==============================] - 0s 5ms/step - loss: 0.8097 - accuracy: 0.5815 - val_loss: 1.0610 - val_accuracy: 0.4659\n",
      "Epoch 143/150\n",
      "19/19 [==============================] - 0s 5ms/step - loss: 0.8058 - accuracy: 0.5869 - val_loss: 1.0167 - val_accuracy: 0.5284\n",
      "Epoch 144/150\n",
      "19/19 [==============================] - 0s 5ms/step - loss: 0.8130 - accuracy: 0.5834 - val_loss: 1.0196 - val_accuracy: 0.5227\n",
      "Epoch 145/150\n",
      "19/19 [==============================] - 0s 5ms/step - loss: 0.8026 - accuracy: 0.5787 - val_loss: 0.9575 - val_accuracy: 0.5170\n",
      "Epoch 146/150\n",
      "19/19 [==============================] - 0s 5ms/step - loss: 0.8097 - accuracy: 0.5766 - val_loss: 0.9676 - val_accuracy: 0.5398\n",
      "Epoch 147/150\n",
      "19/19 [==============================] - 0s 5ms/step - loss: 0.8103 - accuracy: 0.5718 - val_loss: 0.9966 - val_accuracy: 0.5455\n",
      "Epoch 148/150\n",
      "19/19 [==============================] - 0s 5ms/step - loss: 0.8010 - accuracy: 0.5924 - val_loss: 0.9519 - val_accuracy: 0.5379\n",
      "Epoch 149/150\n",
      "19/19 [==============================] - 0s 5ms/step - loss: 0.7931 - accuracy: 0.5935 - val_loss: 1.0433 - val_accuracy: 0.4773\n",
      "Epoch 150/150\n",
      "19/19 [==============================] - 0s 5ms/step - loss: 0.7959 - accuracy: 0.5861 - val_loss: 0.9751 - val_accuracy: 0.5076\n"
     ]
    },
    {
     "data": {
      "text/plain": "<keras.src.callbacks.History at 0x297f2dab8d0>"
     },
     "execution_count": 4,
     "metadata": {},
     "output_type": "execute_result"
    }
   ],
   "source": [
    "n_input = 7 # Number of features\n",
    "n_hidden = 256  # Number of hidden nodes\n",
    "n_out = 3 # Number of classes\n",
    "\"\"\"\n",
    "wine_df = pd.read_csv(\"Dataset/winequalityN.csv\")\n",
    "wine_df['quality'] = wine_df.quality.apply(lambda q: 0 if q <= 5 else 1 if q <= 6 else 2)\n",
    "wine_df['type'] = wine_df.type.apply(lambda q: 0 if q == 'white' else 1)\n",
    "wine_df = wine_df.dropna()\n",
    "\n",
    "n_samples = y_train.shape[0] + y_test.shape[0]\n",
    "y_train = wine_df['quality'].to_numpy()[:round(n_samples * 0.9)]\n",
    "X_train = wine_df.drop(columns=['quality']).to_numpy()[:round(n_samples * 0.9)]\n",
    "y_test = wine_df['quality'].to_numpy()[round(n_samples * 0.9):]\n",
    "X_test = wine_df.drop(columns=['quality']).to_numpy()[round(n_samples * 0.9):]\n",
    "\"\"\"\n",
    "\n",
    "# Train our model with the Scikit-learn K-nearest-neighbors algorithm using our features (X_train) and labels (y_train)\n",
    "model = keras.Sequential([\n",
    "    keras.layers.Dense(n_hidden, input_dim=n_input, activation='selu'),\n",
    "    keras.layers.BatchNormalization(),\n",
    "    keras.layers.Dense(n_hidden, activation='selu'),\n",
    "    keras.layers.BatchNormalization(),\n",
    "    keras.layers.Dense(n_hidden, activation='selu'),\n",
    "    keras.layers.BatchNormalization(),\n",
    "    keras.layers.Dense(n_hidden, activation='selu'),\n",
    "    keras.layers.BatchNormalization(),\n",
    "    keras.layers.Dense(n_hidden, activation='selu'),\n",
    "    keras.layers.Dense(n_out, activation='softmax')\n",
    "])\n",
    "class_weights = class_weight.compute_class_weight(class_weight='balanced',\n",
    "                                                 classes=np.unique(y_train['quality']),\n",
    "                                                 y=y_train['quality'])\n",
    "print(class_weights)\n",
    "model.compile(loss='sparse_categorical_crossentropy', optimizer=keras.optimizers.Adam(), metrics=['accuracy'])\n",
    "model.fit(X_train, y_train, validation_data=(X_test, y_test), epochs=150, class_weight=dict(zip(np.unique(y_train['quality']), class_weights)), batch_size=256)"
   ]
  },
  {
   "cell_type": "code",
   "execution_count": 5,
   "id": "78142fce",
   "metadata": {
    "ExecuteTime": {
     "start_time": "2023-11-14T23:41:30.225944Z",
     "end_time": "2023-11-14T23:41:30.231787Z"
    }
   },
   "outputs": [
    {
     "data": {
      "text/plain": "      type  volatile_acidity  residual_sugar  chlorides  total_sulfur_dioxide  \\\n0        1              0.59             2.5      0.093                  58.0   \n1        0              0.18             1.5      0.043                 155.0   \n2        1              0.21             1.6      0.067                  10.0   \n4        0              0.18             1.4      0.047                 106.0   \n5        0              0.27            15.2      0.046                  41.0   \n...    ...               ...             ...        ...                   ...   \n5268     0              0.29             9.9      0.058                 115.0   \n5269     0              0.19             5.1      0.034                 204.0   \n5270     0              0.26             8.2      0.046                 183.0   \n5271     0              0.28             7.7      0.045                 195.0   \n5272     1              0.63             2.4      0.090                  37.0   \n\n      density  alcohol  \n0     1.00020      9.3  \n1     0.99238     10.2  \n2     0.99552     11.1  \n4     0.99383     10.5  \n5     0.99665     10.9  \n...       ...      ...  \n5268  0.99567     10.9  \n5269  0.99420     10.1  \n5270  0.99584      9.4  \n5271  0.99540     11.0  \n5272  0.99790      9.7  \n\n[4745 rows x 7 columns]",
      "text/html": "<div>\n<style scoped>\n    .dataframe tbody tr th:only-of-type {\n        vertical-align: middle;\n    }\n\n    .dataframe tbody tr th {\n        vertical-align: top;\n    }\n\n    .dataframe thead th {\n        text-align: right;\n    }\n</style>\n<table border=\"1\" class=\"dataframe\">\n  <thead>\n    <tr style=\"text-align: right;\">\n      <th></th>\n      <th>type</th>\n      <th>volatile_acidity</th>\n      <th>residual_sugar</th>\n      <th>chlorides</th>\n      <th>total_sulfur_dioxide</th>\n      <th>density</th>\n      <th>alcohol</th>\n    </tr>\n  </thead>\n  <tbody>\n    <tr>\n      <th>0</th>\n      <td>1</td>\n      <td>0.59</td>\n      <td>2.5</td>\n      <td>0.093</td>\n      <td>58.0</td>\n      <td>1.00020</td>\n      <td>9.3</td>\n    </tr>\n    <tr>\n      <th>1</th>\n      <td>0</td>\n      <td>0.18</td>\n      <td>1.5</td>\n      <td>0.043</td>\n      <td>155.0</td>\n      <td>0.99238</td>\n      <td>10.2</td>\n    </tr>\n    <tr>\n      <th>2</th>\n      <td>1</td>\n      <td>0.21</td>\n      <td>1.6</td>\n      <td>0.067</td>\n      <td>10.0</td>\n      <td>0.99552</td>\n      <td>11.1</td>\n    </tr>\n    <tr>\n      <th>4</th>\n      <td>0</td>\n      <td>0.18</td>\n      <td>1.4</td>\n      <td>0.047</td>\n      <td>106.0</td>\n      <td>0.99383</td>\n      <td>10.5</td>\n    </tr>\n    <tr>\n      <th>5</th>\n      <td>0</td>\n      <td>0.27</td>\n      <td>15.2</td>\n      <td>0.046</td>\n      <td>41.0</td>\n      <td>0.99665</td>\n      <td>10.9</td>\n    </tr>\n    <tr>\n      <th>...</th>\n      <td>...</td>\n      <td>...</td>\n      <td>...</td>\n      <td>...</td>\n      <td>...</td>\n      <td>...</td>\n      <td>...</td>\n    </tr>\n    <tr>\n      <th>5268</th>\n      <td>0</td>\n      <td>0.29</td>\n      <td>9.9</td>\n      <td>0.058</td>\n      <td>115.0</td>\n      <td>0.99567</td>\n      <td>10.9</td>\n    </tr>\n    <tr>\n      <th>5269</th>\n      <td>0</td>\n      <td>0.19</td>\n      <td>5.1</td>\n      <td>0.034</td>\n      <td>204.0</td>\n      <td>0.99420</td>\n      <td>10.1</td>\n    </tr>\n    <tr>\n      <th>5270</th>\n      <td>0</td>\n      <td>0.26</td>\n      <td>8.2</td>\n      <td>0.046</td>\n      <td>183.0</td>\n      <td>0.99584</td>\n      <td>9.4</td>\n    </tr>\n    <tr>\n      <th>5271</th>\n      <td>0</td>\n      <td>0.28</td>\n      <td>7.7</td>\n      <td>0.045</td>\n      <td>195.0</td>\n      <td>0.99540</td>\n      <td>11.0</td>\n    </tr>\n    <tr>\n      <th>5272</th>\n      <td>1</td>\n      <td>0.63</td>\n      <td>2.4</td>\n      <td>0.090</td>\n      <td>37.0</td>\n      <td>0.99790</td>\n      <td>9.7</td>\n    </tr>\n  </tbody>\n</table>\n<p>4745 rows × 7 columns</p>\n</div>"
     },
     "execution_count": 5,
     "metadata": {},
     "output_type": "execute_result"
    }
   ],
   "source": [
    "X_train"
   ]
  },
  {
   "cell_type": "code",
   "execution_count": 6,
   "id": "7c8f56c4",
   "metadata": {
    "ExecuteTime": {
     "start_time": "2023-11-14T23:41:31.957766Z",
     "end_time": "2023-11-14T23:41:31.964883Z"
    }
   },
   "outputs": [
    {
     "data": {
      "text/plain": "      quality\n0           1\n1           0\n2           2\n4           2\n5           1\n...       ...\n5268        0\n5269        0\n5270        0\n5271        1\n5272        1\n\n[4745 rows x 1 columns]",
      "text/html": "<div>\n<style scoped>\n    .dataframe tbody tr th:only-of-type {\n        vertical-align: middle;\n    }\n\n    .dataframe tbody tr th {\n        vertical-align: top;\n    }\n\n    .dataframe thead th {\n        text-align: right;\n    }\n</style>\n<table border=\"1\" class=\"dataframe\">\n  <thead>\n    <tr style=\"text-align: right;\">\n      <th></th>\n      <th>quality</th>\n    </tr>\n  </thead>\n  <tbody>\n    <tr>\n      <th>0</th>\n      <td>1</td>\n    </tr>\n    <tr>\n      <th>1</th>\n      <td>0</td>\n    </tr>\n    <tr>\n      <th>2</th>\n      <td>2</td>\n    </tr>\n    <tr>\n      <th>4</th>\n      <td>2</td>\n    </tr>\n    <tr>\n      <th>5</th>\n      <td>1</td>\n    </tr>\n    <tr>\n      <th>...</th>\n      <td>...</td>\n    </tr>\n    <tr>\n      <th>5268</th>\n      <td>0</td>\n    </tr>\n    <tr>\n      <th>5269</th>\n      <td>0</td>\n    </tr>\n    <tr>\n      <th>5270</th>\n      <td>0</td>\n    </tr>\n    <tr>\n      <th>5271</th>\n      <td>1</td>\n    </tr>\n    <tr>\n      <th>5272</th>\n      <td>1</td>\n    </tr>\n  </tbody>\n</table>\n<p>4745 rows × 1 columns</p>\n</div>"
     },
     "execution_count": 6,
     "metadata": {},
     "output_type": "execute_result"
    }
   ],
   "source": [
    "y_train"
   ]
  },
  {
   "cell_type": "code",
   "execution_count": 7,
   "id": "77aa0aee",
   "metadata": {
    "ExecuteTime": {
     "start_time": "2023-11-14T23:41:33.098164Z",
     "end_time": "2023-11-14T23:41:33.242011Z"
    }
   },
   "outputs": [
    {
     "name": "stdout",
     "output_type": "stream",
     "text": [
      "17/17 [==============================] - 0s 907us/step\n"
     ]
    }
   ],
   "source": [
    "# Evaluate model performance using the features from the test set (X_test)\n",
    "y_pred = model.predict(X_test)\n",
    "y_pred = np.argmax(y_pred, axis=1)\n",
    "# Compare predictions (y_pred) with the labels in the test set (y_test)\n",
    "metrics = classification_report(y_test, y_pred, output_dict=True)\n",
    "results = confusion_matrix(y_test, y_pred)"
   ]
  },
  {
   "cell_type": "code",
   "execution_count": 8,
   "id": "dd3dddab",
   "metadata": {
    "ExecuteTime": {
     "start_time": "2023-11-14T23:41:34.529905Z",
     "end_time": "2023-11-14T23:41:34.535925Z"
    }
   },
   "outputs": [
    {
     "name": "stdout",
     "output_type": "stream",
     "text": [
      "{'0': {'precision': 0.7115384615384616, 'recall': 0.5235849056603774, 'f1-score': 0.6032608695652174, 'support': 212.0}, '1': {'precision': 0.4486486486486487, 'recall': 0.3878504672897196, 'f1-score': 0.41604010025062654, 'support': 214.0}, '2': {'precision': 0.39572192513368987, 'recall': 0.7254901960784313, 'f1-score': 0.5121107266435987, 'support': 102.0}, 'accuracy': 0.5075757575757576, 'macro avg': {'precision': 0.5186363451069333, 'recall': 0.5456418563428428, 'f1-score': 0.5104705654864808, 'support': 528.0}, 'weighted avg': {'precision': 0.5439784110238656, 'recall': 0.5075757575757576, 'f1-score': 0.5097711740892183, 'support': 528.0}}\n"
     ]
    }
   ],
   "source": [
    "print(metrics)"
   ]
  },
  {
   "cell_type": "code",
   "execution_count": 9,
   "id": "4d944032",
   "metadata": {
    "ExecuteTime": {
     "start_time": "2023-11-14T23:41:35.737951Z",
     "end_time": "2023-11-14T23:41:35.946626Z"
    }
   },
   "outputs": [
    {
     "data": {
      "text/plain": "<Figure size 640x480 with 2 Axes>",
      "image/png": "[encoded data removed]"
     },
     "metadata": {},
     "output_type": "display_data"
    }
   ],
   "source": [
    "# Create the confusion matrix as a figure, we will later store it as a PNG image file\n",
    "df_cm = pd.DataFrame(results, ['True Low Quality', 'True Good Quality', 'True High Quality'],\n",
    "                     ['Pred Low Quality', 'Pred Good Quality', 'Pred High Quality'])\n",
    "cm = sns.heatmap(df_cm, annot=True, fmt='g')\n",
    "sns.set(rc={'figure.figsize':(11.7,8.27)})\n",
    "fig = cm.get_figure()"
   ]
  },
  {
   "cell_type": "code",
   "execution_count": 10,
   "id": "bcfdfc4f",
   "metadata": {
    "ExecuteTime": {
     "start_time": "2023-11-14T23:41:44.071964Z",
     "end_time": "2023-11-14T23:42:02.068560Z"
    }
   },
   "outputs": [
    {
     "name": "stdout",
     "output_type": "stream",
     "text": [
      "Connected. Call `.close()` to terminate connection gracefully.\n"
     ]
    },
    {
     "data": {
      "text/plain": "  0%|          | 0/6 [00:00<?, ?it/s]",
      "application/vnd.jupyter.widget-view+json": {
       "version_major": 2,
       "version_minor": 0,
       "model_id": "37d11a63e59d4ec6a868ccd29a2070d4"
      }
     },
     "metadata": {},
     "output_type": "display_data"
    },
    {
     "name": "stdout",
     "output_type": "stream",
     "text": [
      "Model created, explore it at https://c.app.hopsworks.ai:443/p/191638/models/wine_model/1\n"
     ]
    },
    {
     "data": {
      "text/plain": "Model(name: 'wine_model', version: 1)"
     },
     "execution_count": 10,
     "metadata": {},
     "output_type": "execute_result"
    }
   ],
   "source": [
    "# We will now upload our model to the Hopsworks Model Registry. First get an object for the model registry.\n",
    "mr = project.get_model_registry()\n",
    "\n",
    "# The contents of the 'iris_model' directory will be saved to the model registry. Create the dir, first.\n",
    "model_dir=\"wine_model\"\n",
    "if os.path.isdir(model_dir) == False:\n",
    "    os.mkdir(model_dir)\n",
    "\n",
    "# Save both our model and the confusion matrix to 'model_dir', whose contents will be uploaded to the model registry\n",
    "model.save_weights(model_dir + '/wine_model.h5')\n",
    "fig.savefig(model_dir + \"/confusion_matrix.png\")    \n",
    "\n",
    "# Specify the schema of the model's input/output using the features (X_train) and labels (y_train)\n",
    "input_schema = Schema(X_train)\n",
    "output_schema = Schema(y_train)\n",
    "model_schema = ModelSchema(input_schema, output_schema)\n",
    "\n",
    "# Create an entry in the model registry that includes the model's name, desc, metrics\n",
    "wine_model = mr.python.create_model(\n",
    "    name=\"wine_model\",\n",
    "    metrics={\"accuracy\" : metrics['accuracy']},\n",
    "    model_schema=model_schema,\n",
    "    description=\"Wine Quality Predictor\"\n",
    ")\n",
    "\n",
    "# Upload the model to the model registry, including all files in 'model_dir'\n",
    "wine_model.save(model_dir)"
   ]
  },
  {
   "cell_type": "code",
   "execution_count": null,
   "id": "f707b056",
   "metadata": {},
   "outputs": [],
   "source": []
  }
 ],
 "metadata": {
  "kernelspec": {
   "display_name": "Python 3 (ipykernel)",
   "language": "python",
   "name": "python3"
  },
  "language_info": {
   "codemirror_mode": {
    "name": "ipython",
    "version": 3
   },
   "file_extension": ".py",
   "mimetype": "text/x-python",
   "name": "python",
   "nbconvert_exporter": "python",
   "pygments_lexer": "ipython3",
   "version": "3.10.0"
  }
 },
 "nbformat": 4,
 "nbformat_minor": 5
}
